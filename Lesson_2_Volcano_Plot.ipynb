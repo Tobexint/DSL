{
 "cells": [
  {
   "cell_type": "markdown",
   "id": "500e1ff4",
   "metadata": {
    "id": "500e1ff4"
   },
   "source": [
    "<img src=\"materials/images/introduction-to-visualization-cover.png\"/>"
   ]
  },
  {
   "cell_type": "markdown",
   "id": "efb32099",
   "metadata": {
    "id": "efb32099"
   },
   "source": [
    "\n",
    "# 👋 Welcome, before you start\n",
    "<br>\n",
    "\n",
    "### 📚 Module overview\n",
    "\n",
    "We will go through two lessons with you:\n",
    "\n",
    "- [**Lesson 1: Heatmap**](Lesson_1_Heatmap.ipynb)\n",
    "- <font color=#E98300>**Lesson 2: Volcano Plot**</font>    `📍You are here.`\n",
    "</br>\n",
    "\n",
    "\n",
    "\n",
    "<div class=\"alert alert-block alert-info\">\n",
    "<h3>⌨️ Keyboard shortcut</h3>\n",
    "\n",
    "These common shortcut could save your time going through this notebook:\n",
    "- Run the current cell: **`Enter + Shift`**.\n",
    "- Add a cell above the current cell: Press **`A`**.\n",
    "- Add a cell below the current cell: Press **`B`**.\n",
    "- Change a code cell to markdown cell: Select the cell, and then press **`M`**.\n",
    "- Delete a cell: Press **`D`** twice.\n",
    "\n",
    "Need more help with keyboard shortcut? Press **`H`** to look it up.\n",
    "</div>"
   ]
  },
  {
   "cell_type": "markdown",
   "id": "f9fb9bee",
   "metadata": {
    "id": "f9fb9bee"
   },
   "source": [
    "---"
   ]
  },
  {
   "cell_type": "markdown",
   "id": "24578ea8",
   "metadata": {
    "id": "24578ea8"
   },
   "source": [
    "# Lesson 2: Volcano Plot"
   ]
  },
  {
   "cell_type": "markdown",
   "id": "WVzSbmdDZ3Mn",
   "metadata": {
    "id": "WVzSbmdDZ3Mn"
   },
   "source": [
    "⏲ `This module should take about 20 minutes to complete.`"
   ]
  },
  {
   "cell_type": "markdown",
   "id": "7fb61ea7",
   "metadata": {
    "id": "7fb61ea7"
   },
   "source": [
    "A **<mark>volcano plot</mark>** is a 2-dimensional scatter plot that has the shape of a volcano. It makes it easy to visualize the expression of thousands of genes obtained from -omics research (e.g., transcriptomics, genomics, proteomics, etc.) and to identify genes with significant changes. It is used to plot the log fold change in the observation between two conditions (e.g., the gene expression between comparison and control conditions) on the x-axis. On the y-axis is the corresponding p-value for each observation, representing the statistical significance of the change (if any) between the different conditions.\n",
    "\n",
    "A volcano plot can visualize a lot of complex information in one plot. The wider the dispersion of data points in the volcano plot the greater the significance in gene expression changes between two conditions."
   ]
  },
  {
   "cell_type": "markdown",
   "id": "4be45d24",
   "metadata": {
    "id": "4be45d24"
   },
   "source": [
    "<img src=\"materials/images/images_volcano_plot/log2_plot.png\"/>"
   ]
  },
  {
   "cell_type": "markdown",
   "id": "39c85875",
   "metadata": {
    "id": "39c85875"
   },
   "source": [
    "In the volcano plot shown above, the x-axis displays the magnitude of the log<sub>2</sub>-fold change in gene expression between control and treatment conditions. On the y-axis is the level of statistical significance of the observed change. For example, the red points indicate genes that display both large-magnitude fold changes (x-axis) as well as high statistical significance (-log<sub>10</sub> p-value, y-axis). The dashed green line shows the p-vaule cutoff of 0.01 (10<sup>-2</sup>) with points above the line having a p-value < 0.01 and points below the line having a p-value > 0.01. The vertical dashed blue lines indicate log<sub>2</sub>-fold changes of ±2. **Therefore, all red dots exhibit log<sub>2</sub>-fold changes beyond ±2 (four-fold change) and statistical significance less than 0.01.**"
   ]
  },
  {
   "cell_type": "markdown",
   "id": "67ff7695",
   "metadata": {
    "id": "67ff7695"
   },
   "source": [
    "<div class=\"alert alert-block alert-success\">\n",
    "<b>Reading a Volcano Plot</b>\n",
    "    \n",
    "To be clear, the <b>x-axis</b> of a Volcano plot represents the amount of change following a condition or experiment. The zero (0) point on the x-axis represents no change. For every point increment to the right of 0, the amount of the change doubles. For example, 1 on the x-axis represents an increase of twice the original (control) value, 2 on the x-axis represents an increase of 4 times the original value, and 3 on the x-axis represents an increase of 8 times the original value. Every point below 0 is interpreted similarly except that it represents a decrease in the original (control) value.\n",
    "    \n",
    "The <b>y-axis</b> of a Volcano plot represents the significance of the change on the x-axis in p-values (probability values). The zero (0) point on the y-axis represents a p-value of 1.0. For every point increase on the y-axis, the decimal point of the p-value moves one place to the left. For example, 2 on the y-axis is equivalent to a p-value of .01, which can be interpreted as there's appoxiamtely a 1% chance that you could get the value that you observed, assuming that there is no difference between the control and experimental conditions. In other words, it suggests that the observation appears to be significant. (A 3 on the y-axis would represent a p-value of .001, a 4 would represent a p-value of .0001, etc.)\n",
    "</div>"
   ]
  },
  {
   "cell_type": "markdown",
   "id": "6aedb316",
   "metadata": {
    "id": "6aedb316"
   },
   "source": [
    "---"
   ]
  },
  {
   "cell_type": "markdown",
   "id": "21d37ffc",
   "metadata": {
    "id": "21d37ffc"
   },
   "source": [
    "# Example Volcano Plot of Gene Expression"
   ]
  },
  {
   "cell_type": "markdown",
   "id": "34620380",
   "metadata": {
    "id": "34620380"
   },
   "source": [
    "The volcano plot enables the ability to quickly see the effect (if any) of an experiment (e.g., change in protein expression) between two conditions in terms of both an increase and decrease of the observed value along with the statistical significance of any observed change."
   ]
  },
  {
   "cell_type": "markdown",
   "id": "1cda1ee4",
   "metadata": {
    "id": "1cda1ee4"
   },
   "source": [
    "### ✅ `Run` each of the cells below:"
   ]
  },
  {
   "cell_type": "markdown",
   "id": "3ee07047",
   "metadata": {
    "id": "3ee07047"
   },
   "source": [
    "### Sample data set\n",
    "The sample data below shows **gene names**, **log<sub>2</sub>-fold changes**, and the **p-values** for the observed changes."
   ]
  },
  {
   "cell_type": "code",
   "execution_count": 1,
   "id": "85ddf3e0",
   "metadata": {
    "id": "85ddf3e0"
   },
   "outputs": [
    {
     "data": {
      "text/html": [
       "<div>\n",
       "<style scoped>\n",
       "    .dataframe tbody tr th:only-of-type {\n",
       "        vertical-align: middle;\n",
       "    }\n",
       "\n",
       "    .dataframe tbody tr th {\n",
       "        vertical-align: top;\n",
       "    }\n",
       "\n",
       "    .dataframe thead th {\n",
       "        text-align: right;\n",
       "    }\n",
       "</style>\n",
       "<table border=\"1\" class=\"dataframe\">\n",
       "  <thead>\n",
       "    <tr style=\"text-align: right;\">\n",
       "      <th></th>\n",
       "      <th>GeneNames</th>\n",
       "      <th>log2FC</th>\n",
       "      <th>p-value</th>\n",
       "    </tr>\n",
       "  </thead>\n",
       "  <tbody>\n",
       "    <tr>\n",
       "      <th>0</th>\n",
       "      <td>LOC_Os09g01000.1</td>\n",
       "      <td>-1.886539</td>\n",
       "      <td>1.250000e-55</td>\n",
       "    </tr>\n",
       "    <tr>\n",
       "      <th>1</th>\n",
       "      <td>LOC_Os12g42876.1</td>\n",
       "      <td>3.231611</td>\n",
       "      <td>1.050000e-55</td>\n",
       "    </tr>\n",
       "    <tr>\n",
       "      <th>2</th>\n",
       "      <td>LOC_Os12g42884.2</td>\n",
       "      <td>3.179004</td>\n",
       "      <td>2.590000e-54</td>\n",
       "    </tr>\n",
       "    <tr>\n",
       "      <th>3</th>\n",
       "      <td>LOC_Os03g16920.1</td>\n",
       "      <td>5.290677</td>\n",
       "      <td>4.690000e-54</td>\n",
       "    </tr>\n",
       "    <tr>\n",
       "      <th>4</th>\n",
       "      <td>LOC_Os05g47540.4</td>\n",
       "      <td>4.096862</td>\n",
       "      <td>2.190000e-54</td>\n",
       "    </tr>\n",
       "  </tbody>\n",
       "</table>\n",
       "</div>"
      ],
      "text/plain": [
       "          GeneNames    log2FC       p-value\n",
       "0  LOC_Os09g01000.1 -1.886539  1.250000e-55\n",
       "1  LOC_Os12g42876.1  3.231611  1.050000e-55\n",
       "2  LOC_Os12g42884.2  3.179004  2.590000e-54\n",
       "3  LOC_Os03g16920.1  5.290677  4.690000e-54\n",
       "4  LOC_Os05g47540.4  4.096862  2.190000e-54"
      ]
     },
     "execution_count": 1,
     "metadata": {},
     "output_type": "execute_result"
    }
   ],
   "source": [
    "import pandas as pd\n",
    "from bioinfokit import analys, visuz\n",
    "\n",
    "df = pd.read_csv(\"data/data_volcano_plot/volcano_data.csv\")\n",
    "\n",
    "df.head()"
   ]
  },
  {
   "cell_type": "markdown",
   "id": "3a78e60b",
   "metadata": {
    "id": "3a78e60b"
   },
   "source": [
    "### Sample Plot\n",
    "The sample plot below indicates that the threshold of significance is a log<sub>2</sub>-fold change beyond ±1. So up-regulated genes have a log<sub>2</sub>-fold change threshold of 1, and down-regulated genes have a log<sub>2</sub>-fold change threshold of -1. The p-value threshold for significance is set to 0.05.\n",
    "\n",
    "The gray points indicate non-significant points. The red points indicate significant up-regulated genes and the black points indicate significant down-regulated genes."
   ]
  },
  {
   "cell_type": "code",
   "execution_count": 2,
   "id": "0180c4b2",
   "metadata": {
    "id": "0180c4b2"
   },
   "outputs": [
    {
     "name": "stderr",
     "output_type": "stream",
     "text": [
      "/opt/conda/lib/python3.10/site-packages/bioinfokit/visuz.py:153: FutureWarning: A value is trying to be set on a copy of a DataFrame or Series through chained assignment using an inplace method.\n",
      "The behavior will change in pandas 3.0. This inplace method will never work because the intermediate object on which we are setting values always behaves as a copy.\n",
      "\n",
      "For example, when doing 'df[col].method(value, inplace=True)', try using 'df.method({col: value}, inplace=True)' or df[col] = df[col].method(value) instead, to perform the operation inplace on the original object.\n",
      "\n",
      "\n",
      "  df['color_add_axy'].fillna(color[1], inplace=True)  # intermediate\n",
      "findfont: Font family 'Arial' not found.\n",
      "findfont: Font family 'Arial' not found.\n",
      "findfont: Font family 'Arial' not found.\n",
      "findfont: Font family 'Arial' not found.\n",
      "findfont: Font family 'Arial' not found.\n",
      "findfont: Font family 'Arial' not found.\n",
      "findfont: Font family 'Arial' not found.\n",
      "findfont: Font family ['Arial'] not found. Falling back to DejaVu Sans.\n",
      "findfont: Font family 'Arial' not found.\n",
      "findfont: Font family 'Arial' not found.\n",
      "findfont: Font family 'Arial' not found.\n",
      "findfont: Font family 'Arial' not found.\n",
      "findfont: Font family 'Arial' not found.\n",
      "findfont: Font family 'Arial' not found.\n",
      "findfont: Font family 'Arial' not found.\n",
      "findfont: Font family 'Arial' not found.\n",
      "findfont: Font family 'Arial' not found.\n",
      "findfont: Font family 'Arial' not found.\n",
      "findfont: Font family 'Arial' not found.\n",
      "findfont: Font family 'Arial' not found.\n",
      "findfont: Font family 'Arial' not found.\n",
      "findfont: Font family 'Arial' not found.\n",
      "findfont: Font family 'Arial' not found.\n",
      "findfont: Font family 'Arial' not found.\n",
      "findfont: Font family 'Arial' not found.\n",
      "findfont: Font family 'Arial' not found.\n",
      "findfont: Font family 'Arial' not found.\n",
      "findfont: Font family 'Arial' not found.\n",
      "findfont: Font family 'Arial' not found.\n",
      "findfont: Font family 'Arial' not found.\n",
      "findfont: Font family 'Arial' not found.\n",
      "findfont: Font family 'Arial' not found.\n",
      "findfont: Font family 'Arial' not found.\n",
      "findfont: Font family 'Arial' not found.\n",
      "findfont: Font family 'Arial' not found.\n",
      "findfont: Font family 'Arial' not found.\n",
      "findfont: Font family 'Arial' not found.\n"
     ]
    },
    {
     "data": {
      "image/png": "[encoded data removed]",
      "text/plain": [
       "<Figure size 500x500 with 1 Axes>"
      ]
     },
     "metadata": {},
     "output_type": "display_data"
    }
   ],
   "source": [
    "visuz.GeneExpression.volcano(df=df, lfc=\"log2FC\", pv=\"p-value\", show=True, plotlegend=True,\n",
    "                                    sign_line=True, color=(\"#EC004F\", \"grey\", \"black\"))"
   ]
  },
  {
   "cell_type": "markdown",
   "id": "d822c3ae",
   "metadata": {
    "id": "d822c3ae"
   },
   "source": [
    "### Modify the thresholds\n",
    "The sample plot below is displayed with a log<sub>2</sub>-fold threshold of -1 and a p-value threshold of < 0.05 for significantly down-regulted genes. And a log<sub>2</sub>-fold threshold of 2 and a p-value threshold of < 0.01 for significantly up-regulted genes.\n",
    "\n",
    "The light gray points indicate non-significant points. The pink points indicate significant down-regulated genes (i.e., log<sub>2</sub>-fold < -1 and p-value < 0.05)  and the cardinal points indicate significant up-regulated genes (log<sub>2</sub>-fold > 2 and p-value < 0.01)."
   ]
  },
  {
   "cell_type": "code",
   "execution_count": null,
   "id": "a7cd2dc9",
   "metadata": {
    "id": "a7cd2dc9"
   },
   "outputs": [],
   "source": [
    "visuz.GeneExpression.volcano(df=df, lfc='log2FC', pv='p-value', lfc_thr=(2, 1), pv_thr=(0.01, 0.05),\n",
    "    color=(\"#A31746\", \"lightgrey\", \"#FF9595\"), show=True, plotlegend=True, legendpos='upper right',\n",
    "    sign_line=True, legendanchor=(1.46,1))"
   ]
  },
  {
   "cell_type": "markdown",
   "id": "2843f81a",
   "metadata": {
    "id": "2843f81a"
   },
   "source": [
    "## The plots can be customized"
   ]
  },
  {
   "cell_type": "markdown",
   "id": "bc389f06",
   "metadata": {
    "id": "bc389f06"
   },
   "source": [
    "### Add gene labels"
   ]
  },
  {
   "cell_type": "code",
   "execution_count": null,
   "id": "154ef0b2",
   "metadata": {
    "id": "154ef0b2"
   },
   "outputs": [],
   "source": [
    "visuz.GeneExpression.volcano(df=df, lfc='log2FC', pv='p-value', lfc_thr=(2, 1), pv_thr=(0.01, 0.05),\n",
    "    color=(\"#A31746\", \"lightgrey\", \"#FF9595\"), show=True, plotlegend=True, legendpos='upper right',\n",
    "    sign_line=True, legendanchor=(1.46,1), genenames=(\"LOC_Os09g01000.1\", \"LOC_Os01g50030.1\", \"LOC_Os06g40940.3\", \"LOC_Os03g03720.1\"),\n",
    "    gstyle=2, geneid=\"GeneNames\")"
   ]
  },
  {
   "cell_type": "markdown",
   "id": "5da29f90",
   "metadata": {
    "id": "5da29f90"
   },
   "source": [
    "### Add gene names"
   ]
  },
  {
   "cell_type": "code",
   "execution_count": null,
   "id": "7b23ba05",
   "metadata": {
    "id": "7b23ba05"
   },
   "outputs": [],
   "source": [
    "visuz.GeneExpression.volcano(df=df, lfc='log2FC', pv='p-value', lfc_thr=(2, 1), pv_thr=(0.01, 0.05),\n",
    "    color=(\"#A31746\", \"lightgrey\", \"#FF9595\"), show=True, plotlegend=True, legendpos='upper right',\n",
    "    sign_line=True, legendanchor=(1.46,1),\n",
    "    genenames=({\"LOC_Os09g01000.1\":\"EP\", \"LOC_Os01g50030.1\":\"CPuORF25\", \"LOC_Os06g40940.3\":\"GDH\", \"LOC_Os03g03720.1\":\"G3PD\"}),\n",
    "    gstyle=2, geneid=\"GeneNames\")"
   ]
  },
  {
   "cell_type": "markdown",
   "id": "0ef7a9c7",
   "metadata": {
    "id": "0ef7a9c7"
   },
   "source": [
    "---"
   ]
  },
  {
   "cell_type": "markdown",
   "id": "e48286c4",
   "metadata": {
    "id": "e48286c4"
   },
   "source": [
    "# 🌟 You are done!\n",
    "<br>\n",
    "Review previous lessons often to consolidate the learnings.\n",
    "\n",
    "    \n",
    "- [**Lesson 1: Heatmap**](Lesson_1_Heatmap.ipynb)\n",
    "\n",
    "- [**Lesson 2: Volcano Plot**](Lesson_2_Volcano_Plot.ipynb)"
   ]
  },
  {
   "cell_type": "markdown",
   "id": "3d054d9d",
   "metadata": {
    "id": "3d054d9d"
   },
   "source": [
    "---"
   ]
  },
  {
   "cell_type": "markdown",
   "id": "IO31BnnFD2t6",
   "metadata": {
    "id": "IO31BnnFD2t6"
   },
   "source": [
    "# Contributions & acknowledgment"
   ]
  },
  {
   "cell_type": "markdown",
   "id": "kBGZwxpwD6Sn",
   "metadata": {
    "id": "kBGZwxpwD6Sn"
   },
   "source": [
    "Thanks Antony Ross for contributing the content for this notebook."
   ]
  },
  {
   "cell_type": "markdown",
   "id": "Kb15poS5D1Ww",
   "metadata": {
    "id": "Kb15poS5D1Ww"
   },
   "source": [
    "---"
   ]
  },
  {
   "cell_type": "markdown",
   "id": "J28rD0IOHk1T",
   "metadata": {
    "id": "J28rD0IOHk1T"
   },
   "source": [
    "Copyright (c) 2022 Stanford Data Ocean (SDO)\n",
    "\n",
    "All rights reserved."
   ]
  }
 ],
 "metadata": {
  "colab": {
   "provenance": []
  },
  "kernelspec": {
   "display_name": "Python 3 (ipykernel)",
   "language": "python",
   "name": "python3"
  },
  "language_info": {
   "codemirror_mode": {
    "name": "ipython",
    "version": 3
   },
   "file_extension": ".py",
   "mimetype": "text/x-python",
   "name": "python",
   "nbconvert_exporter": "python",
   "pygments_lexer": "ipython3",
   "version": "3.10.14"
  }
 },
 "nbformat": 4,
 "nbformat_minor": 5
}
