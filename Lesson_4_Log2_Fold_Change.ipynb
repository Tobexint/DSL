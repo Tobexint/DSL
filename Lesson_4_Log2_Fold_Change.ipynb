{
 "cells": [
  {
   "cell_type": "markdown",
   "id": "c935fc22",
   "metadata": {
    "id": "c935fc22"
   },
   "source": [
    "<img src=\"materials/images/introduction-to-statistics-II-cover.png\"/>"
   ]
  },
  {
   "cell_type": "markdown",
   "id": "7660c99f",
   "metadata": {
    "id": "7660c99f"
   },
   "source": [
    "\n",
    "# 👋 Welcome, before you start\n",
    "<br>\n",
    "\n",
    "### 📚 Module overview\n",
    "\n",
    "We will go through eleven lessons with you:\n",
    "    \n",
    "- [**Lesson 1: Z-score**](Lesson_1_Z-score.ipynb)\n",
    "\n",
    "- [**Lesson 2: P-value**](Lesson_2_P-value.ipynb)\n",
    "\n",
    "- [**Lesson 3: Lesson 3: Welchs T-test**](Lesson_3_Welchs_T-test.ipynb)\n",
    "\n",
    "- <font color=#E98300>**Lesson 4: Log2 Fold Change**</font>    `📍You are here.`\n",
    "\n",
    "- [**Lesson 5: Pearson Correlation**](Lesson_5_Pearson_Correlation.ipynb)\n",
    "\n",
    "- [**Lesson 6: Spearman Correlation**](Lesson_6_Spearman_Correlation.ipynb)\n",
    "\n",
    "- [**Lesson 7: False Discovery Rate**](Lesson_7_False_Discovery_Rate.ipynb)\n",
    "\n",
    "- [**Lesson 8: Benjamini Hochberg**](Lesson_8_Benjamini_Hochberg.ipynb)\n",
    "\n",
    "- [**Lesson 9: Dimensionality Reduction Methods: Principal Component Analysis**](Lesson_9_Dimensionality_Reduction_Methods_Principal_Component_Analysis.ipynb)\n",
    "\n",
    "- [**Lesson 10: Dimensionality Reduction Methods: t-SNE**](Lesson_10_Dimensionality_Reduction_Methods_t-SNE.ipynb)\n",
    "\n",
    "- [**Lesson 11: UMAP**](Lesson_11_UMAP.ipynb)\n",
    "</br>\n",
    "\n",
    "\n",
    "\n",
    "<div class=\"alert alert-block alert-info\">\n",
    "<h3>⌨️ Keyboard shortcut</h3>\n",
    "\n",
    "These common shortcut could save your time going through this notebook:\n",
    "- Run the current cell: **`Enter + Shift`**.\n",
    "- Add a cell above the current cell: Press **`A`**.\n",
    "- Add a cell below the current cell: Press **`B`**.\n",
    "- Change a code cell to markdown cell: Select the cell, and then press **`M`**.\n",
    "- Delete a cell: Press **`D`** twice.\n",
    "\n",
    "Need more help with keyboard shortcut? Press **`H`** to look it up.\n",
    "</div>"
   ]
  },
  {
   "cell_type": "markdown",
   "id": "241ecec9",
   "metadata": {
    "id": "241ecec9"
   },
   "source": [
    "---"
   ]
  },
  {
   "cell_type": "markdown",
   "id": "032babaa",
   "metadata": {
    "id": "032babaa"
   },
   "source": [
    "# Lesson 4: Log2 Fold Change"
   ]
  },
  {
   "cell_type": "markdown",
   "id": "eb71daeb",
   "metadata": {
    "id": "eb71daeb"
   },
   "source": [
    "A <mark>**fold change**</mark> is a measure describing how much a quantity changes between an initial and a subsequent measurement. This is often used when comparing various measurements of a biological system taken at different times. For example, if a quantity changes from 50 to 100 over a given period of time, this is defined as a two-fold increase (i.e., a fold change of **2**). Similarly, a change from 100 to 50 would be referred to as a 0.5-fold decrease (i.e., a fold change of **.5**). "
   ]
  },
  {
   "cell_type": "markdown",
   "id": "5d934c3d",
   "metadata": {
    "id": "5d934c3d"
   },
   "source": [
    "Commonly, fold change is used in the analysis of gene expression data from microarray experiments for measuring a change in the expression level of a gene."
   ]
  },
  {
   "cell_type": "markdown",
   "id": "9c042d62",
   "metadata": {
    "id": "9c042d62"
   },
   "source": [
    "<img src=\"materials/images/images_log2_fold_change/microarray.png\"/>"
   ]
  },
  {
   "cell_type": "markdown",
   "id": "e70fe369",
   "metadata": {
    "id": "e70fe369"
   },
   "source": [
    "`🕒 This module should take about 15 minutes to complete.`\n",
    "\n",
    "`✍️ This notebook is written using Python.`"
   ]
  },
  {
   "cell_type": "markdown",
   "id": "684c7a03",
   "metadata": {
    "id": "684c7a03"
   },
   "source": [
    "---"
   ]
  },
  {
   "cell_type": "markdown",
   "id": "20b65a83",
   "metadata": {
    "id": "20b65a83"
   },
   "source": [
    "# Log<sub>2</sub>-Fold Change\n",
    "This is the effect size estimate. This value indicates, for example, how much the gene or transcript's expression seems to have changed between the comparison and control groups. For example, suppose there are two gene expression values: A for the initial measurement, and B for the treatment. If A = 50 and B = 75, then the **fold change** is B/A (i.e., 1.5). The **log<sub>2</sub>-fold change** would be log<sub>2</sub>(1.5) = .58."
   ]
  },
  {
   "cell_type": "markdown",
   "id": "ebf325a6",
   "metadata": {
    "id": "ebf325a6"
   },
   "source": [
    "### Why Log<sub>2</sub>-Fold Change:\n",
    "When analyzing and visualzing fold changes, this value is reported on a logarithmic scale to base 2 (i.e., log<sub>2</sub>). This is because it is easy to interpret. For example, doubling (2) the initial quantity is equal to a log<sub>2</sub> fold change of 1 (i.e., log<sub>2</sub>(2) = 1). And quadrupling an initial quantity is equal to a log<sub>2</sub> fold change of 2 (i.e., log<sub>2</sub>(4) = 2). Further, a nice property of log<sub>2</sub> is that it is symmetric for reciprocals. For example, conversely, when the initial quantity is decreased by half, this is equivalent to a log<sub>2</sub> fold change of −1, and quartering an initial quantity is equivalent to a log<sub>2</sub> fold change of −2 and so on. This leads to more aesthetically pleasing plots as exponential changes are displayed as linear, so the dynamic range is increased. For example, on a plot axis showing log2 fold changes, an 8-fold increase will be displayed at an axis value of 3 since log<sub>2</sub>(8) = 3. "
   ]
  },
  {
   "cell_type": "markdown",
   "id": "8fce1512",
   "metadata": {
    "id": "8fce1512"
   },
   "source": [
    "<img src=\"materials/images/images_log2_fold_change/log2_plot.png\"/>"
   ]
  },
  {
   "cell_type": "markdown",
   "id": "0104bf2f",
   "metadata": {
    "id": "0104bf2f"
   },
   "source": [
    "In the volcano plot shown above, the red points indicate genes that display both large-magnitude fold changes (x-axis) as well as high statistical significance (-log<sub>10</sub> p-value, y-axis). The dashed green line shows the p-vaule cutoff of 0.01 (10<sup>-2</sup>) with points above the line having a p-value < 0.01 and points below the line having a p-value > 0.01. The vertical dashed blue lines indicate log<sub>2</sub>-fold changes of 2. **Therefore, all red dots exhibit log<sub>2</sub>-fold changes beyond ±2 (four-fold change) and statistical significance less than 0.01.**"
   ]
  },
  {
   "cell_type": "markdown",
   "id": "d4d12ced",
   "metadata": {
    "id": "d4d12ced"
   },
   "source": [
    "<div class=\"alert alert-block alert-success\">\n",
    "    <b>Tip: </b> The formula for the <mark><b>log<sub>2</sub>-fold change</b> is: log<sub>2</sub>(B) - log<sub>2</sub>(A)</mark>  <br> The <mark>fold change = 2<sup><b>log<sub>2</sub>FC</b></sup></mark>\n",
    "    \n",
    "</div>"
   ]
  },
  {
   "cell_type": "markdown",
   "id": "df71ec40",
   "metadata": {
    "id": "df71ec40"
   },
   "source": [
    "<div class=\"alert alert-block alert-warning\">\n",
    "    <b>Note:</b> <b>log<sub>2</sub>(x)</b> = log<sub>10</sub>(x)/log<sub>10</sub>(2)"
   ]
  },
  {
   "cell_type": "markdown",
   "id": "20e08235",
   "metadata": {
    "id": "20e08235"
   },
   "source": [
    "---"
   ]
  },
  {
   "cell_type": "markdown",
   "id": "1b577d58",
   "metadata": {
    "id": "1b577d58"
   },
   "source": [
    "# 🌟 Ready for the next one?\n",
    "<br>\n",
    "\n",
    "- [**Lesson 5: Pearson Correlation**](Lesson_5_Pearson_Correlation.ipynb)\n",
    "\n",
    "- [**Lesson 6: Spearman Correlation**](Lesson_6_Spearman_Correlation.ipynb)\n",
    "\n",
    "- [**Lesson 7: False Discovery Rate**](Lesson_7_False_Discovery_Rate.ipynb)\n",
    "\n",
    "- [**Lesson 8: Benjamini Hochberg**](Lesson_8_Benjamini_Hochberg.ipynb)\n",
    "\n",
    "- [**Lesson 9: Dimensionality Reduction Methods: Principal Component Analysis**](Lesson_9_Dimensionality_Reduction_Methods_Principal_Component_Analysis.ipynb)\n",
    "\n",
    "- [**Lesson 10: Dimensionality Reduction Methods: t-SNE**](Lesson_10_Dimensionality_Reduction_Methods_t-SNE.ipynb)\n",
    "\n",
    "- [**Lesson 11: UMAP**](Lesson_11_UMAP.ipynb)\n",
    "</br>"
   ]
  },
  {
   "cell_type": "markdown",
   "id": "001556c0",
   "metadata": {
    "id": "001556c0"
   },
   "source": [
    "---"
   ]
  },
  {
   "cell_type": "markdown",
   "id": "afe68e99",
   "metadata": {
    "id": "afe68e99"
   },
   "source": [
    "# Contributions & acknowledgment"
   ]
  },
  {
   "cell_type": "markdown",
   "id": "190726d9",
   "metadata": {
    "id": "190726d9"
   },
   "source": [
    "Thanks Antony Ross for contributing the content for this notebook."
   ]
  },
  {
   "cell_type": "markdown",
   "id": "2a6a7461",
   "metadata": {
    "id": "2a6a7461"
   },
   "source": [
    "---"
   ]
  },
  {
   "cell_type": "markdown",
   "id": "05f14006",
   "metadata": {
    "id": "05f14006"
   },
   "source": [
    "Copyright (c) 2022 Stanford Data Ocean (SDO)\n",
    "\n",
    "All rights reserved."
   ]
  }
 ],
 "metadata": {
  "colab": {
   "provenance": []
  },
  "kernelspec": {
   "display_name": "Python 3 (ipykernel)",
   "language": "python",
   "name": "python3"
  },
  "language_info": {
   "codemirror_mode": {
    "name": "ipython",
    "version": 3
   },
   "file_extension": ".py",
   "mimetype": "text/x-python",
   "name": "python",
   "nbconvert_exporter": "python",
   "pygments_lexer": "ipython3",
   "version": "3.10.11"
  }
 },
 "nbformat": 4,
 "nbformat_minor": 5
}
