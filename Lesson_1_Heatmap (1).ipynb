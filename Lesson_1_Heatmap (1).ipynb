{
 "cells": [
  {
   "cell_type": "markdown",
   "id": "29fed79e",
   "metadata": {
    "id": "29fed79e"
   },
   "source": [
    "<img src=\"materials/images/introduction-to-visualization-cover.png\"/>"
   ]
  },
  {
   "cell_type": "markdown",
   "id": "2e969508",
   "metadata": {
    "id": "2e969508"
   },
   "source": [
    "# 👋 Welcome, before you start\n",
    "<br>\n",
    "\n",
    "### 📚 Module overview\n",
    "\n",
    "We will go through two lessons with you:\n",
    "\n",
    "- <font color=#E98300>**Lesson 1: Heatmap**</font>    `📍You are here.`\n",
    "    \n",
    "- [**Lesson 2: Volcano Plot**](Lesson_2_Volcano_Plot.ipynb)\n",
    "</br>\n",
    "\n",
    "\n",
    "\n",
    "<div class=\"alert alert-block alert-info\">\n",
    "<h3>⌨️ Keyboard shortcut</h3>\n",
    "\n",
    "These common shortcut could save your time going through this notebook:\n",
    "- Run the current cell: **`Enter + Shift`**.\n",
    "- Add a cell above the current cell: Press **`A`**.\n",
    "- Add a cell below the current cell: Press **`B`**.\n",
    "- Change a code cell to markdown cell: Select the cell, and then press **`M`**.\n",
    "- Delete a cell: Press **`D`** twice.\n",
    "\n",
    "Need more help with keyboard shortcut? Press **`H`** to look it up.\n",
    "</div>"
   ]
  },
  {
   "cell_type": "markdown",
   "id": "d1166580",
   "metadata": {
    "id": "d1166580"
   },
   "source": [
    "---"
   ]
  },
  {
   "cell_type": "markdown",
   "id": "09faa046",
   "metadata": {
    "id": "09faa046"
   },
   "source": [
    "# Lesson 1: Heatmap"
   ]
  },
  {
   "cell_type": "markdown",
   "id": "vO4xNIHcZ-3d",
   "metadata": {
    "id": "vO4xNIHcZ-3d"
   },
   "source": [
    "⏲ `This module should take about 20 minutes to complete.`"
   ]
  },
  {
   "cell_type": "markdown",
   "id": "cc03dd85",
   "metadata": {
    "id": "cc03dd85"
   },
   "source": [
    "A <mark>**heatmap**</mark> is a graphical representation of data where values are expressed as colors. It is an effective visual summary of information and enables a large volume of data to be communicated efficiently."
   ]
  },
  {
   "cell_type": "markdown",
   "id": "cc907ef5",
   "metadata": {
    "id": "cc907ef5"
   },
   "source": [
    "### ✅ `Run` each of the cells below:"
   ]
  },
  {
   "cell_type": "markdown",
   "id": "525e383c",
   "metadata": {
    "id": "525e383c"
   },
   "source": [
    "# Preview dataset\n",
    "\n",
    "Below, we will import a dataset of applicants for admission to graduate school."
   ]
  },
  {
   "cell_type": "code",
   "execution_count": 1,
   "id": "1t15MGcUyf7u",
   "metadata": {
    "id": "1t15MGcUyf7u"
   },
   "outputs": [],
   "source": [
    "import pandas as pd\n",
    "import seaborn as sns"
   ]
  },
  {
   "cell_type": "code",
   "execution_count": 2,
   "id": "a430895f",
   "metadata": {
    "id": "a430895f"
   },
   "outputs": [
    {
     "data": {
      "text/html": [
       "<div>\n",
       "<style scoped>\n",
       "    .dataframe tbody tr th:only-of-type {\n",
       "        vertical-align: middle;\n",
       "    }\n",
       "\n",
       "    .dataframe tbody tr th {\n",
       "        vertical-align: top;\n",
       "    }\n",
       "\n",
       "    .dataframe thead th {\n",
       "        text-align: right;\n",
       "    }\n",
       "</style>\n",
       "<table border=\"1\" class=\"dataframe\">\n",
       "  <thead>\n",
       "    <tr style=\"text-align: right;\">\n",
       "      <th></th>\n",
       "      <th>Serial No.</th>\n",
       "      <th>GRE Score</th>\n",
       "      <th>TOEFL Score</th>\n",
       "      <th>University Rating</th>\n",
       "      <th>SOP</th>\n",
       "      <th>LOR</th>\n",
       "      <th>GPA</th>\n",
       "      <th>Research</th>\n",
       "      <th>Admitted</th>\n",
       "    </tr>\n",
       "  </thead>\n",
       "  <tbody>\n",
       "    <tr>\n",
       "      <th>0</th>\n",
       "      <td>1</td>\n",
       "      <td>337</td>\n",
       "      <td>118</td>\n",
       "      <td>4</td>\n",
       "      <td>4.5</td>\n",
       "      <td>4.5</td>\n",
       "      <td>3.89</td>\n",
       "      <td>1</td>\n",
       "      <td>Yes</td>\n",
       "    </tr>\n",
       "    <tr>\n",
       "      <th>1</th>\n",
       "      <td>2</td>\n",
       "      <td>324</td>\n",
       "      <td>107</td>\n",
       "      <td>4</td>\n",
       "      <td>4.0</td>\n",
       "      <td>4.5</td>\n",
       "      <td>3.58</td>\n",
       "      <td>1</td>\n",
       "      <td>Yes</td>\n",
       "    </tr>\n",
       "    <tr>\n",
       "      <th>2</th>\n",
       "      <td>3</td>\n",
       "      <td>316</td>\n",
       "      <td>104</td>\n",
       "      <td>3</td>\n",
       "      <td>3.0</td>\n",
       "      <td>3.5</td>\n",
       "      <td>3.23</td>\n",
       "      <td>1</td>\n",
       "      <td>No</td>\n",
       "    </tr>\n",
       "    <tr>\n",
       "      <th>3</th>\n",
       "      <td>4</td>\n",
       "      <td>322</td>\n",
       "      <td>110</td>\n",
       "      <td>3</td>\n",
       "      <td>3.5</td>\n",
       "      <td>2.5</td>\n",
       "      <td>3.50</td>\n",
       "      <td>1</td>\n",
       "      <td>Yes</td>\n",
       "    </tr>\n",
       "    <tr>\n",
       "      <th>4</th>\n",
       "      <td>5</td>\n",
       "      <td>314</td>\n",
       "      <td>103</td>\n",
       "      <td>2</td>\n",
       "      <td>2.0</td>\n",
       "      <td>3.0</td>\n",
       "      <td>3.31</td>\n",
       "      <td>0</td>\n",
       "      <td>No</td>\n",
       "    </tr>\n",
       "  </tbody>\n",
       "</table>\n",
       "</div>"
      ],
      "text/plain": [
       "   Serial No.  GRE Score  TOEFL Score  University Rating  SOP  LOR    GPA  \\\n",
       "0           1        337          118                  4  4.5   4.5  3.89   \n",
       "1           2        324          107                  4  4.0   4.5  3.58   \n",
       "2           3        316          104                  3  3.0   3.5  3.23   \n",
       "3           4        322          110                  3  3.5   2.5  3.50   \n",
       "4           5        314          103                  2  2.0   3.0  3.31   \n",
       "\n",
       "   Research Admitted  \n",
       "0         1      Yes  \n",
       "1         1      Yes  \n",
       "2         1       No  \n",
       "3         1      Yes  \n",
       "4         0       No  "
      ]
     },
     "execution_count": 2,
     "metadata": {},
     "output_type": "execute_result"
    }
   ],
   "source": [
    "df = pd.read_csv(\"data/data_heatmap/grad_admit.csv\")\n",
    "df.head()"
   ]
  },
  {
   "cell_type": "markdown",
   "id": "45acc6a1",
   "metadata": {
    "id": "45acc6a1"
   },
   "source": [
    "## View correlation matrix\n",
    "Here, we will view a matrix of the pair-wise correlations between the variables in the dataset."
   ]
  },
  {
   "cell_type": "code",
   "execution_count": 3,
   "id": "322ed2d7",
   "metadata": {
    "id": "322ed2d7"
   },
   "outputs": [
    {
     "data": {
      "text/html": [
       "<div>\n",
       "<style scoped>\n",
       "    .dataframe tbody tr th:only-of-type {\n",
       "        vertical-align: middle;\n",
       "    }\n",
       "\n",
       "    .dataframe tbody tr th {\n",
       "        vertical-align: top;\n",
       "    }\n",
       "\n",
       "    .dataframe thead th {\n",
       "        text-align: right;\n",
       "    }\n",
       "</style>\n",
       "<table border=\"1\" class=\"dataframe\">\n",
       "  <thead>\n",
       "    <tr style=\"text-align: right;\">\n",
       "      <th></th>\n",
       "      <th>Serial No.</th>\n",
       "      <th>GRE Score</th>\n",
       "      <th>TOEFL Score</th>\n",
       "      <th>University Rating</th>\n",
       "      <th>SOP</th>\n",
       "      <th>LOR</th>\n",
       "      <th>GPA</th>\n",
       "      <th>Research</th>\n",
       "    </tr>\n",
       "  </thead>\n",
       "  <tbody>\n",
       "    <tr>\n",
       "      <th>Serial No.</th>\n",
       "      <td>1.000000</td>\n",
       "      <td>-0.097526</td>\n",
       "      <td>-0.147932</td>\n",
       "      <td>-0.169948</td>\n",
       "      <td>-0.166932</td>\n",
       "      <td>-0.088221</td>\n",
       "      <td>-0.047424</td>\n",
       "      <td>-0.063138</td>\n",
       "    </tr>\n",
       "    <tr>\n",
       "      <th>GRE Score</th>\n",
       "      <td>-0.097526</td>\n",
       "      <td>1.000000</td>\n",
       "      <td>0.835977</td>\n",
       "      <td>0.668976</td>\n",
       "      <td>0.612831</td>\n",
       "      <td>0.557555</td>\n",
       "      <td>0.832669</td>\n",
       "      <td>0.580391</td>\n",
       "    </tr>\n",
       "    <tr>\n",
       "      <th>TOEFL Score</th>\n",
       "      <td>-0.147932</td>\n",
       "      <td>0.835977</td>\n",
       "      <td>1.000000</td>\n",
       "      <td>0.695590</td>\n",
       "      <td>0.657981</td>\n",
       "      <td>0.567721</td>\n",
       "      <td>0.828019</td>\n",
       "      <td>0.489858</td>\n",
       "    </tr>\n",
       "    <tr>\n",
       "      <th>University Rating</th>\n",
       "      <td>-0.169948</td>\n",
       "      <td>0.668976</td>\n",
       "      <td>0.695590</td>\n",
       "      <td>1.000000</td>\n",
       "      <td>0.734523</td>\n",
       "      <td>0.660123</td>\n",
       "      <td>0.745734</td>\n",
       "      <td>0.447783</td>\n",
       "    </tr>\n",
       "    <tr>\n",
       "      <th>SOP</th>\n",
       "      <td>-0.166932</td>\n",
       "      <td>0.612831</td>\n",
       "      <td>0.657981</td>\n",
       "      <td>0.734523</td>\n",
       "      <td>1.000000</td>\n",
       "      <td>0.729593</td>\n",
       "      <td>0.718403</td>\n",
       "      <td>0.444029</td>\n",
       "    </tr>\n",
       "    <tr>\n",
       "      <th>LOR</th>\n",
       "      <td>-0.088221</td>\n",
       "      <td>0.557555</td>\n",
       "      <td>0.567721</td>\n",
       "      <td>0.660123</td>\n",
       "      <td>0.729593</td>\n",
       "      <td>1.000000</td>\n",
       "      <td>0.669626</td>\n",
       "      <td>0.396859</td>\n",
       "    </tr>\n",
       "    <tr>\n",
       "      <th>GPA</th>\n",
       "      <td>-0.047424</td>\n",
       "      <td>0.832669</td>\n",
       "      <td>0.828019</td>\n",
       "      <td>0.745734</td>\n",
       "      <td>0.718403</td>\n",
       "      <td>0.669626</td>\n",
       "      <td>1.000000</td>\n",
       "      <td>0.521163</td>\n",
       "    </tr>\n",
       "    <tr>\n",
       "      <th>Research</th>\n",
       "      <td>-0.063138</td>\n",
       "      <td>0.580391</td>\n",
       "      <td>0.489858</td>\n",
       "      <td>0.447783</td>\n",
       "      <td>0.444029</td>\n",
       "      <td>0.396859</td>\n",
       "      <td>0.521163</td>\n",
       "      <td>1.000000</td>\n",
       "    </tr>\n",
       "  </tbody>\n",
       "</table>\n",
       "</div>"
      ],
      "text/plain": [
       "                   Serial No.  GRE Score  TOEFL Score  University Rating  \\\n",
       "Serial No.           1.000000  -0.097526    -0.147932          -0.169948   \n",
       "GRE Score           -0.097526   1.000000     0.835977           0.668976   \n",
       "TOEFL Score         -0.147932   0.835977     1.000000           0.695590   \n",
       "University Rating   -0.169948   0.668976     0.695590           1.000000   \n",
       "SOP                 -0.166932   0.612831     0.657981           0.734523   \n",
       "LOR                 -0.088221   0.557555     0.567721           0.660123   \n",
       "GPA                 -0.047424   0.832669     0.828019           0.745734   \n",
       "Research            -0.063138   0.580391     0.489858           0.447783   \n",
       "\n",
       "                        SOP      LOR        GPA  Research  \n",
       "Serial No.        -0.166932 -0.088221 -0.047424 -0.063138  \n",
       "GRE Score          0.612831  0.557555  0.832669  0.580391  \n",
       "TOEFL Score        0.657981  0.567721  0.828019  0.489858  \n",
       "University Rating  0.734523  0.660123  0.745734  0.447783  \n",
       "SOP                1.000000  0.729593  0.718403  0.444029  \n",
       "LOR                0.729593  1.000000  0.669626  0.396859  \n",
       "GPA                0.718403  0.669626  1.000000  0.521163  \n",
       "Research           0.444029  0.396859  0.521163  1.000000  "
      ]
     },
     "execution_count": 3,
     "metadata": {},
     "output_type": "execute_result"
    }
   ],
   "source": [
    "df.corr(numeric_only=True)"
   ]
  },
  {
   "cell_type": "markdown",
   "id": "1f34335d",
   "metadata": {
    "id": "1f34335d"
   },
   "source": [
    "## View correlation matrix as a heatmap\n",
    "\n",
    "Below, we render a heatmap in a family of blue colors. Note that the darker the blue, the higher the correlation between a given variable pair. The lighter the blue, the weaker the correlation between variable pairs."
   ]
  },
  {
   "cell_type": "code",
   "execution_count": 4,
   "id": "ce01dfdf",
   "metadata": {
    "id": "ce01dfdf"
   },
   "outputs": [
    {
     "data": {
      "image/png": "[encoded data removed]",
      "text/plain": [
       "<Figure size 640x480 with 2 Axes>"
      ]
     },
     "metadata": {},
     "output_type": "display_data"
    }
   ],
   "source": [
    "sns.heatmap(df.corr(numeric_only=True), cmap=\"Blues\", annot=True);"
   ]
  },
  {
   "cell_type": "markdown",
   "id": "9478cfb3",
   "metadata": {
    "id": "9478cfb3"
   },
   "source": [
    "---"
   ]
  },
  {
   "cell_type": "markdown",
   "id": "7dd45cff",
   "metadata": {
    "id": "7dd45cff"
   },
   "source": [
    "# Heatmap\n",
    "\n",
    "A heatmap is a common method of visualizing <mark>gene expression changes</mark> from among hundreds to thousands of genes from different treatment conditions. The heatmap may also be combined with clustering methods which group genes and/or samples together based on the similarity of their gene expression pattern. This can be useful for identifying genes that are commonly regulated, or biological signatures associated with a particular condition (e.g a disease or an environmental condition)."
   ]
  },
  {
   "cell_type": "markdown",
   "id": "05360f61",
   "metadata": {
    "id": "05360f61"
   },
   "source": [
    "Genes are represented in rows of the matrix and chips/samples in the columns. A colored matrix display represents the matrix of values as a grid; the number of rows is equal to the number of genes being analyzed, and the number of columns is equal to the number of chips/samples.\n",
    "The boxes of the grid are colored according to the numerical value in the corresponding matrix cell (the gene expression values)."
   ]
  },
  {
   "cell_type": "markdown",
   "id": "d2615cdb",
   "metadata": {
    "id": "d2615cdb"
   },
   "source": [
    "<img src=\"materials/images/images_heatmap/sample_heatmap.png\"/>"
   ]
  },
  {
   "cell_type": "markdown",
   "id": "de2d1f55",
   "metadata": {
    "id": "de2d1f55"
   },
   "source": [
    "You will be able to pick genes based on their expression levels under different conditions. Some may not change but those that do change are of the greatest interest. These indicate gene expression associated with a particular condition. Heatmaps also help one to identify significant groupings among the genes through associations."
   ]
  },
  {
   "cell_type": "markdown",
   "id": "0c49ba2c",
   "metadata": {
    "id": "0c49ba2c"
   },
   "source": [
    "---"
   ]
  },
  {
   "cell_type": "markdown",
   "id": "6d8bfecb",
   "metadata": {
    "id": "6d8bfecb"
   },
   "source": [
    "### ✅ `Run` each of the cells below:"
   ]
  },
  {
   "cell_type": "markdown",
   "id": "26268505",
   "metadata": {
    "id": "26268505"
   },
   "source": [
    "### Sample gene expression data set\n",
    "Gene names and treatment conditions."
   ]
  },
  {
   "cell_type": "code",
   "execution_count": 5,
   "id": "a1e06350",
   "metadata": {
    "id": "a1e06350"
   },
   "outputs": [
    {
     "data": {
      "text/html": [
       "<div>\n",
       "<style scoped>\n",
       "    .dataframe tbody tr th:only-of-type {\n",
       "        vertical-align: middle;\n",
       "    }\n",
       "\n",
       "    .dataframe tbody tr th {\n",
       "        vertical-align: top;\n",
       "    }\n",
       "\n",
       "    .dataframe thead th {\n",
       "        text-align: right;\n",
       "    }\n",
       "</style>\n",
       "<table border=\"1\" class=\"dataframe\">\n",
       "  <thead>\n",
       "    <tr style=\"text-align: right;\">\n",
       "      <th></th>\n",
       "      <th>A</th>\n",
       "      <th>B</th>\n",
       "      <th>C</th>\n",
       "      <th>D</th>\n",
       "      <th>E</th>\n",
       "      <th>F</th>\n",
       "    </tr>\n",
       "    <tr>\n",
       "      <th>Gene</th>\n",
       "      <th></th>\n",
       "      <th></th>\n",
       "      <th></th>\n",
       "      <th></th>\n",
       "      <th></th>\n",
       "      <th></th>\n",
       "    </tr>\n",
       "  </thead>\n",
       "  <tbody>\n",
       "    <tr>\n",
       "      <th>B-CHI</th>\n",
       "      <td>4.505700</td>\n",
       "      <td>3.260360</td>\n",
       "      <td>-1.249400</td>\n",
       "      <td>8.89807</td>\n",
       "      <td>8.05955</td>\n",
       "      <td>-0.842803</td>\n",
       "    </tr>\n",
       "    <tr>\n",
       "      <th>CTL2</th>\n",
       "      <td>3.508560</td>\n",
       "      <td>1.660790</td>\n",
       "      <td>-1.856680</td>\n",
       "      <td>-2.57336</td>\n",
       "      <td>-1.37370</td>\n",
       "      <td>1.196000</td>\n",
       "    </tr>\n",
       "    <tr>\n",
       "      <th>B-CHI</th>\n",
       "      <td>2.160030</td>\n",
       "      <td>3.146520</td>\n",
       "      <td>0.982809</td>\n",
       "      <td>9.02430</td>\n",
       "      <td>6.05832</td>\n",
       "      <td>-2.967420</td>\n",
       "    </tr>\n",
       "    <tr>\n",
       "      <th>CTL2</th>\n",
       "      <td>1.884750</td>\n",
       "      <td>2.295690</td>\n",
       "      <td>0.408891</td>\n",
       "      <td>-3.91404</td>\n",
       "      <td>-2.28049</td>\n",
       "      <td>1.628820</td>\n",
       "    </tr>\n",
       "    <tr>\n",
       "      <th>CHIV</th>\n",
       "      <td>0.255193</td>\n",
       "      <td>-0.761204</td>\n",
       "      <td>-1.022350</td>\n",
       "      <td>3.65059</td>\n",
       "      <td>2.46525</td>\n",
       "      <td>-1.188140</td>\n",
       "    </tr>\n",
       "  </tbody>\n",
       "</table>\n",
       "</div>"
      ],
      "text/plain": [
       "              A         B         C        D        E         F\n",
       "Gene                                                           \n",
       "B-CHI  4.505700  3.260360 -1.249400  8.89807  8.05955 -0.842803\n",
       "CTL2   3.508560  1.660790 -1.856680 -2.57336 -1.37370  1.196000\n",
       "B-CHI  2.160030  3.146520  0.982809  9.02430  6.05832 -2.967420\n",
       "CTL2   1.884750  2.295690  0.408891 -3.91404 -2.28049  1.628820\n",
       "CHIV   0.255193 -0.761204 -1.022350  3.65059  2.46525 -1.188140"
      ]
     },
     "execution_count": 5,
     "metadata": {},
     "output_type": "execute_result"
    }
   ],
   "source": [
    "import pandas as pd\n",
    "from bioinfokit import analys, visuz\n",
    "\n",
    "\n",
    "df = pd.read_csv(\"data/data_heatmap/gene_expression.csv\")\n",
    "# set gene names as index\n",
    "df = df.set_index(df.columns[0])\n",
    "df.head()"
   ]
  },
  {
   "cell_type": "markdown",
   "id": "c1799abe",
   "metadata": {
    "id": "c1799abe"
   },
   "source": [
    "## Heatmap of gene expression data"
   ]
  },
  {
   "cell_type": "markdown",
   "id": "81000cb6",
   "metadata": {
    "id": "81000cb6"
   },
   "source": [
    "Heatmaps are used to show relationships between two variables, one plotted on each axis. By observing how cell colors change across each axis, you can observe if there are any patterns in value for one or both variables. Below, we use a colormap from red to green with yellow being the central value. The x-axis represents the treatment conditions and the y-axis represents the gene names.\n",
    "\n",
    "In heatmaps, the data is displayed in a grid where each row represents a gene and each column represents a sample. The color and intensity of the boxes are used to represent changes (not absolute values) of gene expression. In the following heatmap, <mark>red represents down-regulated genes and green represents up-regulated genes. Yellow represents unchanged expression.</mark>"
   ]
  },
  {
   "cell_type": "code",
   "execution_count": 6,
   "id": "785e70de",
   "metadata": {
    "id": "785e70de"
   },
   "outputs": [
    {
     "data": {
      "image/png": "[encoded data removed]",
      "text/plain": [
       "<Figure size 400x600 with 2 Axes>"
      ]
     },
     "metadata": {},
     "output_type": "display_data"
    }
   ],
   "source": [
    "visuz.gene_exp.hmap(df=df, rowclus=False, colclus=False, cmap='RdYlGn', tickfont=(6, 4), show=True)"
   ]
  },
  {
   "cell_type": "markdown",
   "id": "6f81f89f",
   "metadata": {
    "id": "6f81f89f"
   },
   "source": [
    "---"
   ]
  },
  {
   "cell_type": "markdown",
   "id": "4a9b93b7",
   "metadata": {
    "id": "4a9b93b7"
   },
   "source": [
    "# 🌟 Ready for the next one?\n",
    "<br>\n",
    "\n",
    "- [**Lesson 2: Volcano Plot**](Lesson_2_Volcano_Plot.ipynb)"
   ]
  },
  {
   "cell_type": "markdown",
   "id": "b8b6328b",
   "metadata": {
    "id": "b8b6328b"
   },
   "source": [
    "---"
   ]
  },
  {
   "cell_type": "markdown",
   "id": "c3dUji9Iy3YE",
   "metadata": {
    "id": "c3dUji9Iy3YE"
   },
   "source": [
    "# Contributions & acknowledgment"
   ]
  },
  {
   "cell_type": "markdown",
   "id": "o0_inivBy54K",
   "metadata": {
    "id": "o0_inivBy54K"
   },
   "source": [
    "Thanks Antony Ross for contributing the content for this notebook."
   ]
  },
  {
   "cell_type": "markdown",
   "id": "90FMR5oNy-Ke",
   "metadata": {
    "id": "90FMR5oNy-Ke"
   },
   "source": [
    "---"
   ]
  },
  {
   "cell_type": "markdown",
   "id": "971e31d1",
   "metadata": {
    "id": "971e31d1"
   },
   "source": [
    "Copyright (c) 2022 Stanford Data Ocean (SDO)\n",
    "\n",
    "All rights reserved."
   ]
  }
 ],
 "metadata": {
  "colab": {
   "provenance": []
  },
  "kernelspec": {
   "display_name": "Python 3 (ipykernel)",
   "language": "python",
   "name": "python3"
  },
  "language_info": {
   "codemirror_mode": {
    "name": "ipython",
    "version": 3
   },
   "file_extension": ".py",
   "mimetype": "text/x-python",
   "name": "python",
   "nbconvert_exporter": "python",
   "pygments_lexer": "ipython3",
   "version": "3.10.14"
  }
 },
 "nbformat": 4,
 "nbformat_minor": 5
}
