{
 "cells": [
  {
   "cell_type": "markdown",
   "id": "884c204c",
   "metadata": {
    "id": "884c204c"
   },
   "source": [
    "<img src=\"materials/images/introduction-to-r-programming-cover.png\"/>"
   ]
  },
  {
   "cell_type": "markdown",
   "id": "cf0adc95-8c9f-469c-8e56-1232e6421414",
   "metadata": {
    "id": "cf0adc95-8c9f-469c-8e56-1232e6421414"
   },
   "source": [
    "\n",
    "# 👋 Welcome, before you start\n",
    "<br>\n",
    "\n",
    "### 📚 Module overview\n",
    "\n",
    "R is a statistical programming language that is very effective for computation and high-level graphics. It is commonly used for data analytics and data science.\n",
    "\n",
    "We are going through five lessons in this module:\n",
    "\n",
    "- [**Lesson 1: R Basic Data Types**](Lesson_1_R_Basic_Data_Types.ipynb)\n",
    "\n",
    "- [**Lesson 2: R Data Structures**](Lesson_2_R_Data_Structures.ipynb)\n",
    "\n",
    "- [**Lesson 3: Importing Data**](Lesson_3_Importing_Data.ipynb)\n",
    "\n",
    "- [**Lesson 4: Conditionals and Loops**](Lesson_4_Conditionals_and_Loops.ipynb)\n",
    "\n",
    "- <font color=#E98300>**Lesson 5: Functions**</font>    `📍You are here.`\n",
    "\n",
    "</br>\n",
    "\n",
    "### ✅ Exercises\n",
    "We encourage you to try the exercise questions in this module, and use the [**solutions to the exercises**](Exercise_solutions.ipynb) to help you study.\n",
    "\n",
    "</br>\n",
    "\n",
    "<div class=\"alert alert-block alert-info\">\n",
    "<h3>⌨️ Keyboard shortcut</h3>\n",
    "\n",
    "These common shortcut could save your time going through this notebook:\n",
    "- Run the current cell: **`Enter + Shift`**.\n",
    "- Add a cell above the current cell: Press **`A`**.\n",
    "- Add a cell below the current cell: Press **`B`**.\n",
    "- Change a code cell to markdown cell: Select the cell, and then press **`M`**.\n",
    "- Delete a cell: Press **`D`** twice.\n",
    "\n",
    "Need more help with keyboard shortcut? Press **`H`** to look it up.\n",
    "</div>"
   ]
  },
  {
   "cell_type": "markdown",
   "id": "02998ffa",
   "metadata": {
    "id": "02998ffa"
   },
   "source": [
    "---"
   ]
  },
  {
   "cell_type": "markdown",
   "id": "6f50638e",
   "metadata": {
    "id": "6f50638e"
   },
   "source": [
    "# Lesson 5: Functions\n",
    "\n",
    "We are going to go through these concepts:\n",
    "\n",
    "- [Passing Information to a Function](#Passing-Information-to-a-Function)\n",
    "- [Using Return](#Using-Return)\n",
    "- [Function Application](#Function-Application)\n",
    "- [Getting Help](#Getting-Help)\n",
    "\n",
    "`🕒 This module should take about 30 minutes to complete.`\n",
    "\n",
    "`✍️ This notebook is written using R.`"
   ]
  },
  {
   "cell_type": "markdown",
   "id": "SbAalDnMr2LS",
   "metadata": {
    "id": "SbAalDnMr2LS"
   },
   "source": [
    "Functions are named blocks of code that enable you to perform a task again and again without needing to retype the code each time. An R function is created by using the `keyword` **function**. \n",
    "\n",
    "Below shows the simplest structure of a function in R. You begin by using `function()` to indicate to R that you are defining a function. The function declaration will always be followed by parentheses within which you will provide any information the function needs to perform its job. Following the `function()` declaration is the function definition (the code to be executed to perform the desired task) contained within curly braces. The defined function should then be assigned to an appropriate function name."
   ]
  },
  {
   "cell_type": "markdown",
   "id": "efae1a94",
   "metadata": {
    "id": "efae1a94"
   },
   "source": [
    "\n",
    "``` R\n",
    "name_of_function <- function() {\n",
    "  <block of code to be executed>\n",
    "}\n",
    "```\n",
    "\n",
    "#### `Run` the following cell to define a function:"
   ]
  },
  {
   "cell_type": "code",
   "execution_count": 1,
   "id": "a6e3444f",
   "metadata": {
    "id": "a6e3444f"
   },
   "outputs": [],
   "source": [
    "greeting <- function(){\n",
    "  print(\"Hello!\")\n",
    "}"
   ]
  },
  {
   "cell_type": "markdown",
   "id": "95a50160",
   "metadata": {
    "id": "95a50160"
   },
   "source": [
    "<div class=\"alert alert-block alert-success\">\n",
    "<b>Note:</b> No code is run when a function is defined. An instance of a function is created but no code is executed until the function is called. </div>"
   ]
  },
  {
   "cell_type": "markdown",
   "id": "3dfeb62a",
   "metadata": {
    "id": "3dfeb62a"
   },
   "source": [
    "####  `Run` the following cell to call the function and execute its code:"
   ]
  },
  {
   "cell_type": "code",
   "execution_count": 2,
   "id": "8abff986",
   "metadata": {
    "id": "8abff986"
   },
   "outputs": [
    {
     "name": "stdout",
     "output_type": "stream",
     "text": [
      "[1] \"Hello!\"\n"
     ]
    }
   ],
   "source": [
    "greeting()"
   ]
  },
  {
   "cell_type": "markdown",
   "id": "17ccd47f",
   "metadata": {
    "id": "17ccd47f"
   },
   "source": [
    "<div class=\"alert alert-block alert-warning\">\n",
    "<b>Alert:</b> If a function doesn't require any additional information to perform its task, then when defining a function, the parentheses will be empty. Whenever the function requires information to be passed into it to perform its task, you will add the appropriate variables within parentheses when defining the function. When calling the function, the required information will be placed in the parentheses to be passed to the function. The function's variables (known as parameters) will then contain the required information that the function needs. The function will then use those variables to perform its task.  </div>"
   ]
  },
  {
   "cell_type": "markdown",
   "id": "2d550d53",
   "metadata": {
    "id": "2d550d53"
   },
   "source": [
    "### Passing Information to a Function\n",
    "We can pass information to a function to be used for its execution. For example, we can modify the `greeting()` function so that it prints a passed-in greeting rather than the predefine \"Hello!\". This additional information required by a function is called a parameter. \n",
    "\n",
    "For example:"
   ]
  },
  {
   "cell_type": "code",
   "execution_count": 3,
   "id": "e7aa6d65",
   "metadata": {
    "id": "e7aa6d65"
   },
   "outputs": [],
   "source": [
    "# Define the function:\n",
    "\n",
    "greeting <- function(word){\n",
    "  print(word)\n",
    "}"
   ]
  },
  {
   "cell_type": "markdown",
   "id": "5dd0c785",
   "metadata": {
    "id": "5dd0c785"
   },
   "source": [
    "We will add a variable to the function definition to capture the text to be printed. In this case, the value passed into the function will be assigned to the variable `word` and then it will be printed:"
   ]
  },
  {
   "cell_type": "code",
   "execution_count": 4,
   "id": "c5eb4360",
   "metadata": {
    "id": "c5eb4360"
   },
   "outputs": [
    {
     "name": "stdout",
     "output_type": "stream",
     "text": [
      "[1] \"Howdy!\"\n"
     ]
    }
   ],
   "source": [
    "# Call the function:\n",
    "\n",
    "greeting(\"Howdy!\")"
   ]
  },
  {
   "cell_type": "markdown",
   "id": "c109f185",
   "metadata": {
    "id": "c109f185"
   },
   "source": [
    "#### Additional parameters\n",
    "You can add an additional parameter to the greeting() function to indicate how many times the greeting will be printed. Using some of the skills that you've previously learned, you can add a `for loop` to the function and use the number passed in to print the greeting the desired number of times. \n",
    "\n",
    "For example:"
   ]
  },
  {
   "cell_type": "code",
   "execution_count": 5,
   "id": "f76a8414",
   "metadata": {
    "id": "f76a8414"
   },
   "outputs": [],
   "source": [
    "# Define the function:\n",
    "\n",
    "greeting <- function(word, num_times) {\n",
    "    for(i in 1:num_times) {\n",
    "        print(word)\n",
    "    }\n",
    "}"
   ]
  },
  {
   "cell_type": "markdown",
   "id": "8490156e",
   "metadata": {
    "id": "8490156e"
   },
   "source": [
    "In the above function, the first parameter passed into the function will be assigned to the variable `word` to be printed. The second parameter passed into the function will be assigned to the variable `num_times` which will determine the number of times the for loop will be executed to print the contents of the variable `word`."
   ]
  },
  {
   "cell_type": "code",
   "execution_count": 6,
   "id": "4f21884d",
   "metadata": {
    "id": "4f21884d"
   },
   "outputs": [
    {
     "name": "stdout",
     "output_type": "stream",
     "text": [
      "[1] \"Howdy!\"\n",
      "[1] \"Howdy!\"\n",
      "[1] \"Howdy!\"\n",
      "[1] \"Howdy!\"\n",
      "[1] \"Howdy!\"\n"
     ]
    }
   ],
   "source": [
    "# Call the function:\n",
    "\n",
    "greeting(\"Howdy!\", 5)"
   ]
  },
  {
   "cell_type": "markdown",
   "id": "c1f82f92",
   "metadata": {
    "id": "c1f82f92"
   },
   "source": [
    "#### Default values\n",
    "We can set default values for the function to use if no arguments are passed in:"
   ]
  },
  {
   "cell_type": "code",
   "execution_count": 7,
   "id": "03bdca20",
   "metadata": {
    "id": "03bdca20"
   },
   "outputs": [],
   "source": [
    "# Define the function with default values:\n",
    "\n",
    "greeting <- function(word=\"Hi!\", num_times=2){\n",
    "    for(i in 1:num_times){\n",
    "        print(word)\n",
    "    }\n",
    "}"
   ]
  },
  {
   "cell_type": "code",
   "execution_count": 8,
   "id": "5eacb3b2",
   "metadata": {
    "id": "5eacb3b2"
   },
   "outputs": [
    {
     "name": "stdout",
     "output_type": "stream",
     "text": [
      "[1] \"Hi!\"\n",
      "[1] \"Hi!\"\n"
     ]
    }
   ],
   "source": [
    "# Be sure to run the cell above in order to define the greeting() function.\n",
    "\n",
    "# No arguments are passed in so it uses the default values:\n",
    "greeting()"
   ]
  },
  {
   "cell_type": "code",
   "execution_count": 9,
   "id": "cc9099c0",
   "metadata": {
    "id": "cc9099c0"
   },
   "outputs": [
    {
     "name": "stdout",
     "output_type": "stream",
     "text": [
      "[1] \"Hey There!\"\n",
      "[1] \"Hey There!\"\n",
      "[1] \"Hey There!\"\n"
     ]
    }
   ],
   "source": [
    "# The function will use the passed-in values:\n",
    "\n",
    "greeting(\"Hey There!\", 3)"
   ]
  },
  {
   "cell_type": "code",
   "execution_count": 10,
   "id": "68db274c",
   "metadata": {
    "id": "68db274c"
   },
   "outputs": [
    {
     "name": "stdout",
     "output_type": "stream",
     "text": [
      "[1] \"Hola!\"\n",
      "[1] \"Hola!\"\n"
     ]
    }
   ],
   "source": [
    "# Only one value is passed in so the function will use the the passed-in value for the first parameter (word), \n",
    "# but use the default value for the second parameter (num_times):\n",
    "\n",
    "greeting(\"Hola!\")"
   ]
  },
  {
   "cell_type": "markdown",
   "id": "32021342",
   "metadata": {
    "id": "32021342"
   },
   "source": [
    "### ✅ Exercise 10\n",
    "\n",
    "- Define a function named \"odd_or_even\". \n",
    "- The function should receive a vector of numbers as one parameter. \n",
    "- The function should also receive a second parameter ( 0 or 1) that tells it whether to print out the even numbers (if 0), or the odd numbers (if 1).\n",
    "- Call the function passing in an argument for odd or even printing along with the following vector: c(1,2,3,4,5,6,7,8,9,10)"
   ]
  },
  {
   "cell_type": "code",
   "execution_count": 13,
   "id": "75dd8709",
   "metadata": {
    "id": "75dd8709"
   },
   "outputs": [
    {
     "name": "stdout",
     "output_type": "stream",
     "text": [
      "[1] 1\n",
      "[1] 3\n",
      "[1] 5\n",
      "[1] 7\n",
      "[1] 9\n"
     ]
    }
   ],
   "source": [
    "odd_or_even <- function(numbers, choice){\n",
    "    if (choice == 0){\n",
    "        #Print even numbers\n",
    "        for(num in numbers){\n",
    "            if(num%%2 == 0){\n",
    "                print(num)\n",
    "            }\n",
    "        }\n",
    "    } else if(choice == 1){\n",
    "        #Print odd numbers\n",
    "        for(num in numbers){\n",
    "            if(num%%2 != 0){\n",
    "                print(num)\n",
    "            }\n",
    "        }\n",
    "    } else {\n",
    "        print(\"Invalid choice. Please enter 0 for even nos or 1 for odd nos\")\n",
    "    }\n",
    "}\n",
    "odd_or_even(c(1, 2, 3, 4, 5, 6, 7, 8, 9, 10), 1) "
   ]
  },
  {
   "cell_type": "code",
   "execution_count": 14,
   "id": "9f750867",
   "metadata": {},
   "outputs": [
    {
     "name": "stdout",
     "output_type": "stream",
     "text": [
      "[1] 2\n",
      "[1] 4\n",
      "[1] 6\n",
      "[1] 8\n",
      "[1] 10\n"
     ]
    }
   ],
   "source": [
    "odd_or_even(c(1, 2, 3, 4, 5, 6, 7, 8, 9, 10), 0) "
   ]
  },
  {
   "cell_type": "markdown",
   "id": "fe144b36",
   "metadata": {
    "id": "fe144b36"
   },
   "source": [
    "### Using Return\n",
    "\n",
    "The standard return rule in R is that a function will return the last value that it computed. However, if we would like to be explicit about what is outputted, or end the execution, we can use `return()`.\n",
    "\n",
    "For example, we can pass a vector of words to a function and have our function print out each of those words until the word is \"Bye\", in which case \"Bye\" will be outputted and then we will return (or exit) from the function.\n",
    "\n",
    "For example:"
   ]
  },
  {
   "cell_type": "code",
   "execution_count": 15,
   "id": "92f92f24",
   "metadata": {
    "id": "92f92f24"
   },
   "outputs": [],
   "source": [
    "# Define the function using a return statement (return ends execution):\n",
    "\n",
    "greetings <- function(words) {\n",
    "    for (word in words) {\n",
    "        if(word == \"Bye\"){\n",
    "            return(\"Bye\")\n",
    "        } else {\n",
    "            print(word)\n",
    "        }\n",
    "    }\n",
    "}"
   ]
  },
  {
   "cell_type": "code",
   "execution_count": 16,
   "id": "82854159",
   "metadata": {
    "id": "82854159"
   },
   "outputs": [
    {
     "name": "stdout",
     "output_type": "stream",
     "text": [
      "[1] \"Hello\"\n",
      "[1] \"Howdy\"\n",
      "[1] \"Hi\"\n",
      "[1] \"Hola\"\n"
     ]
    }
   ],
   "source": [
    "# Call the function without passing in the word \"Bye\":\n",
    "\n",
    "greetings( c(\"Hello\", \"Howdy\", \"Hi\", \"Hola\") )"
   ]
  },
  {
   "cell_type": "code",
   "execution_count": 17,
   "id": "e23c8afe",
   "metadata": {
    "id": "e23c8afe"
   },
   "outputs": [
    {
     "name": "stdout",
     "output_type": "stream",
     "text": [
      "[1] \"Hello\"\n"
     ]
    },
    {
     "data": {
      "text/html": [
       "'Bye'"
      ],
      "text/latex": [
       "'Bye'"
      ],
      "text/markdown": [
       "'Bye'"
      ],
      "text/plain": [
       "[1] \"Bye\""
      ]
     },
     "metadata": {},
     "output_type": "display_data"
    }
   ],
   "source": [
    "# Call the function passing in the word \"Bye\":\n",
    "\n",
    "greetings( c(\"Hello\", \"Bye\", \"Howdy\", \"Hi\", \"Hola\") )"
   ]
  },
  {
   "cell_type": "markdown",
   "id": "bd93cd5a",
   "metadata": {
    "id": "bd93cd5a"
   },
   "source": [
    "### Function Application"
   ]
  },
  {
   "cell_type": "markdown",
   "id": "30a2b6ed",
   "metadata": {
    "id": "30a2b6ed"
   },
   "source": [
    "#### sapply()\n",
    "We can apply a function to each element in a vector by using the `sapply()` function. \n",
    "\n",
    "For example, we will define a square_num() function to square the values passed to it:"
   ]
  },
  {
   "cell_type": "code",
   "execution_count": 18,
   "id": "fb3bb30a",
   "metadata": {
    "id": "fb3bb30a"
   },
   "outputs": [],
   "source": [
    "square_num <- function(x){\n",
    "    return(x^2)\n",
    "}"
   ]
  },
  {
   "cell_type": "markdown",
   "id": "85c8e0a2",
   "metadata": {
    "id": "85c8e0a2"
   },
   "source": [
    "We can then apply the square_num() function to each element in a vector by passing the vector to sapply() and assigning square_num to the `FUN` parameter:"
   ]
  },
  {
   "cell_type": "code",
   "execution_count": 19,
   "id": "4e9d473d",
   "metadata": {
    "id": "4e9d473d"
   },
   "outputs": [
    {
     "data": {
      "text/html": [
       "<style>\n",
       ".list-inline {list-style: none; margin:0; padding: 0}\n",
       ".list-inline>li {display: inline-block}\n",
       ".list-inline>li:not(:last-child)::after {content: \"\\00b7\"; padding: 0 .5ex}\n",
       "</style>\n",
       "<ol class=list-inline><li>4</li><li>16</li><li>36</li><li>64</li></ol>\n"
      ],
      "text/latex": [
       "\\begin{enumerate*}\n",
       "\\item 4\n",
       "\\item 16\n",
       "\\item 36\n",
       "\\item 64\n",
       "\\end{enumerate*}\n"
      ],
      "text/markdown": [
       "1. 4\n",
       "2. 16\n",
       "3. 36\n",
       "4. 64\n",
       "\n",
       "\n"
      ],
      "text/plain": [
       "[1]  4 16 36 64"
      ]
     },
     "metadata": {},
     "output_type": "display_data"
    }
   ],
   "source": [
    "sapply(c(2,4,6,8), FUN = square_num)"
   ]
  },
  {
   "cell_type": "markdown",
   "id": "c7703e7a",
   "metadata": {
    "id": "c7703e7a"
   },
   "source": [
    "<div class=\"alert alert-block alert-warning\">\n",
    "<b>sapply()</b> applies a function to each element within a <b>vector</b>. In the example above, we first pass a vector into sapply(). We then indicate the function that we would like to apply to each element within the passed-in vector by assigning the function to the <b>FUN</b> parameter. In this case, the <b>square_num</b> function was passed in so sapply returns the square of each number from the passed-in vector. </div>"
   ]
  },
  {
   "cell_type": "markdown",
   "id": "8a706632",
   "metadata": {
    "id": "8a706632"
   },
   "source": [
    "#### apply()\n",
    "\n",
    "We can also apply a function to a matrix by using the `apply()` function. Since a matrix is two dimensional, there's an additional required parameter called MARGIN which indicates whether you would like for the function to be applied over the rows (indicated by a 1) or over the columns (indicated by a 2).\n",
    "\n",
    "For example:"
   ]
  },
  {
   "cell_type": "code",
   "execution_count": 20,
   "id": "b689d9e3",
   "metadata": {
    "id": "b689d9e3"
   },
   "outputs": [
    {
     "data": {
      "text/html": [
       "<table class=\"dataframe\">\n",
       "<caption>A matrix: 6 × 2 of type int</caption>\n",
       "<tbody>\n",
       "\t<tr><td>1</td><td> 7</td></tr>\n",
       "\t<tr><td>2</td><td> 8</td></tr>\n",
       "\t<tr><td>3</td><td> 9</td></tr>\n",
       "\t<tr><td>4</td><td>10</td></tr>\n",
       "\t<tr><td>5</td><td>11</td></tr>\n",
       "\t<tr><td>6</td><td>12</td></tr>\n",
       "</tbody>\n",
       "</table>\n"
      ],
      "text/latex": [
       "A matrix: 6 × 2 of type int\n",
       "\\begin{tabular}{ll}\n",
       "\t 1 &  7\\\\\n",
       "\t 2 &  8\\\\\n",
       "\t 3 &  9\\\\\n",
       "\t 4 & 10\\\\\n",
       "\t 5 & 11\\\\\n",
       "\t 6 & 12\\\\\n",
       "\\end{tabular}\n"
      ],
      "text/markdown": [
       "\n",
       "A matrix: 6 × 2 of type int\n",
       "\n",
       "| 1 |  7 |\n",
       "| 2 |  8 |\n",
       "| 3 |  9 |\n",
       "| 4 | 10 |\n",
       "| 5 | 11 |\n",
       "| 6 | 12 |\n",
       "\n"
      ],
      "text/plain": [
       "     [,1] [,2]\n",
       "[1,] 1     7  \n",
       "[2,] 2     8  \n",
       "[3,] 3     9  \n",
       "[4,] 4    10  \n",
       "[5,] 5    11  \n",
       "[6,] 6    12  "
      ]
     },
     "metadata": {},
     "output_type": "display_data"
    }
   ],
   "source": [
    "# Create a matrix:\n",
    "\n",
    "mat <- matrix(1:12, 6, 2)\n",
    "mat"
   ]
  },
  {
   "cell_type": "markdown",
   "id": "45348c58",
   "metadata": {
    "id": "45348c58"
   },
   "source": [
    "Use apply() to apply the built-in mean function over the columns of the matrix:"
   ]
  },
  {
   "cell_type": "code",
   "execution_count": 21,
   "id": "c5f024b3",
   "metadata": {
    "id": "c5f024b3"
   },
   "outputs": [
    {
     "data": {
      "text/html": [
       "<style>\n",
       ".list-inline {list-style: none; margin:0; padding: 0}\n",
       ".list-inline>li {display: inline-block}\n",
       ".list-inline>li:not(:last-child)::after {content: \"\\00b7\"; padding: 0 .5ex}\n",
       "</style>\n",
       "<ol class=list-inline><li>3.5</li><li>9.5</li></ol>\n"
      ],
      "text/latex": [
       "\\begin{enumerate*}\n",
       "\\item 3.5\n",
       "\\item 9.5\n",
       "\\end{enumerate*}\n"
      ],
      "text/markdown": [
       "1. 3.5\n",
       "2. 9.5\n",
       "\n",
       "\n"
      ],
      "text/plain": [
       "[1] 3.5 9.5"
      ]
     },
     "metadata": {},
     "output_type": "display_data"
    }
   ],
   "source": [
    "apply(mat, MARGIN=2, FUN=mean)"
   ]
  },
  {
   "cell_type": "markdown",
   "id": "21b5fb4c",
   "metadata": {
    "id": "21b5fb4c"
   },
   "source": [
    "<div class=\"alert alert-block alert-warning\">\n",
    "<b>apply()</b> applies a function to either the rows or the columns of a passed-in <b>matrix</b>. In the example above, we first pass a matrix (mat) into apply(). We then indicate that we would like a function to be applied to the columns of the passed-in matrix by assigning 2 to the <b>MARGIN</b> parameter (2 indicates columns). Finally, we indicate the function that we would like to apply to each column of the passed-in matrix by assigning the function to the <b>FUN</b> parameter. In this case, the <b>mean</b> function was passed in so apply returns the mean of each column of the passed-in matrix. </div>"
   ]
  },
  {
   "cell_type": "markdown",
   "id": "15a82baa",
   "metadata": {
    "id": "15a82baa"
   },
   "source": [
    "### Getting Help\n",
    "\n",
    "To learn more about a function or an object, you can place a question mark (\"?\") before the object or use the help() function. Running the cell will display a description and details about the object along with exmples of how it's used:"
   ]
  },
  {
   "cell_type": "code",
   "execution_count": 22,
   "id": "fb264e5b",
   "metadata": {
    "id": "fb264e5b"
   },
   "outputs": [],
   "source": [
    "?sapply()"
   ]
  },
  {
   "cell_type": "code",
   "execution_count": 23,
   "id": "d06ef021",
   "metadata": {
    "id": "d06ef021"
   },
   "outputs": [],
   "source": [
    "help(read.table)"
   ]
  },
  {
   "cell_type": "markdown",
   "id": "3e817532",
   "metadata": {
    "id": "3e817532"
   },
   "source": [
    "<div class=\"alert alert-block alert-info\">\n",
    "<b>Tip:</b> Whenever you're confused about what a function or an object does, or you desire to better understand its capabilities, precede it with a \"?\" or wrap it in the help() function to learn more.\n",
    "    \n",
    "    E.g., ?data.frame, help(sort)\n",
    "</div>"
   ]
  },
  {
   "cell_type": "markdown",
   "id": "75f23a99",
   "metadata": {
    "id": "75f23a99"
   },
   "source": [
    "---"
   ]
  },
  {
   "cell_type": "markdown",
   "id": "47aeb7ae",
   "metadata": {
    "id": "47aeb7ae"
   },
   "source": [
    "# 🌟 You are done!\n",
    "<br>\n",
    "Review previous lessons often to consolidate the learnings.\n",
    "\n",
    "\n",
    "- [**Lesson 1: R Basic Data Types**](Lesson_1_R_Basic_Data_Types.ipynb)\n",
    "\n",
    "- [**Lesson 2: R Data Structures**](Lesson_2_R_Data_Structures.ipynb)\n",
    "\n",
    "- [**Lesson 3: Importing Data**](Lesson_3_Importing_Data.ipynb)\n",
    "\n",
    "- [**Lesson 4: Conditionals and Loops**](Lesson_4_Conditionals_and_Loops.ipynb)"
   ]
  },
  {
   "cell_type": "markdown",
   "id": "a078eea4",
   "metadata": {
    "id": "a078eea4"
   },
   "source": [
    "---"
   ]
  },
  {
   "cell_type": "markdown",
   "id": "6417d0b1",
   "metadata": {
    "id": "6417d0b1"
   },
   "source": [
    "# Contributions & acknowledgment"
   ]
  },
  {
   "cell_type": "markdown",
   "id": "f8a28fa0",
   "metadata": {
    "id": "f8a28fa0"
   },
   "source": [
    "Thanks Antony Ross for contributing the content for this notebook."
   ]
  },
  {
   "cell_type": "markdown",
   "id": "d366f518",
   "metadata": {
    "id": "d366f518"
   },
   "source": [
    "---"
   ]
  },
  {
   "cell_type": "markdown",
   "id": "8e2cf8c6",
   "metadata": {
    "id": "8e2cf8c6"
   },
   "source": [
    "Copyright (c) 2022 Stanford Data Ocean (SDO)\n",
    "\n",
    "All rights reserved."
   ]
  }
 ],
 "metadata": {
  "colab": {
   "provenance": []
  },
  "kernelspec": {
   "display_name": "R",
   "language": "R",
   "name": "ir"
  },
  "language_info": {
   "codemirror_mode": "r",
   "file_extension": ".r",
   "mimetype": "text/x-r-source",
   "name": "R",
   "pygments_lexer": "r",
   "version": "4.2.2"
  }
 },
 "nbformat": 4,
 "nbformat_minor": 5
}
