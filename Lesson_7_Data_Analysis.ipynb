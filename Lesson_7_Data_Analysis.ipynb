{
 "cells": [
  {
   "cell_type": "markdown",
   "metadata": {
    "id": "TPa01c7amAIa"
   },
   "source": [
    "<img src=\"materials/images/introduction-to-pandas-cover.png\"/>"
   ]
  },
  {
   "cell_type": "markdown",
   "metadata": {
    "id": "Usri3fci7kgd"
   },
   "source": [
    "\n",
    "# 👋 Welcome, before you start\n",
    "<br>\n",
    "\n",
    "### 📚 Module overview\n",
    "\n",
    "This module introduces you to the pandas library for working with structured data. Pandas is powerful and expressive, and it's one of the primary reasons that Python has become a leading option for doing data science. Pandas provides data structures and intuitive capabilities for performing fast and easy **data cleaning, preparation, manipulation, aggregation, and sophisticated analysis**.\n",
    "\n",
    "We will go through seven lessons with you:\n",
    "\n",
    "- [**Lesson 1: Pandas Data Structures**](Lesson_1_Pandas_Data_Structures.ipynb)\n",
    "\n",
    "- [**Lesson 2: Dropping Rows and Columns**](Lesson_2_Dropping_Rows_and_Columns.ipynb)\n",
    "\n",
    "- [**Lesson 3: Selecting and Filtering Rows and Columns**](Lesson_3_Selecting_and_Filtering_Rows_and_Columns.ipynb)\n",
    "\n",
    "- [**Lesson 4: Importing Data**](Lesson_4_Importing_Data.ipynb)\n",
    "\n",
    "- [**Lesson 5: Data Exploration**](Lesson_5_Data_Exploration.ipynb)\n",
    "\n",
    "- [**Lesson 6: Data Transformation**](Lesson_6_Data_Transformation.ipynb)\n",
    "\n",
    "- <font color=#E98300>**Lesson 7: Data Analysis**</font>    `📍You are here.`\n",
    "    \n",
    "</br>\n",
    "\n",
    "\n",
    "### ✅ Exercises\n",
    "We encourage you to try the exercise questions in this module, and use the [**solutions to the exercises**](Exercise_solutions.ipynb) to help you study.\n",
    "\n",
    "</br>\n",
    "\n",
    "\n",
    "<div class=\"alert alert-block alert-info\">\n",
    "<h3>⌨️ Keyboard shortcut</h3>\n",
    "\n",
    "These common shortcut could save your time going through this notebook:\n",
    "- Run the current cell: **`Enter + Shift`**.\n",
    "- Add a cell above the current cell: Press **`A`**.\n",
    "- Add a cell below the current cell: Press **`B`**.\n",
    "- Change a code cell to markdown cell: Select the cell, and then press **`M`**.\n",
    "- Delete a cell: Press **`D`** twice.\n",
    "\n",
    "Need more help with keyboard shortcut? Press **`H`** to look it up.\n",
    "</div>"
   ]
  },
  {
   "cell_type": "markdown",
   "metadata": {
    "id": "LpKL7qzR7kgf"
   },
   "source": [
    "---"
   ]
  },
  {
   "cell_type": "markdown",
   "metadata": {
    "id": "cBo8AA-b7kgg"
   },
   "source": [
    "# Lesson 7: Data Analysis"
   ]
  },
  {
   "cell_type": "markdown",
   "metadata": {
    "id": "lZ9JriZH7kgg"
   },
   "source": [
    "We are going to go through these concepts in this module:\n",
    "\n",
    "- [Conditional selection](#Conditional-selection)\n",
    "- [Multiple conditions](#Multiple-conditions)\n",
    "\n",
    "`🕒 This module should take about 10 minutes to complete.`\n",
    "\n",
    "`✍️ This notebook is written using Python.`"
   ]
  },
  {
   "cell_type": "code",
   "execution_count": 1,
   "metadata": {
    "id": "t6XhhA_QyB7i"
   },
   "outputs": [],
   "source": [
    "import pandas as pd"
   ]
  },
  {
   "cell_type": "code",
   "execution_count": 2,
   "metadata": {
    "id": "lf6xoCYbjqEf"
   },
   "outputs": [
    {
     "data": {
      "text/html": [
       "<div>\n",
       "<style scoped>\n",
       "    .dataframe tbody tr th:only-of-type {\n",
       "        vertical-align: middle;\n",
       "    }\n",
       "\n",
       "    .dataframe tbody tr th {\n",
       "        vertical-align: top;\n",
       "    }\n",
       "\n",
       "    .dataframe thead th {\n",
       "        text-align: right;\n",
       "    }\n",
       "</style>\n",
       "<table border=\"1\" class=\"dataframe\">\n",
       "  <thead>\n",
       "    <tr style=\"text-align: right;\">\n",
       "      <th></th>\n",
       "      <th>age</th>\n",
       "      <th>sex</th>\n",
       "      <th>chest_pain</th>\n",
       "      <th>rest_bp</th>\n",
       "      <th>chol</th>\n",
       "      <th>max_hr</th>\n",
       "      <th>st_depr</th>\n",
       "      <th>heart_disease</th>\n",
       "    </tr>\n",
       "  </thead>\n",
       "  <tbody>\n",
       "    <tr>\n",
       "      <th>0</th>\n",
       "      <td>63</td>\n",
       "      <td>1</td>\n",
       "      <td>3</td>\n",
       "      <td>145</td>\n",
       "      <td>233</td>\n",
       "      <td>150</td>\n",
       "      <td>2.3</td>\n",
       "      <td>Yes</td>\n",
       "    </tr>\n",
       "    <tr>\n",
       "      <th>1</th>\n",
       "      <td>37</td>\n",
       "      <td>1</td>\n",
       "      <td>2</td>\n",
       "      <td>130</td>\n",
       "      <td>250</td>\n",
       "      <td>187</td>\n",
       "      <td>3.5</td>\n",
       "      <td>Yes</td>\n",
       "    </tr>\n",
       "    <tr>\n",
       "      <th>2</th>\n",
       "      <td>41</td>\n",
       "      <td>0</td>\n",
       "      <td>1</td>\n",
       "      <td>130</td>\n",
       "      <td>204</td>\n",
       "      <td>172</td>\n",
       "      <td>1.4</td>\n",
       "      <td>Yes</td>\n",
       "    </tr>\n",
       "    <tr>\n",
       "      <th>3</th>\n",
       "      <td>56</td>\n",
       "      <td>1</td>\n",
       "      <td>1</td>\n",
       "      <td>120</td>\n",
       "      <td>236</td>\n",
       "      <td>178</td>\n",
       "      <td>0.8</td>\n",
       "      <td>Yes</td>\n",
       "    </tr>\n",
       "    <tr>\n",
       "      <th>4</th>\n",
       "      <td>57</td>\n",
       "      <td>0</td>\n",
       "      <td>0</td>\n",
       "      <td>120</td>\n",
       "      <td>354</td>\n",
       "      <td>163</td>\n",
       "      <td>0.6</td>\n",
       "      <td>Yes</td>\n",
       "    </tr>\n",
       "  </tbody>\n",
       "</table>\n",
       "</div>"
      ],
      "text/plain": [
       "   age  sex  chest_pain  rest_bp  chol  max_hr  st_depr heart_disease\n",
       "0   63    1           3      145   233     150      2.3           Yes\n",
       "1   37    1           2      130   250     187      3.5           Yes\n",
       "2   41    0           1      130   204     172      1.4           Yes\n",
       "3   56    1           1      120   236     178      0.8           Yes\n",
       "4   57    0           0      120   354     163      0.6           Yes"
      ]
     },
     "execution_count": 2,
     "metadata": {},
     "output_type": "execute_result"
    }
   ],
   "source": [
    "# We renamed the \"target\" column to \"heart_disease\" column in Lesson 6. Here, we will do this again.\n",
    "\n",
    "df = pd.read_csv(\"data/heart_disease.csv\")\n",
    "df = df.rename(columns={\"target\":\"heart_disease\"})\n",
    "df[\"sex\"] = df[\"sex\"].map({\"Male\":0, \"Female\":1})\n",
    "\n",
    "# Preview the heart disease dataset.\n",
    "\n",
    "df.head()"
   ]
  },
  {
   "cell_type": "markdown",
   "metadata": {
    "id": "748nTIC1jqEf"
   },
   "source": [
    "## Conditional selection"
   ]
  },
  {
   "cell_type": "code",
   "execution_count": 3,
   "metadata": {
    "id": "cvkcdHIYjqEf"
   },
   "outputs": [
    {
     "data": {
      "text/plain": [
       "0       True\n",
       "1       True\n",
       "2      False\n",
       "3       True\n",
       "4      False\n",
       "       ...  \n",
       "298    False\n",
       "299     True\n",
       "300     True\n",
       "301     True\n",
       "302    False\n",
       "Name: sex, Length: 303, dtype: bool"
      ]
     },
     "execution_count": 3,
     "metadata": {},
     "output_type": "execute_result"
    }
   ],
   "source": [
    "# Asking each value in the column \"sex\" whether it is equivalent to 1 (\"Female\"):\n",
    "\n",
    "df[\"sex\"]==1"
   ]
  },
  {
   "cell_type": "markdown",
   "metadata": {
    "id": "8pMKhufWjqEf"
   },
   "source": [
    "<div class=\"alert alert-block alert-warning\">\n",
    "<b>Alert:</b> Conditional (boolean) selection is a question and always returns either True or False. This result can be placed within the square brackets of a DataFrame, using .loc, and only the rows that were True will be returned.\n",
    "</div>"
   ]
  },
  {
   "cell_type": "markdown",
   "metadata": {
    "id": "_oRXMVm7jqEf"
   },
   "source": [
    "### Use booleans for row selection\n",
    "(Review the use of [.loc](#Using-loc) if needed.)\n",
    "\n",
    "*Select the rows where the column \"sex\" is equivalent to 1 (\"Female\"). Then display just the column \"age\"*:"
   ]
  },
  {
   "cell_type": "code",
   "execution_count": 4,
   "metadata": {
    "id": "PPikvLRwjqEf"
   },
   "outputs": [
    {
     "data": {
      "text/plain": [
       "0      63\n",
       "1      37\n",
       "3      56\n",
       "5      57\n",
       "7      44\n",
       "       ..\n",
       "295    63\n",
       "297    59\n",
       "299    45\n",
       "300    68\n",
       "301    57\n",
       "Name: age, Length: 207, dtype: int64"
      ]
     },
     "execution_count": 4,
     "metadata": {},
     "output_type": "execute_result"
    }
   ],
   "source": [
    "df.loc[df[\"sex\"]==1, \"age\"]"
   ]
  },
  {
   "cell_type": "markdown",
   "metadata": {
    "id": "Q3-L58rYjqEg"
   },
   "source": [
    "### count()\n",
    "The `count()` method displays the number of rows that are included in a selection.\n",
    "\n",
    "*Get the rows where the column chest_pain is equivalent to 3. Return only the column \"sex\", and display the number of rows returned*:"
   ]
  },
  {
   "cell_type": "code",
   "execution_count": 5,
   "metadata": {
    "id": "m_psppJNjqEg"
   },
   "outputs": [
    {
     "data": {
      "text/plain": [
       "23"
      ]
     },
     "execution_count": 5,
     "metadata": {},
     "output_type": "execute_result"
    }
   ],
   "source": [
    "# Use count() to get the number of rows (returned) in a selection.\n",
    "\n",
    "df.loc[df[\"chest_pain\"]== 3, \"sex\"].count()"
   ]
  },
  {
   "cell_type": "markdown",
   "metadata": {
    "id": "iBl37Q12jqEg"
   },
   "source": [
    "### value_counts()\n",
    "The `value_counts()` method displays the itemized counts of each category within a column. In other words, it breaks the column down into its individual categories then sums by category. For example, if the column \"sex\" contained the values [M, F, F, M, F, M, F, F], value_counts() would return that there are 5 of the category F and 3 of the category M:\n",
    "\n",
    "    F 5\n",
    "    M 3\n",
    "\n",
    "*Get the rows where the column chest_pain is equivalent to 3. Return only the column \"sex\", and itemize the number of rows returned by gender*:"
   ]
  },
  {
   "cell_type": "code",
   "execution_count": 6,
   "metadata": {
    "id": "vVYpmUTDjqEg"
   },
   "outputs": [
    {
     "data": {
      "text/plain": [
       "sex\n",
       "1    19\n",
       "0     4\n",
       "Name: count, dtype: int64"
      ]
     },
     "execution_count": 6,
     "metadata": {},
     "output_type": "execute_result"
    }
   ],
   "source": [
    "# Use value_counts() to get the count of each unique category within a column.\n",
    "\n",
    "df.loc[df[\"chest_pain\"]== 3, \"sex\"].value_counts()"
   ]
  },
  {
   "cell_type": "markdown",
   "metadata": {
    "id": "QT4bYAsBjqEg"
   },
   "source": [
    "## ✅ Exercise 6\n",
    "Display how many people had heart disease in this dataset."
   ]
  },
  {
   "cell_type": "code",
   "execution_count": 7,
   "metadata": {
    "id": "30myfCdgjqEg"
   },
   "outputs": [
    {
     "data": {
      "text/plain": [
       "165"
      ]
     },
     "execution_count": 7,
     "metadata": {},
     "output_type": "execute_result"
    }
   ],
   "source": [
    "df.loc[df[\"heart_disease\"]==\"Yes\", \"sex\"].count()"
   ]
  },
  {
   "cell_type": "markdown",
   "metadata": {
    "id": "ts0sxkbXjqEh"
   },
   "source": [
    "---"
   ]
  },
  {
   "cell_type": "markdown",
   "metadata": {
    "id": "zZg-5iBNjqEh"
   },
   "source": [
    "## Multiple conditions\n",
    "\n",
    "Using `.loc`, you can set multiple conditions for a query. The ampersand (&) means \"and\" and the pipe symbol (|) means \"or\"."
   ]
  },
  {
   "cell_type": "markdown",
   "metadata": {
    "id": "CTa0L3BkjqEh"
   },
   "source": [
    "### And (&) operation\n",
    "*Get the rows where the column \"sex\" is equivalent to 1 (\"Female\") **AND** where the column \"max_hr\" is greater than the average \"max_hr\". Return only the column \"sex\", and display the number of rows returned*:"
   ]
  },
  {
   "cell_type": "code",
   "execution_count": 8,
   "metadata": {
    "id": "mxGSasr7jqEh"
   },
   "outputs": [
    {
     "data": {
      "text/plain": [
       "110"
      ]
     },
     "execution_count": 8,
     "metadata": {},
     "output_type": "execute_result"
    }
   ],
   "source": [
    "mean_max_heart_rate = df[\"max_hr\"].mean()\n",
    "\n",
    "df.loc[(df[\"sex\"]== 1) & (df[\"max_hr\"] > mean_max_heart_rate), \"sex\"].count()"
   ]
  },
  {
   "cell_type": "markdown",
   "metadata": {
    "id": "qbh-ZnPzjqEh"
   },
   "source": [
    "### Or ( | ) operation\n",
    "*Get the rows where the column \"chest_pain\" is equivalent to 0 **OR** the column \"age\" is greater than 60; **AND**, from among those rows, get the rows where the column \"sex\" is equivalent to 0 (\"Male\"). Return only the column \"heart disease\", and display the itemized count of how many did and did not have heart disease*:"
   ]
  },
  {
   "cell_type": "code",
   "execution_count": 9,
   "metadata": {
    "id": "9tuhJsoQjqEh"
   },
   "outputs": [
    {
     "data": {
      "text/plain": [
       "heart_disease\n",
       "Yes    34\n",
       "No     22\n",
       "Name: count, dtype: int64"
      ]
     },
     "execution_count": 9,
     "metadata": {},
     "output_type": "execute_result"
    }
   ],
   "source": [
    "df.loc[((df[\"chest_pain\"] == 0) | (df[\"age\"] > 60)) &\n",
    "        (df[\"sex\"] == 0), \"heart_disease\"].value_counts()"
   ]
  },
  {
   "cell_type": "markdown",
   "metadata": {
    "id": "_gNM4eCIjqEi"
   },
   "source": [
    "<div class=\"alert alert-block alert-warning\">\n",
    "<b>Alert:</b> Because of precedence and the order of operations, it's important to place parentheses around each condition to clarify the desired order of operations.\n",
    "</div>"
   ]
  },
  {
   "cell_type": "markdown",
   "metadata": {
    "id": "7zDANiKyjqEi"
   },
   "source": [
    "## ✅ Exercise 7\n",
    "Get the rows where the column \"max_hr\" is less than 120 OR the column \"chol\" is greater than 300; AND, from among those rows, get the rows where the column \"sex\" is equivalent to 1 (\"Female\"). Then display the itemized count of the patients who had and did not have heart disease."
   ]
  },
  {
   "cell_type": "code",
   "execution_count": 10,
   "metadata": {
    "id": "1q4UDQaajqEi"
   },
   "outputs": [
    {
     "data": {
      "text/plain": [
       "heart_disease\n",
       "No     34\n",
       "Yes     9\n",
       "Name: count, dtype: int64"
      ]
     },
     "execution_count": 10,
     "metadata": {},
     "output_type": "execute_result"
    }
   ],
   "source": [
    "df.loc[((df[\"max_hr\"] < 120) | (df[\"chol\"] > 300)) &\n",
    "      (df[\"sex\"] == 1), \"heart_disease\"].value_counts()"
   ]
  },
  {
   "cell_type": "markdown",
   "metadata": {
    "id": "7xbiL2MWjqEi"
   },
   "source": [
    "# 🌟 You are done!\n",
    "<br>\n",
    "Review previous lessons often to consolidate the learnings.\n",
    "\n",
    "\n",
    "- [**Lesson 1: Pandas Data Structures**](Lesson_1_Pandas_Data_Structures.ipynb)\n",
    "\n",
    "- [**Lesson 2: Dropping Rows and Columns**](Lesson_2_Dropping_Rows_and_Columns.ipynb)\n",
    "\n",
    "- [**Lesson 3: Selecting and Filtering Rows and Columns**](Lesson_3_Selecting_and_Filtering_Rows_and_Columns.ipynb)\n",
    "\n",
    "- [**Lesson 4: Importing Data**](Lesson_4_Importing_Data.ipynb)\n",
    "\n",
    "- [**Lesson 5: Data Exploration**](Lesson_5_Data_Exploration.ipynb)\n",
    "\n",
    "- [**Lesson 6: Data Transformation**](Lesson_6_Data_Transformation.ipynb)"
   ]
  },
  {
   "cell_type": "markdown",
   "metadata": {
    "id": "XQjJMNajjqEi"
   },
   "source": [
    "---"
   ]
  },
  {
   "cell_type": "markdown",
   "metadata": {
    "id": "ofFv5_wLjqEi"
   },
   "source": [
    "# Contributions & acknowledgment"
   ]
  },
  {
   "cell_type": "markdown",
   "metadata": {
    "id": "S6sMkfBZjqEi"
   },
   "source": [
    "Thanks Antony Ross for contributing the content for this notebook."
   ]
  },
  {
   "cell_type": "markdown",
   "metadata": {
    "id": "UkjIXqd6jqEj"
   },
   "source": [
    "---"
   ]
  },
  {
   "cell_type": "markdown",
   "metadata": {
    "id": "T2FtRP-ojqEj"
   },
   "source": [
    "Copyright (c) 2022 Stanford Data Ocean (SDO)\n",
    "\n",
    "All rights reserved."
   ]
  }
 ],
 "metadata": {
  "colab": {
   "collapsed_sections": [
    "748nTIC1jqEf",
    "_oRXMVm7jqEf",
    "Q3-L58rYjqEg",
    "iBl37Q12jqEg",
    "QT4bYAsBjqEg",
    "zZg-5iBNjqEh",
    "CTa0L3BkjqEh",
    "qbh-ZnPzjqEh"
   ],
   "provenance": []
  },
  "kernelspec": {
   "display_name": "Python 3 (ipykernel)",
   "language": "python",
   "name": "python3"
  },
  "language_info": {
   "codemirror_mode": {
    "name": "ipython",
    "version": 3
   },
   "file_extension": ".py",
   "mimetype": "text/x-python",
   "name": "python",
   "nbconvert_exporter": "python",
   "pygments_lexer": "ipython3",
   "version": "3.10.12"
  }
 },
 "nbformat": 4,
 "nbformat_minor": 1
}
