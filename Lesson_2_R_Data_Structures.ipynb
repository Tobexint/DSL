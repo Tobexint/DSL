{
 "cells": [
  {
   "cell_type": "markdown",
   "id": "884c204c",
   "metadata": {
    "id": "884c204c"
   },
   "source": [
    "<img src=\"materials/images/introduction-to-r-programming-cover.png\"/>"
   ]
  },
  {
   "cell_type": "markdown",
   "id": "6ed38f55",
   "metadata": {
    "id": "6ed38f55"
   },
   "source": [
    "\n",
    "# 👋 Welcome, before you start\n",
    "<br>\n",
    "\n",
    "### 📚 Module overview\n",
    "\n",
    "R is a statistical programming language that is very effective for computation and high-level graphics. It is commonly used for data analytics and data science.\n",
    "\n",
    "We are going through five lessons in this module:\n",
    "\n",
    "- [**Lesson 1: R Basic Data Types**](Lesson_1_R_Basic_Data_Types.ipynb)\n",
    "\n",
    "- <font color=#E98300>**Lesson 2: R Data Structures**</font>    `📍You are here.`\n",
    "    \n",
    "- [**Lesson 3: Importing Data**](Lesson_3_Importing_Data.ipynb)\n",
    "\n",
    "- [**Lesson 4: Conditionals and Loops**](Lesson_4_Conditionals_and_Loops.ipynb)\n",
    "\n",
    "- [**Lesson 5: Functions**](Lesson_5_Functions.ipynb)\n",
    "\n",
    "</br>\n",
    "\n",
    "### ✅ Exercises\n",
    "We encourage you to try the exercise questions in this module, and use the [**solutions to the exercises**](Exercise_solutions.ipynb) to help you study.\n",
    "\n",
    "</br>\n",
    "\n",
    "<div class=\"alert alert-block alert-info\">\n",
    "<h3>⌨️ Keyboard shortcut</h3>\n",
    "\n",
    "These common shortcut could save your time going through this notebook:\n",
    "- Run the current cell: **`Enter + Shift`**.\n",
    "- Add a cell above the current cell: Press **`A`**.\n",
    "- Add a cell below the current cell: Press **`B`**.\n",
    "- Change a code cell to markdown cell: Select the cell, and then press **`M`**.\n",
    "- Delete a cell: Press **`D`** twice.\n",
    "\n",
    "Need more help with keyboard shortcut? Press **`H`** to look it up.\n",
    "</div>"
   ]
  },
  {
   "cell_type": "markdown",
   "id": "47765783-58e5-4856-a34b-894cf712cbaa",
   "metadata": {
    "id": "47765783-58e5-4856-a34b-894cf712cbaa"
   },
   "source": [
    "---"
   ]
  },
  {
   "cell_type": "markdown",
   "id": "41a7c9eb",
   "metadata": {
    "id": "41a7c9eb"
   },
   "source": [
    "# Lesson 2: R Data Structures\n",
    "\n",
    "A data structure is a format or object for storing data. We are going to go through these concepts:\n",
    "\n",
    "- [Vectors](#Vectors)\n",
    "- [Lists](#Lists)\n",
    "- [Matrix](#Matrix)\n",
    "- [Data Frame](#Data-Frame)\n",
    "\n",
    "`🕒 This module should take about 40 minutes to complete.`\n",
    "\n",
    "`✍️ This notebook is written using R.`"
   ]
  },
  {
   "cell_type": "markdown",
   "id": "f7d62c79",
   "metadata": {
    "id": "f7d62c79"
   },
   "source": [
    "## Vectors\n",
    "The fundamental data structure in R is the vector. A vector is a one-dimensional sequence of data elements, of the same type, stored in a sequence. The elements are most commonly of type character, logical, integer or numeric."
   ]
  },
  {
   "cell_type": "markdown",
   "id": "55afa584",
   "metadata": {
    "id": "55afa584"
   },
   "source": [
    "A common way to create a vector is by directly specifying its content. The c() function can be used to \"combine\" the specified values:"
   ]
  },
  {
   "cell_type": "code",
   "execution_count": 1,
   "id": "142d71dc",
   "metadata": {
    "id": "142d71dc"
   },
   "outputs": [
    {
     "data": {
      "text/html": [
       "<style>\n",
       ".list-inline {list-style: none; margin:0; padding: 0}\n",
       ".list-inline>li {display: inline-block}\n",
       ".list-inline>li:not(:last-child)::after {content: \"\\00b7\"; padding: 0 .5ex}\n",
       "</style>\n",
       "<ol class=list-inline><li>1</li><li>2</li><li>3</li><li>4</li></ol>\n"
      ],
      "text/latex": [
       "\\begin{enumerate*}\n",
       "\\item 1\n",
       "\\item 2\n",
       "\\item 3\n",
       "\\item 4\n",
       "\\end{enumerate*}\n"
      ],
      "text/markdown": [
       "1. 1\n",
       "2. 2\n",
       "3. 3\n",
       "4. 4\n",
       "\n",
       "\n"
      ],
      "text/plain": [
       "[1] 1 2 3 4"
      ]
     },
     "metadata": {},
     "output_type": "display_data"
    }
   ],
   "source": [
    "v1  <-  c(1,2,3,4)\n",
    "v1"
   ]
  },
  {
   "cell_type": "code",
   "execution_count": 2,
   "id": "e08aafb7",
   "metadata": {
    "id": "e08aafb7"
   },
   "outputs": [
    {
     "data": {
      "text/html": [
       "<style>\n",
       ".list-inline {list-style: none; margin:0; padding: 0}\n",
       ".list-inline>li {display: inline-block}\n",
       ".list-inline>li:not(:last-child)::after {content: \"\\00b7\"; padding: 0 .5ex}\n",
       "</style>\n",
       "<ol class=list-inline><li>'This'</li><li>'is'</li><li>'absolutely'</li><li>'fantastic'</li></ol>\n"
      ],
      "text/latex": [
       "\\begin{enumerate*}\n",
       "\\item 'This'\n",
       "\\item 'is'\n",
       "\\item 'absolutely'\n",
       "\\item 'fantastic'\n",
       "\\end{enumerate*}\n"
      ],
      "text/markdown": [
       "1. 'This'\n",
       "2. 'is'\n",
       "3. 'absolutely'\n",
       "4. 'fantastic'\n",
       "\n",
       "\n"
      ],
      "text/plain": [
       "[1] \"This\"       \"is\"         \"absolutely\" \"fantastic\" "
      ]
     },
     "metadata": {},
     "output_type": "display_data"
    }
   ],
   "source": [
    "v2 <- c(\"This\", \"is\", \"absolutely\", \"fantastic\")\n",
    "v2"
   ]
  },
  {
   "cell_type": "code",
   "execution_count": 3,
   "id": "fe0c2193",
   "metadata": {
    "id": "fe0c2193"
   },
   "outputs": [
    {
     "name": "stdout",
     "output_type": "stream",
     "text": [
      "[1]  TRUE FALSE  TRUE FALSE\n"
     ]
    }
   ],
   "source": [
    "v3  <-  c(TRUE, FALSE, TRUE, FALSE)\n",
    "print(v3)"
   ]
  },
  {
   "cell_type": "markdown",
   "id": "afd501f4",
   "metadata": {
    "id": "afd501f4"
   },
   "source": [
    "**Note that if you mix data types, R will coerce the vector to a single data type:**"
   ]
  },
  {
   "cell_type": "code",
   "execution_count": 4,
   "id": "560de41c",
   "metadata": {
    "id": "560de41c"
   },
   "outputs": [
    {
     "name": "stdout",
     "output_type": "stream",
     "text": [
      "[1] \"TRUE\"  \"FALSE\" \"TRUE\"  \"FALSE\"\n"
     ]
    }
   ],
   "source": [
    "v4  <-  c(TRUE, FALSE, TRUE, \"FALSE\")\n",
    "print(v4)"
   ]
  },
  {
   "cell_type": "markdown",
   "id": "abbec426",
   "metadata": {
    "id": "abbec426"
   },
   "source": [
    "<div class=\"alert alert-block alert-warning\">\n",
    "<b>Alert:</b> A vector is a data structure that contains only a single data type (e.g., integers, logicals).\n",
    "</div>"
   ]
  },
  {
   "cell_type": "markdown",
   "id": "fedb9fc2",
   "metadata": {
    "id": "fedb9fc2"
   },
   "source": [
    "### Creating Vectors from a Sequence of Numbers\n",
    "\n",
    "A vector can be constructed from  a sequence of numbers:"
   ]
  },
  {
   "cell_type": "code",
   "execution_count": 5,
   "id": "07039642",
   "metadata": {
    "id": "07039642"
   },
   "outputs": [
    {
     "name": "stdout",
     "output_type": "stream",
     "text": [
      " [1]  1  2  3  4  5  6  7  8  9 10\n"
     ]
    }
   ],
   "source": [
    "# Create a vector from the sequence of numbers 1 through 10 (inclusive):\n",
    "\n",
    "seq1 <- 1:10\n",
    "print(seq1)"
   ]
  },
  {
   "cell_type": "code",
   "execution_count": 6,
   "id": "4128d54b",
   "metadata": {
    "id": "4128d54b"
   },
   "outputs": [
    {
     "name": "stdout",
     "output_type": "stream",
     "text": [
      " [1]  5  4  3  2  1  0 -1 -2 -3 -4 -5\n"
     ]
    }
   ],
   "source": [
    "# Create a vector of numbers beginning from 5 and counting down through (and including) -5:\n",
    "\n",
    "seq1 <- 5:-5\n",
    "print(seq1)"
   ]
  },
  {
   "cell_type": "markdown",
   "id": "1040d28c",
   "metadata": {
    "id": "1040d28c"
   },
   "source": [
    "### A Vector Created using the seq() Function"
   ]
  },
  {
   "cell_type": "markdown",
   "id": "3173468d",
   "metadata": {
    "id": "3173468d"
   },
   "source": [
    "The seq() (\"sequence\") function can be used to construct a vector from a sequence of numbers:"
   ]
  },
  {
   "cell_type": "code",
   "execution_count": 7,
   "id": "0d130da5",
   "metadata": {
    "id": "0d130da5"
   },
   "outputs": [
    {
     "data": {
      "text/html": [
       "<style>\n",
       ".list-inline {list-style: none; margin:0; padding: 0}\n",
       ".list-inline>li {display: inline-block}\n",
       ".list-inline>li:not(:last-child)::after {content: \"\\00b7\"; padding: 0 .5ex}\n",
       "</style>\n",
       "<ol class=list-inline><li>1</li><li>2</li><li>3</li><li>4</li><li>5</li><li>6</li><li>7</li><li>8</li><li>9</li><li>10</li></ol>\n"
      ],
      "text/latex": [
       "\\begin{enumerate*}\n",
       "\\item 1\n",
       "\\item 2\n",
       "\\item 3\n",
       "\\item 4\n",
       "\\item 5\n",
       "\\item 6\n",
       "\\item 7\n",
       "\\item 8\n",
       "\\item 9\n",
       "\\item 10\n",
       "\\end{enumerate*}\n"
      ],
      "text/markdown": [
       "1. 1\n",
       "2. 2\n",
       "3. 3\n",
       "4. 4\n",
       "5. 5\n",
       "6. 6\n",
       "7. 7\n",
       "8. 8\n",
       "9. 9\n",
       "10. 10\n",
       "\n",
       "\n"
      ],
      "text/plain": [
       " [1]  1  2  3  4  5  6  7  8  9 10"
      ]
     },
     "metadata": {},
     "output_type": "display_data"
    }
   ],
   "source": [
    "# Create a vector of 10 numbers beginning from 1:\n",
    "\n",
    "seq(10)"
   ]
  },
  {
   "cell_type": "code",
   "execution_count": 8,
   "id": "6ab18858",
   "metadata": {
    "id": "6ab18858"
   },
   "outputs": [
    {
     "data": {
      "text/html": [
       "<style>\n",
       ".list-inline {list-style: none; margin:0; padding: 0}\n",
       ".list-inline>li {display: inline-block}\n",
       ".list-inline>li:not(:last-child)::after {content: \"\\00b7\"; padding: 0 .5ex}\n",
       "</style>\n",
       "<ol class=list-inline><li>1</li><li>3</li><li>5</li><li>7</li><li>9</li></ol>\n"
      ],
      "text/latex": [
       "\\begin{enumerate*}\n",
       "\\item 1\n",
       "\\item 3\n",
       "\\item 5\n",
       "\\item 7\n",
       "\\item 9\n",
       "\\end{enumerate*}\n"
      ],
      "text/markdown": [
       "1. 1\n",
       "2. 3\n",
       "3. 5\n",
       "4. 7\n",
       "5. 9\n",
       "\n",
       "\n"
      ],
      "text/plain": [
       "[1] 1 3 5 7 9"
      ]
     },
     "metadata": {},
     "output_type": "display_data"
    }
   ],
   "source": [
    "# Create a vector of numbers from 1 through 10, but skipping every second number:\n",
    "\n",
    "seq(1, 10, 2)"
   ]
  },
  {
   "cell_type": "code",
   "execution_count": 9,
   "id": "e91be57b",
   "metadata": {
    "id": "e91be57b"
   },
   "outputs": [
    {
     "data": {
      "text/html": [
       "<style>\n",
       ".list-inline {list-style: none; margin:0; padding: 0}\n",
       ".list-inline>li {display: inline-block}\n",
       ".list-inline>li:not(:last-child)::after {content: \"\\00b7\"; padding: 0 .5ex}\n",
       "</style>\n",
       "<ol class=list-inline><li>1</li><li>1.47368421052632</li><li>1.94736842105263</li><li>2.42105263157895</li><li>2.89473684210526</li><li>3.36842105263158</li><li>3.84210526315789</li><li>4.31578947368421</li><li>4.78947368421053</li><li>5.26315789473684</li><li>5.73684210526316</li><li>6.21052631578947</li><li>6.68421052631579</li><li>7.15789473684211</li><li>7.63157894736842</li><li>8.10526315789474</li><li>8.57894736842105</li><li>9.05263157894737</li><li>9.52631578947368</li><li>10</li></ol>\n"
      ],
      "text/latex": [
       "\\begin{enumerate*}\n",
       "\\item 1\n",
       "\\item 1.47368421052632\n",
       "\\item 1.94736842105263\n",
       "\\item 2.42105263157895\n",
       "\\item 2.89473684210526\n",
       "\\item 3.36842105263158\n",
       "\\item 3.84210526315789\n",
       "\\item 4.31578947368421\n",
       "\\item 4.78947368421053\n",
       "\\item 5.26315789473684\n",
       "\\item 5.73684210526316\n",
       "\\item 6.21052631578947\n",
       "\\item 6.68421052631579\n",
       "\\item 7.15789473684211\n",
       "\\item 7.63157894736842\n",
       "\\item 8.10526315789474\n",
       "\\item 8.57894736842105\n",
       "\\item 9.05263157894737\n",
       "\\item 9.52631578947368\n",
       "\\item 10\n",
       "\\end{enumerate*}\n"
      ],
      "text/markdown": [
       "1. 1\n",
       "2. 1.47368421052632\n",
       "3. 1.94736842105263\n",
       "4. 2.42105263157895\n",
       "5. 2.89473684210526\n",
       "6. 3.36842105263158\n",
       "7. 3.84210526315789\n",
       "8. 4.31578947368421\n",
       "9. 4.78947368421053\n",
       "10. 5.26315789473684\n",
       "11. 5.73684210526316\n",
       "12. 6.21052631578947\n",
       "13. 6.68421052631579\n",
       "14. 7.15789473684211\n",
       "15. 7.63157894736842\n",
       "16. 8.10526315789474\n",
       "17. 8.57894736842105\n",
       "18. 9.05263157894737\n",
       "19. 9.52631578947368\n",
       "20. 10\n",
       "\n",
       "\n"
      ],
      "text/plain": [
       " [1]  1.000000  1.473684  1.947368  2.421053  2.894737  3.368421  3.842105\n",
       " [8]  4.315789  4.789474  5.263158  5.736842  6.210526  6.684211  7.157895\n",
       "[15]  7.631579  8.105263  8.578947  9.052632  9.526316 10.000000"
      ]
     },
     "metadata": {},
     "output_type": "display_data"
    }
   ],
   "source": [
    "# Create a vector of 20 numbers, evenly spaced between the numbers 1 through 10:\n",
    "\n",
    "seq(1, 10, length=20)"
   ]
  },
  {
   "cell_type": "code",
   "execution_count": 10,
   "id": "7d01340c",
   "metadata": {
    "id": "7d01340c"
   },
   "outputs": [
    {
     "data": {
      "text/html": [
       "<style>\n",
       ".list-inline {list-style: none; margin:0; padding: 0}\n",
       ".list-inline>li {display: inline-block}\n",
       ".list-inline>li:not(:last-child)::after {content: \"\\00b7\"; padding: 0 .5ex}\n",
       "</style>\n",
       "<ol class=list-inline><li>1</li><li>1.1</li><li>1.2</li><li>1.3</li><li>1.4</li><li>1.5</li><li>1.6</li><li>1.7</li><li>1.8</li><li>1.9</li><li>2</li><li>2.1</li><li>2.2</li><li>2.3</li><li>2.4</li><li>2.5</li><li>2.6</li><li>2.7</li><li>2.8</li><li>2.9</li><li>3</li><li>3.1</li><li>3.2</li><li>3.3</li><li>3.4</li><li>3.5</li><li>3.6</li><li>3.7</li><li>3.8</li><li>3.9</li><li>4</li><li>4.1</li><li>4.2</li><li>4.3</li><li>4.4</li><li>4.5</li><li>4.6</li><li>4.7</li><li>4.8</li><li>4.9</li><li>5</li><li>5.1</li><li>5.2</li><li>5.3</li><li>5.4</li><li>5.5</li><li>5.6</li><li>5.7</li><li>5.8</li><li>5.9</li><li>6</li><li>6.1</li><li>6.2</li><li>6.3</li><li>6.4</li><li>6.5</li><li>6.6</li><li>6.7</li><li>6.8</li><li>6.9</li><li>7</li><li>7.1</li><li>7.2</li><li>7.3</li><li>7.4</li><li>7.5</li><li>7.6</li><li>7.7</li><li>7.8</li><li>7.9</li><li>8</li><li>8.1</li><li>8.2</li><li>8.3</li><li>8.4</li><li>8.5</li><li>8.6</li><li>8.7</li><li>8.8</li><li>8.9</li><li>9</li><li>9.1</li><li>9.2</li><li>9.3</li><li>9.4</li><li>9.5</li><li>9.6</li><li>9.7</li><li>9.8</li><li>9.9</li><li>10</li></ol>\n"
      ],
      "text/latex": [
       "\\begin{enumerate*}\n",
       "\\item 1\n",
       "\\item 1.1\n",
       "\\item 1.2\n",
       "\\item 1.3\n",
       "\\item 1.4\n",
       "\\item 1.5\n",
       "\\item 1.6\n",
       "\\item 1.7\n",
       "\\item 1.8\n",
       "\\item 1.9\n",
       "\\item 2\n",
       "\\item 2.1\n",
       "\\item 2.2\n",
       "\\item 2.3\n",
       "\\item 2.4\n",
       "\\item 2.5\n",
       "\\item 2.6\n",
       "\\item 2.7\n",
       "\\item 2.8\n",
       "\\item 2.9\n",
       "\\item 3\n",
       "\\item 3.1\n",
       "\\item 3.2\n",
       "\\item 3.3\n",
       "\\item 3.4\n",
       "\\item 3.5\n",
       "\\item 3.6\n",
       "\\item 3.7\n",
       "\\item 3.8\n",
       "\\item 3.9\n",
       "\\item 4\n",
       "\\item 4.1\n",
       "\\item 4.2\n",
       "\\item 4.3\n",
       "\\item 4.4\n",
       "\\item 4.5\n",
       "\\item 4.6\n",
       "\\item 4.7\n",
       "\\item 4.8\n",
       "\\item 4.9\n",
       "\\item 5\n",
       "\\item 5.1\n",
       "\\item 5.2\n",
       "\\item 5.3\n",
       "\\item 5.4\n",
       "\\item 5.5\n",
       "\\item 5.6\n",
       "\\item 5.7\n",
       "\\item 5.8\n",
       "\\item 5.9\n",
       "\\item 6\n",
       "\\item 6.1\n",
       "\\item 6.2\n",
       "\\item 6.3\n",
       "\\item 6.4\n",
       "\\item 6.5\n",
       "\\item 6.6\n",
       "\\item 6.7\n",
       "\\item 6.8\n",
       "\\item 6.9\n",
       "\\item 7\n",
       "\\item 7.1\n",
       "\\item 7.2\n",
       "\\item 7.3\n",
       "\\item 7.4\n",
       "\\item 7.5\n",
       "\\item 7.6\n",
       "\\item 7.7\n",
       "\\item 7.8\n",
       "\\item 7.9\n",
       "\\item 8\n",
       "\\item 8.1\n",
       "\\item 8.2\n",
       "\\item 8.3\n",
       "\\item 8.4\n",
       "\\item 8.5\n",
       "\\item 8.6\n",
       "\\item 8.7\n",
       "\\item 8.8\n",
       "\\item 8.9\n",
       "\\item 9\n",
       "\\item 9.1\n",
       "\\item 9.2\n",
       "\\item 9.3\n",
       "\\item 9.4\n",
       "\\item 9.5\n",
       "\\item 9.6\n",
       "\\item 9.7\n",
       "\\item 9.8\n",
       "\\item 9.9\n",
       "\\item 10\n",
       "\\end{enumerate*}\n"
      ],
      "text/markdown": [
       "1. 1\n",
       "2. 1.1\n",
       "3. 1.2\n",
       "4. 1.3\n",
       "5. 1.4\n",
       "6. 1.5\n",
       "7. 1.6\n",
       "8. 1.7\n",
       "9. 1.8\n",
       "10. 1.9\n",
       "11. 2\n",
       "12. 2.1\n",
       "13. 2.2\n",
       "14. 2.3\n",
       "15. 2.4\n",
       "16. 2.5\n",
       "17. 2.6\n",
       "18. 2.7\n",
       "19. 2.8\n",
       "20. 2.9\n",
       "21. 3\n",
       "22. 3.1\n",
       "23. 3.2\n",
       "24. 3.3\n",
       "25. 3.4\n",
       "26. 3.5\n",
       "27. 3.6\n",
       "28. 3.7\n",
       "29. 3.8\n",
       "30. 3.9\n",
       "31. 4\n",
       "32. 4.1\n",
       "33. 4.2\n",
       "34. 4.3\n",
       "35. 4.4\n",
       "36. 4.5\n",
       "37. 4.6\n",
       "38. 4.7\n",
       "39. 4.8\n",
       "40. 4.9\n",
       "41. 5\n",
       "42. 5.1\n",
       "43. 5.2\n",
       "44. 5.3\n",
       "45. 5.4\n",
       "46. 5.5\n",
       "47. 5.6\n",
       "48. 5.7\n",
       "49. 5.8\n",
       "50. 5.9\n",
       "51. 6\n",
       "52. 6.1\n",
       "53. 6.2\n",
       "54. 6.3\n",
       "55. 6.4\n",
       "56. 6.5\n",
       "57. 6.6\n",
       "58. 6.7\n",
       "59. 6.8\n",
       "60. 6.9\n",
       "61. 7\n",
       "62. 7.1\n",
       "63. 7.2\n",
       "64. 7.3\n",
       "65. 7.4\n",
       "66. 7.5\n",
       "67. 7.6\n",
       "68. 7.7\n",
       "69. 7.8\n",
       "70. 7.9\n",
       "71. 8\n",
       "72. 8.1\n",
       "73. 8.2\n",
       "74. 8.3\n",
       "75. 8.4\n",
       "76. 8.5\n",
       "77. 8.6\n",
       "78. 8.7\n",
       "79. 8.8\n",
       "80. 8.9\n",
       "81. 9\n",
       "82. 9.1\n",
       "83. 9.2\n",
       "84. 9.3\n",
       "85. 9.4\n",
       "86. 9.5\n",
       "87. 9.6\n",
       "88. 9.7\n",
       "89. 9.8\n",
       "90. 9.9\n",
       "91. 10\n",
       "\n",
       "\n"
      ],
      "text/plain": [
       " [1]  1.0  1.1  1.2  1.3  1.4  1.5  1.6  1.7  1.8  1.9  2.0  2.1  2.2  2.3  2.4\n",
       "[16]  2.5  2.6  2.7  2.8  2.9  3.0  3.1  3.2  3.3  3.4  3.5  3.6  3.7  3.8  3.9\n",
       "[31]  4.0  4.1  4.2  4.3  4.4  4.5  4.6  4.7  4.8  4.9  5.0  5.1  5.2  5.3  5.4\n",
       "[46]  5.5  5.6  5.7  5.8  5.9  6.0  6.1  6.2  6.3  6.4  6.5  6.6  6.7  6.8  6.9\n",
       "[61]  7.0  7.1  7.2  7.3  7.4  7.5  7.6  7.7  7.8  7.9  8.0  8.1  8.2  8.3  8.4\n",
       "[76]  8.5  8.6  8.7  8.8  8.9  9.0  9.1  9.2  9.3  9.4  9.5  9.6  9.7  9.8  9.9\n",
       "[91] 10.0"
      ]
     },
     "metadata": {},
     "output_type": "display_data"
    }
   ],
   "source": [
    "# Create a vector of numbers from 1 through 10, stepping every 0.1:\n",
    "\n",
    "seq(from = 1, to = 10, by = 0.1)"
   ]
  },
  {
   "cell_type": "markdown",
   "id": "3d1325ab",
   "metadata": {
    "id": "3d1325ab"
   },
   "source": [
    "### A Vector Created from a Sample of Numbers"
   ]
  },
  {
   "cell_type": "code",
   "execution_count": 11,
   "id": "be405ad9",
   "metadata": {
    "id": "be405ad9"
   },
   "outputs": [
    {
     "data": {
      "text/html": [
       "<style>\n",
       ".list-inline {list-style: none; margin:0; padding: 0}\n",
       ".list-inline>li {display: inline-block}\n",
       ".list-inline>li:not(:last-child)::after {content: \"\\00b7\"; padding: 0 .5ex}\n",
       "</style>\n",
       "<ol class=list-inline><li>10</li><li>5</li><li>3</li><li>1</li><li>6</li><li>4</li><li>9</li><li>7</li><li>8</li><li>2</li></ol>\n"
      ],
      "text/latex": [
       "\\begin{enumerate*}\n",
       "\\item 10\n",
       "\\item 5\n",
       "\\item 3\n",
       "\\item 1\n",
       "\\item 6\n",
       "\\item 4\n",
       "\\item 9\n",
       "\\item 7\n",
       "\\item 8\n",
       "\\item 2\n",
       "\\end{enumerate*}\n"
      ],
      "text/markdown": [
       "1. 10\n",
       "2. 5\n",
       "3. 3\n",
       "4. 1\n",
       "5. 6\n",
       "6. 4\n",
       "7. 9\n",
       "8. 7\n",
       "9. 8\n",
       "10. 2\n",
       "\n",
       "\n"
      ],
      "text/plain": [
       " [1] 10  5  3  1  6  4  9  7  8  2"
      ]
     },
     "metadata": {},
     "output_type": "display_data"
    }
   ],
   "source": [
    "# Create a vector by drawing from a sample of numbers from 1 through 10, without replacement:\n",
    "\n",
    "sample(1:10)"
   ]
  },
  {
   "cell_type": "markdown",
   "id": "528d4469",
   "metadata": {
    "id": "528d4469"
   },
   "source": [
    "### Examining Vectors"
   ]
  },
  {
   "cell_type": "markdown",
   "id": "fe6a6bcf",
   "metadata": {
    "id": "fe6a6bcf"
   },
   "source": [
    "#### typeof()\n",
    "The typeof() function can be used to evaluate the data type that a vector contains:"
   ]
  },
  {
   "cell_type": "code",
   "execution_count": 12,
   "id": "8a6c8346",
   "metadata": {
    "id": "8a6c8346"
   },
   "outputs": [
    {
     "data": {
      "text/html": [
       "'character'"
      ],
      "text/latex": [
       "'character'"
      ],
      "text/markdown": [
       "'character'"
      ],
      "text/plain": [
       "[1] \"character\""
      ]
     },
     "metadata": {},
     "output_type": "display_data"
    }
   ],
   "source": [
    "# Mixed data types coerced to a single data type:\n",
    "\n",
    "v4  <-  c(TRUE, FALSE, TRUE, \"FALSE\")\n",
    "\n",
    "typeof(v4)"
   ]
  },
  {
   "cell_type": "markdown",
   "id": "e96d10c8",
   "metadata": {
    "id": "e96d10c8"
   },
   "source": [
    "#### length()\n",
    "The length() function can be used to determine the number of elements that a vector contains:"
   ]
  },
  {
   "cell_type": "code",
   "execution_count": 13,
   "id": "58e9f7b5",
   "metadata": {
    "id": "58e9f7b5"
   },
   "outputs": [
    {
     "data": {
      "text/html": [
       "4"
      ],
      "text/latex": [
       "4"
      ],
      "text/markdown": [
       "4"
      ],
      "text/plain": [
       "[1] 4"
      ]
     },
     "metadata": {},
     "output_type": "display_data"
    }
   ],
   "source": [
    "length(v4)"
   ]
  },
  {
   "cell_type": "markdown",
   "id": "d5b1f37f",
   "metadata": {
    "id": "d5b1f37f"
   },
   "source": [
    "### Missing Data\n",
    "\n",
    "Missing values in R are indicated by NA (Not Available):"
   ]
  },
  {
   "cell_type": "code",
   "execution_count": 14,
   "id": "674005b0",
   "metadata": {
    "id": "674005b0"
   },
   "outputs": [
    {
     "data": {
      "text/html": [
       "<style>\n",
       ".list-inline {list-style: none; margin:0; padding: 0}\n",
       ".list-inline>li {display: inline-block}\n",
       ".list-inline>li:not(:last-child)::after {content: \"\\00b7\"; padding: 0 .5ex}\n",
       "</style>\n",
       "<ol class=list-inline><li>0.5</li><li>0.7</li><li>&lt;NA&gt;</li></ol>\n"
      ],
      "text/latex": [
       "\\begin{enumerate*}\n",
       "\\item 0.5\n",
       "\\item 0.7\n",
       "\\item <NA>\n",
       "\\end{enumerate*}\n"
      ],
      "text/markdown": [
       "1. 0.5\n",
       "2. 0.7\n",
       "3. &lt;NA&gt;\n",
       "\n",
       "\n"
      ],
      "text/plain": [
       "[1] 0.5 0.7  NA"
      ]
     },
     "metadata": {},
     "output_type": "display_data"
    }
   ],
   "source": [
    "x <- c(0.5, 0.7, NA)\n",
    "\n",
    "# Variable containing a vector with a misssing value\n",
    "x"
   ]
  },
  {
   "cell_type": "code",
   "execution_count": 15,
   "id": "12082705",
   "metadata": {
    "id": "12082705"
   },
   "outputs": [
    {
     "data": {
      "text/html": [
       "<style>\n",
       ".list-inline {list-style: none; margin:0; padding: 0}\n",
       ".list-inline>li {display: inline-block}\n",
       ".list-inline>li:not(:last-child)::after {content: \"\\00b7\"; padding: 0 .5ex}\n",
       "</style>\n",
       "<ol class=list-inline><li>'a'</li><li>NA</li><li>'c'</li><li>'d'</li><li>'e'</li></ol>\n"
      ],
      "text/latex": [
       "\\begin{enumerate*}\n",
       "\\item 'a'\n",
       "\\item NA\n",
       "\\item 'c'\n",
       "\\item 'd'\n",
       "\\item 'e'\n",
       "\\end{enumerate*}\n"
      ],
      "text/markdown": [
       "1. 'a'\n",
       "2. NA\n",
       "3. 'c'\n",
       "4. 'd'\n",
       "5. 'e'\n",
       "\n",
       "\n"
      ],
      "text/plain": [
       "[1] \"a\" NA  \"c\" \"d\" \"e\""
      ]
     },
     "metadata": {},
     "output_type": "display_data"
    }
   ],
   "source": [
    "# Try this.\n",
    "\n",
    "x <- c(\"a\", NA, \"c\", \"d\", \"e\")\n",
    "\n",
    "# Variable containing a vector with a misssing value\n",
    "x"
   ]
  },
  {
   "cell_type": "markdown",
   "id": "73debe9a",
   "metadata": {
    "id": "73debe9a"
   },
   "source": [
    "#### is.na() \n",
    "is.na() can be used to test whether a value is missing. It returns a logical vector:"
   ]
  },
  {
   "cell_type": "code",
   "execution_count": 16,
   "id": "976fe87e",
   "metadata": {
    "id": "976fe87e"
   },
   "outputs": [
    {
     "data": {
      "text/html": [
       "<style>\n",
       ".list-inline {list-style: none; margin:0; padding: 0}\n",
       ".list-inline>li {display: inline-block}\n",
       ".list-inline>li:not(:last-child)::after {content: \"\\00b7\"; padding: 0 .5ex}\n",
       "</style>\n",
       "<ol class=list-inline><li>FALSE</li><li>TRUE</li><li>FALSE</li><li>FALSE</li><li>FALSE</li></ol>\n"
      ],
      "text/latex": [
       "\\begin{enumerate*}\n",
       "\\item FALSE\n",
       "\\item TRUE\n",
       "\\item FALSE\n",
       "\\item FALSE\n",
       "\\item FALSE\n",
       "\\end{enumerate*}\n"
      ],
      "text/markdown": [
       "1. FALSE\n",
       "2. TRUE\n",
       "3. FALSE\n",
       "4. FALSE\n",
       "5. FALSE\n",
       "\n",
       "\n"
      ],
      "text/plain": [
       "[1] FALSE  TRUE FALSE FALSE FALSE"
      ]
     },
     "metadata": {},
     "output_type": "display_data"
    }
   ],
   "source": [
    "# Test each value in a vector as to whether it is missing or not:\n",
    "\n",
    "x <- c(\"a\", NA, \"c\", \"d\", \"e\")\n",
    "\n",
    "# x is the variable containing a vector with a missing value\n",
    "is.na(x)"
   ]
  },
  {
   "cell_type": "markdown",
   "id": "e409f43c",
   "metadata": {
    "id": "e409f43c"
   },
   "source": [
    "#### anyNA() \n",
    "anyNA() can be used to evaluate whether a vector contains any missing (NA) values:"
   ]
  },
  {
   "cell_type": "code",
   "execution_count": 17,
   "id": "32dff790",
   "metadata": {
    "id": "32dff790"
   },
   "outputs": [
    {
     "data": {
      "text/html": [
       "TRUE"
      ],
      "text/latex": [
       "TRUE"
      ],
      "text/markdown": [
       "TRUE"
      ],
      "text/plain": [
       "[1] TRUE"
      ]
     },
     "metadata": {},
     "output_type": "display_data"
    }
   ],
   "source": [
    "x <- c(\"a\", NA, \"c\", \"d\", \"e\")\n",
    "\n",
    "# x is the variable containing a vector with a misssing value\n",
    "anyNA(x)"
   ]
  },
  {
   "cell_type": "markdown",
   "id": "39557b2d",
   "metadata": {
    "id": "39557b2d"
   },
   "source": [
    "### Universal (built-in) functions that can be applied to vectors"
   ]
  },
  {
   "cell_type": "code",
   "execution_count": 18,
   "id": "5d53b017",
   "metadata": {
    "id": "5d53b017"
   },
   "outputs": [
    {
     "data": {
      "text/html": [
       "<style>\n",
       ".list-inline {list-style: none; margin:0; padding: 0}\n",
       ".list-inline>li {display: inline-block}\n",
       ".list-inline>li:not(:last-child)::after {content: \"\\00b7\"; padding: 0 .5ex}\n",
       "</style>\n",
       "<ol class=list-inline><li>25</li><li>9</li><li>16</li><li>4</li></ol>\n"
      ],
      "text/latex": [
       "\\begin{enumerate*}\n",
       "\\item 25\n",
       "\\item 9\n",
       "\\item 16\n",
       "\\item 4\n",
       "\\end{enumerate*}\n"
      ],
      "text/markdown": [
       "1. 25\n",
       "2. 9\n",
       "3. 16\n",
       "4. 4\n",
       "\n",
       "\n"
      ],
      "text/plain": [
       "[1] 25  9 16  4"
      ]
     },
     "metadata": {},
     "output_type": "display_data"
    }
   ],
   "source": [
    "# Create a vector \"v\":\n",
    "\n",
    "v = c(25, 9, 16, 4)\n",
    "v"
   ]
  },
  {
   "cell_type": "code",
   "execution_count": 19,
   "id": "64b2746e",
   "metadata": {
    "id": "64b2746e"
   },
   "outputs": [
    {
     "data": {
      "text/html": [
       "13.5"
      ],
      "text/latex": [
       "13.5"
      ],
      "text/markdown": [
       "13.5"
      ],
      "text/plain": [
       "[1] 13.5"
      ]
     },
     "metadata": {},
     "output_type": "display_data"
    }
   ],
   "source": [
    "# Return the mean value of the vector\n",
    "\n",
    "mean(v)"
   ]
  },
  {
   "cell_type": "code",
   "execution_count": 20,
   "id": "4d4ef70a",
   "metadata": {
    "id": "4d4ef70a"
   },
   "outputs": [
    {
     "data": {
      "text/html": [
       "<style>\n",
       ".list-inline {list-style: none; margin:0; padding: 0}\n",
       ".list-inline>li {display: inline-block}\n",
       ".list-inline>li:not(:last-child)::after {content: \"\\00b7\"; padding: 0 .5ex}\n",
       "</style>\n",
       "<ol class=list-inline><li>5</li><li>3</li><li>4</li><li>2</li></ol>\n"
      ],
      "text/latex": [
       "\\begin{enumerate*}\n",
       "\\item 5\n",
       "\\item 3\n",
       "\\item 4\n",
       "\\item 2\n",
       "\\end{enumerate*}\n"
      ],
      "text/markdown": [
       "1. 5\n",
       "2. 3\n",
       "3. 4\n",
       "4. 2\n",
       "\n",
       "\n"
      ],
      "text/plain": [
       "[1] 5 3 4 2"
      ]
     },
     "metadata": {},
     "output_type": "display_data"
    }
   ],
   "source": [
    "# Return the square root of each value in the vector\n",
    "\n",
    "sqrt(v)"
   ]
  },
  {
   "cell_type": "code",
   "execution_count": 21,
   "id": "56bc779b",
   "metadata": {
    "id": "56bc779b"
   },
   "outputs": [
    {
     "data": {
      "text/html": [
       "25"
      ],
      "text/latex": [
       "25"
      ],
      "text/markdown": [
       "25"
      ],
      "text/plain": [
       "[1] 25"
      ]
     },
     "metadata": {},
     "output_type": "display_data"
    }
   ],
   "source": [
    "# Return the maximum value in the vector\n",
    "\n",
    "max(v)"
   ]
  },
  {
   "cell_type": "code",
   "execution_count": 22,
   "id": "6139dd32",
   "metadata": {
    "id": "6139dd32"
   },
   "outputs": [
    {
     "data": {
      "text/html": [
       "4"
      ],
      "text/latex": [
       "4"
      ],
      "text/markdown": [
       "4"
      ],
      "text/plain": [
       "[1] 4"
      ]
     },
     "metadata": {},
     "output_type": "display_data"
    }
   ],
   "source": [
    "# Return the smallest value in the vector\n",
    "\n",
    "min(v)"
   ]
  },
  {
   "cell_type": "code",
   "execution_count": 23,
   "id": "fded2c0c",
   "metadata": {
    "id": "fded2c0c"
   },
   "outputs": [
    {
     "data": {
      "text/html": [
       "54"
      ],
      "text/latex": [
       "54"
      ],
      "text/markdown": [
       "54"
      ],
      "text/plain": [
       "[1] 54"
      ]
     },
     "metadata": {},
     "output_type": "display_data"
    }
   ],
   "source": [
    "# Return the sum of the values in the vector\n",
    "\n",
    "sum(v)"
   ]
  },
  {
   "cell_type": "code",
   "execution_count": 24,
   "id": "ea237ba8",
   "metadata": {
    "id": "ea237ba8"
   },
   "outputs": [
    {
     "data": {
      "text/html": [
       "<style>\n",
       ".list-inline {list-style: none; margin:0; padding: 0}\n",
       ".list-inline>li {display: inline-block}\n",
       ".list-inline>li:not(:last-child)::after {content: \"\\00b7\"; padding: 0 .5ex}\n",
       "</style>\n",
       "<ol class=list-inline><li>4</li><li>9</li><li>16</li><li>25</li></ol>\n"
      ],
      "text/latex": [
       "\\begin{enumerate*}\n",
       "\\item 4\n",
       "\\item 9\n",
       "\\item 16\n",
       "\\item 25\n",
       "\\end{enumerate*}\n"
      ],
      "text/markdown": [
       "1. 4\n",
       "2. 9\n",
       "3. 16\n",
       "4. 25\n",
       "\n",
       "\n"
      ],
      "text/plain": [
       "[1]  4  9 16 25"
      ]
     },
     "metadata": {},
     "output_type": "display_data"
    }
   ],
   "source": [
    "# Sort the values in a vector in ascending order\n",
    "\n",
    "sort(v)"
   ]
  },
  {
   "cell_type": "code",
   "execution_count": 25,
   "id": "68f4c452",
   "metadata": {
    "id": "68f4c452"
   },
   "outputs": [
    {
     "data": {
      "text/html": [
       "<style>\n",
       ".list-inline {list-style: none; margin:0; padding: 0}\n",
       ".list-inline>li {display: inline-block}\n",
       ".list-inline>li:not(:last-child)::after {content: \"\\00b7\"; padding: 0 .5ex}\n",
       "</style>\n",
       "<ol class=list-inline><li>25</li><li>16</li><li>9</li><li>4</li></ol>\n"
      ],
      "text/latex": [
       "\\begin{enumerate*}\n",
       "\\item 25\n",
       "\\item 16\n",
       "\\item 9\n",
       "\\item 4\n",
       "\\end{enumerate*}\n"
      ],
      "text/markdown": [
       "1. 25\n",
       "2. 16\n",
       "3. 9\n",
       "4. 4\n",
       "\n",
       "\n"
      ],
      "text/plain": [
       "[1] 25 16  9  4"
      ]
     },
     "metadata": {},
     "output_type": "display_data"
    }
   ],
   "source": [
    "# Sort the values in a vector in descending order\n",
    "\n",
    "sort(v, decreasing=TRUE)"
   ]
  },
  {
   "cell_type": "code",
   "execution_count": 26,
   "id": "ea0479be",
   "metadata": {
    "id": "ea0479be"
   },
   "outputs": [
    {
     "data": {
      "text/plain": [
       "\n",
       "10 20 30 40 50 \n",
       " 1  3  1  2  1 "
      ]
     },
     "metadata": {},
     "output_type": "display_data"
    }
   ],
   "source": [
    "# Count the frequency of occurrence for each element in a vector:\n",
    "\n",
    "table(c(20,30,50,20,40,10,40,20))"
   ]
  },
  {
   "cell_type": "markdown",
   "id": "4f886d7b",
   "metadata": {
    "id": "4f886d7b"
   },
   "source": [
    "### Functions for logical vectors"
   ]
  },
  {
   "cell_type": "code",
   "execution_count": 27,
   "id": "cc376f7a",
   "metadata": {
    "id": "cc376f7a"
   },
   "outputs": [
    {
     "data": {
      "text/html": [
       "<style>\n",
       ".list-inline {list-style: none; margin:0; padding: 0}\n",
       ".list-inline>li {display: inline-block}\n",
       ".list-inline>li:not(:last-child)::after {content: \"\\00b7\"; padding: 0 .5ex}\n",
       "</style>\n",
       "<ol class=list-inline><li>TRUE</li><li>FALSE</li><li>TRUE</li><li>FALSE</li></ol>\n"
      ],
      "text/latex": [
       "\\begin{enumerate*}\n",
       "\\item TRUE\n",
       "\\item FALSE\n",
       "\\item TRUE\n",
       "\\item FALSE\n",
       "\\end{enumerate*}\n"
      ],
      "text/markdown": [
       "1. TRUE\n",
       "2. FALSE\n",
       "3. TRUE\n",
       "4. FALSE\n",
       "\n",
       "\n"
      ],
      "text/plain": [
       "[1]  TRUE FALSE  TRUE FALSE"
      ]
     },
     "metadata": {},
     "output_type": "display_data"
    }
   ],
   "source": [
    "# Test each value in the vector v as to whether it is greater than 10 or not (returns TRUE or FALSE):\n",
    "\n",
    "v = c(25, 9, 16, 4)\n",
    "\n",
    "v > 10"
   ]
  },
  {
   "cell_type": "code",
   "execution_count": 28,
   "id": "8c866192",
   "metadata": {
    "id": "8c866192"
   },
   "outputs": [
    {
     "data": {
      "text/html": [
       "TRUE"
      ],
      "text/latex": [
       "TRUE"
      ],
      "text/markdown": [
       "TRUE"
      ],
      "text/plain": [
       "[1] TRUE"
      ]
     },
     "metadata": {},
     "output_type": "display_data"
    }
   ],
   "source": [
    "# any() returns TRUE if any of the logicals are TRUE:\n",
    "\n",
    "any(v > 10)"
   ]
  },
  {
   "cell_type": "code",
   "execution_count": 29,
   "id": "9ca8de2a",
   "metadata": {
    "id": "9ca8de2a"
   },
   "outputs": [
    {
     "data": {
      "text/html": [
       "FALSE"
      ],
      "text/latex": [
       "FALSE"
      ],
      "text/markdown": [
       "FALSE"
      ],
      "text/plain": [
       "[1] FALSE"
      ]
     },
     "metadata": {},
     "output_type": "display_data"
    }
   ],
   "source": [
    "# all() returns TRUE if all of the logicals are TRUE:\n",
    "\n",
    "all(v > 10)"
   ]
  },
  {
   "cell_type": "code",
   "execution_count": 30,
   "id": "def12a2f",
   "metadata": {
    "id": "def12a2f"
   },
   "outputs": [
    {
     "data": {
      "text/html": [
       "<style>\n",
       ".list-inline {list-style: none; margin:0; padding: 0}\n",
       ".list-inline>li {display: inline-block}\n",
       ".list-inline>li:not(:last-child)::after {content: \"\\00b7\"; padding: 0 .5ex}\n",
       "</style>\n",
       "<ol class=list-inline><li>1</li><li>3</li></ol>\n"
      ],
      "text/latex": [
       "\\begin{enumerate*}\n",
       "\\item 1\n",
       "\\item 3\n",
       "\\end{enumerate*}\n"
      ],
      "text/markdown": [
       "1. 1\n",
       "2. 3\n",
       "\n",
       "\n"
      ],
      "text/plain": [
       "[1] 1 3"
      ]
     },
     "metadata": {},
     "output_type": "display_data"
    }
   ],
   "source": [
    "# which() returns the indices/locations of the TRUE values (interpreted as as \"Which index positions are TRUE?\"):\n",
    "\n",
    "which(v > 10)"
   ]
  },
  {
   "cell_type": "markdown",
   "id": "fde1354f",
   "metadata": {
    "id": "fde1354f"
   },
   "source": [
    "<div class=\"alert alert-block alert-warning\">\n",
    "<b>Alert:</b> The index positions of a vector in R begin counting from 1. \n",
    "</div>"
   ]
  },
  {
   "cell_type": "code",
   "execution_count": 31,
   "id": "3bfdb909",
   "metadata": {
    "id": "3bfdb909",
    "scrolled": true
   },
   "outputs": [
    {
     "data": {
      "text/html": [
       "2"
      ],
      "text/latex": [
       "2"
      ],
      "text/markdown": [
       "2"
      ],
      "text/plain": [
       "[1] 2"
      ]
     },
     "metadata": {},
     "output_type": "display_data"
    }
   ],
   "source": [
    "# sum() returns the number of logicals that are TRUE:\n",
    "\n",
    "sum(v > 10)"
   ]
  },
  {
   "cell_type": "markdown",
   "id": "155437e8",
   "metadata": {
    "id": "155437e8"
   },
   "source": [
    "### Vector Subsetting\n",
    "The index position of the items within a vector begin counting from 1. You can get slices or subsets of a vector by placing the index position of items between square brackets:"
   ]
  },
  {
   "cell_type": "code",
   "execution_count": 32,
   "id": "33dc66d3",
   "metadata": {
    "id": "33dc66d3"
   },
   "outputs": [
    {
     "data": {
      "text/html": [
       "<style>\n",
       ".list-inline {list-style: none; margin:0; padding: 0}\n",
       ".list-inline>li {display: inline-block}\n",
       ".list-inline>li:not(:last-child)::after {content: \"\\00b7\"; padding: 0 .5ex}\n",
       "</style>\n",
       "<ol class=list-inline><li>5</li><li>10</li><li>15</li><li>20</li><li>25</li><li>30</li><li>35</li><li>40</li></ol>\n"
      ],
      "text/latex": [
       "\\begin{enumerate*}\n",
       "\\item 5\n",
       "\\item 10\n",
       "\\item 15\n",
       "\\item 20\n",
       "\\item 25\n",
       "\\item 30\n",
       "\\item 35\n",
       "\\item 40\n",
       "\\end{enumerate*}\n"
      ],
      "text/markdown": [
       "1. 5\n",
       "2. 10\n",
       "3. 15\n",
       "4. 20\n",
       "5. 25\n",
       "6. 30\n",
       "7. 35\n",
       "8. 40\n",
       "\n",
       "\n"
      ],
      "text/plain": [
       "[1]  5 10 15 20 25 30 35 40"
      ]
     },
     "metadata": {},
     "output_type": "display_data"
    }
   ],
   "source": [
    "# Create a vector named \"items\":\n",
    "\n",
    "items <- c(5,10,15,20,25,30,35,40)\n",
    "items"
   ]
  },
  {
   "cell_type": "code",
   "execution_count": 33,
   "id": "89d4edb4",
   "metadata": {
    "id": "89d4edb4"
   },
   "outputs": [
    {
     "data": {
      "text/html": [
       "5"
      ],
      "text/latex": [
       "5"
      ],
      "text/markdown": [
       "5"
      ],
      "text/plain": [
       "[1] 5"
      ]
     },
     "metadata": {},
     "output_type": "display_data"
    }
   ],
   "source": [
    "# Return the first element in the vector; the element at index position 1:\n",
    "\n",
    "items[1]"
   ]
  },
  {
   "cell_type": "code",
   "execution_count": 34,
   "id": "54f055f6",
   "metadata": {
    "id": "54f055f6"
   },
   "outputs": [
    {
     "data": {
      "text/html": [
       "15"
      ],
      "text/latex": [
       "15"
      ],
      "text/markdown": [
       "15"
      ],
      "text/plain": [
       "[1] 15"
      ]
     },
     "metadata": {},
     "output_type": "display_data"
    }
   ],
   "source": [
    "# Return a vector containing the third element:\n",
    "\n",
    "items[3]"
   ]
  },
  {
   "cell_type": "code",
   "execution_count": 35,
   "id": "a9ff596d",
   "metadata": {
    "id": "a9ff596d"
   },
   "outputs": [
    {
     "data": {
      "text/html": [
       "<style>\n",
       ".list-inline {list-style: none; margin:0; padding: 0}\n",
       ".list-inline>li {display: inline-block}\n",
       ".list-inline>li:not(:last-child)::after {content: \"\\00b7\"; padding: 0 .5ex}\n",
       "</style>\n",
       "<ol class=list-inline><li>5</li><li>10</li><li>20</li><li>25</li><li>30</li><li>35</li><li>40</li></ol>\n"
      ],
      "text/latex": [
       "\\begin{enumerate*}\n",
       "\\item 5\n",
       "\\item 10\n",
       "\\item 20\n",
       "\\item 25\n",
       "\\item 30\n",
       "\\item 35\n",
       "\\item 40\n",
       "\\end{enumerate*}\n"
      ],
      "text/markdown": [
       "1. 5\n",
       "2. 10\n",
       "3. 20\n",
       "4. 25\n",
       "5. 30\n",
       "6. 35\n",
       "7. 40\n",
       "\n",
       "\n"
      ],
      "text/plain": [
       "[1]  5 10 20 25 30 35 40"
      ]
     },
     "metadata": {},
     "output_type": "display_data"
    }
   ],
   "source": [
    "# A negative value means to exclude the index position.\n",
    "# Return a vector with everything except the third element:\n",
    "\n",
    "items[-3]"
   ]
  },
  {
   "cell_type": "code",
   "execution_count": 36,
   "id": "71c6894b",
   "metadata": {
    "id": "71c6894b"
   },
   "outputs": [
    {
     "data": {
      "text/html": [
       "<style>\n",
       ".list-inline {list-style: none; margin:0; padding: 0}\n",
       ".list-inline>li {display: inline-block}\n",
       ".list-inline>li:not(:last-child)::after {content: \"\\00b7\"; padding: 0 .5ex}\n",
       "</style>\n",
       "<ol class=list-inline><li>5</li><li>10</li></ol>\n"
      ],
      "text/latex": [
       "\\begin{enumerate*}\n",
       "\\item 5\n",
       "\\item 10\n",
       "\\end{enumerate*}\n"
      ],
      "text/markdown": [
       "1. 5\n",
       "2. 10\n",
       "\n",
       "\n"
      ],
      "text/plain": [
       "[1]  5 10"
      ]
     },
     "metadata": {},
     "output_type": "display_data"
    }
   ],
   "source": [
    "# Return a vector with the first through second elements (inclusive):\n",
    "\n",
    "items[1:2]"
   ]
  },
  {
   "cell_type": "code",
   "execution_count": 37,
   "id": "55cbd173",
   "metadata": {
    "id": "55cbd173"
   },
   "outputs": [
    {
     "data": {
      "text/html": [
       "<style>\n",
       ".list-inline {list-style: none; margin:0; padding: 0}\n",
       ".list-inline>li {display: inline-block}\n",
       ".list-inline>li:not(:last-child)::after {content: \"\\00b7\"; padding: 0 .5ex}\n",
       "</style>\n",
       "<ol class=list-inline><li>5</li><li>20</li></ol>\n"
      ],
      "text/latex": [
       "\\begin{enumerate*}\n",
       "\\item 5\n",
       "\\item 20\n",
       "\\end{enumerate*}\n"
      ],
      "text/markdown": [
       "1. 5\n",
       "2. 20\n",
       "\n",
       "\n"
      ],
      "text/plain": [
       "[1]  5 20"
      ]
     },
     "metadata": {},
     "output_type": "display_data"
    }
   ],
   "source": [
    "# You can use a vector to do the subsetting (particularly when the indices are non-consecutive).\n",
    "# Return a vector with the first and fourth elements:\n",
    "                                                         \n",
    "items[c(1,4)]                                                     "
   ]
  },
  {
   "cell_type": "code",
   "execution_count": 38,
   "id": "d021deaf",
   "metadata": {
    "id": "d021deaf"
   },
   "outputs": [
    {
     "data": {
      "text/html": [
       "<style>\n",
       ".list-inline {list-style: none; margin:0; padding: 0}\n",
       ".list-inline>li {display: inline-block}\n",
       ".list-inline>li:not(:last-child)::after {content: \"\\00b7\"; padding: 0 .5ex}\n",
       "</style>\n",
       "<ol class=list-inline><li>5</li><li>15</li><li>5</li></ol>\n"
      ],
      "text/latex": [
       "\\begin{enumerate*}\n",
       "\\item 5\n",
       "\\item 15\n",
       "\\item 5\n",
       "\\end{enumerate*}\n"
      ],
      "text/markdown": [
       "1. 5\n",
       "2. 15\n",
       "3. 5\n",
       "\n",
       "\n"
      ],
      "text/plain": [
       "[1]  5 15  5"
      ]
     },
     "metadata": {},
     "output_type": "display_data"
    }
   ],
   "source": [
    "# Return a vector with the first, third, and first element again:\n",
    "\n",
    "items[c(1,3,1)]"
   ]
  },
  {
   "cell_type": "code",
   "execution_count": 39,
   "id": "b49ed1c0",
   "metadata": {
    "id": "b49ed1c0"
   },
   "outputs": [
    {
     "data": {
      "text/html": [
       "<style>\n",
       ".list-inline {list-style: none; margin:0; padding: 0}\n",
       ".list-inline>li {display: inline-block}\n",
       ".list-inline>li:not(:last-child)::after {content: \"\\00b7\"; padding: 0 .5ex}\n",
       "</style>\n",
       "<ol class=list-inline><li>15</li><li>20</li><li>25</li><li>30</li><li>35</li><li>40</li></ol>\n"
      ],
      "text/latex": [
       "\\begin{enumerate*}\n",
       "\\item 15\n",
       "\\item 20\n",
       "\\item 25\n",
       "\\item 30\n",
       "\\item 35\n",
       "\\item 40\n",
       "\\end{enumerate*}\n"
      ],
      "text/markdown": [
       "1. 15\n",
       "2. 20\n",
       "3. 25\n",
       "4. 30\n",
       "5. 35\n",
       "6. 40\n",
       "\n",
       "\n"
      ],
      "text/plain": [
       "[1] 15 20 25 30 35 40"
      ]
     },
     "metadata": {},
     "output_type": "display_data"
    }
   ],
   "source": [
    "# Return a vector without the first through second elements:\n",
    "\n",
    "items[-1:-2]"
   ]
  },
  {
   "cell_type": "markdown",
   "id": "c0438af9",
   "metadata": {
    "id": "c0438af9"
   },
   "source": [
    "### Vector Assignment"
   ]
  },
  {
   "cell_type": "code",
   "execution_count": 40,
   "id": "d55153f9",
   "metadata": {
    "id": "d55153f9"
   },
   "outputs": [
    {
     "data": {
      "text/html": [
       "<style>\n",
       ".list-inline {list-style: none; margin:0; padding: 0}\n",
       ".list-inline>li {display: inline-block}\n",
       ".list-inline>li:not(:last-child)::after {content: \"\\00b7\"; padding: 0 .5ex}\n",
       "</style>\n",
       "<ol class=list-inline><li>5</li><li>10</li><li>15</li><li>20</li><li>25</li><li>30</li><li>35</li><li>40</li></ol>\n"
      ],
      "text/latex": [
       "\\begin{enumerate*}\n",
       "\\item 5\n",
       "\\item 10\n",
       "\\item 15\n",
       "\\item 20\n",
       "\\item 25\n",
       "\\item 30\n",
       "\\item 35\n",
       "\\item 40\n",
       "\\end{enumerate*}\n"
      ],
      "text/markdown": [
       "1. 5\n",
       "2. 10\n",
       "3. 15\n",
       "4. 20\n",
       "5. 25\n",
       "6. 30\n",
       "7. 35\n",
       "8. 40\n",
       "\n",
       "\n"
      ],
      "text/plain": [
       "[1]  5 10 15 20 25 30 35 40"
      ]
     },
     "metadata": {},
     "output_type": "display_data"
    }
   ],
   "source": [
    "# Create a vector named \"items\":\n",
    "\n",
    "items <- c(5,10,15,20,25,30,35,40)\n",
    "items"
   ]
  },
  {
   "cell_type": "code",
   "execution_count": 41,
   "id": "2a0bb2c8",
   "metadata": {
    "id": "2a0bb2c8"
   },
   "outputs": [
    {
     "data": {
      "text/html": [
       "<style>\n",
       ".list-inline {list-style: none; margin:0; padding: 0}\n",
       ".list-inline>li {display: inline-block}\n",
       ".list-inline>li:not(:last-child)::after {content: \"\\00b7\"; padding: 0 .5ex}\n",
       "</style>\n",
       "<ol class=list-inline><li>5</li><li>100</li><li>15</li><li>20</li><li>25</li><li>30</li><li>35</li><li>40</li></ol>\n"
      ],
      "text/latex": [
       "\\begin{enumerate*}\n",
       "\\item 5\n",
       "\\item 100\n",
       "\\item 15\n",
       "\\item 20\n",
       "\\item 25\n",
       "\\item 30\n",
       "\\item 35\n",
       "\\item 40\n",
       "\\end{enumerate*}\n"
      ],
      "text/markdown": [
       "1. 5\n",
       "2. 100\n",
       "3. 15\n",
       "4. 20\n",
       "5. 25\n",
       "6. 30\n",
       "7. 35\n",
       "8. 40\n",
       "\n",
       "\n"
      ],
      "text/plain": [
       "[1]   5 100  15  20  25  30  35  40"
      ]
     },
     "metadata": {},
     "output_type": "display_data"
    }
   ],
   "source": [
    "# Assign 100 to the item at index position 2:\n",
    "\n",
    "items[2] <- 100\n",
    "items"
   ]
  },
  {
   "cell_type": "code",
   "execution_count": 42,
   "id": "747e4d9f",
   "metadata": {
    "id": "747e4d9f"
   },
   "outputs": [
    {
     "data": {
      "text/html": [
       "<style>\n",
       ".list-inline {list-style: none; margin:0; padding: 0}\n",
       ".list-inline>li {display: inline-block}\n",
       ".list-inline>li:not(:last-child)::after {content: \"\\00b7\"; padding: 0 .5ex}\n",
       "</style>\n",
       "<ol class=list-inline><li>0</li><li>100</li><li>0</li><li>0</li><li>0</li><li>0</li><li>0</li><li>0</li></ol>\n"
      ],
      "text/latex": [
       "\\begin{enumerate*}\n",
       "\\item 0\n",
       "\\item 100\n",
       "\\item 0\n",
       "\\item 0\n",
       "\\item 0\n",
       "\\item 0\n",
       "\\item 0\n",
       "\\item 0\n",
       "\\end{enumerate*}\n"
      ],
      "text/markdown": [
       "1. 0\n",
       "2. 100\n",
       "3. 0\n",
       "4. 0\n",
       "5. 0\n",
       "6. 0\n",
       "7. 0\n",
       "8. 0\n",
       "\n",
       "\n"
      ],
      "text/plain": [
       "[1]   0 100   0   0   0   0   0   0"
      ]
     },
     "metadata": {},
     "output_type": "display_data"
    }
   ],
   "source": [
    "# Assign 0 to every index position except 2:\n",
    "\n",
    "items[-2] <- 0\n",
    "items"
   ]
  },
  {
   "cell_type": "markdown",
   "id": "1bf18794",
   "metadata": {
    "id": "1bf18794"
   },
   "source": [
    "### Vectorized Operations\n",
    "A vectorized operation applies an operation to a vector element-wise: "
   ]
  },
  {
   "cell_type": "code",
   "execution_count": 43,
   "id": "68bdd74a",
   "metadata": {
    "id": "68bdd74a"
   },
   "outputs": [
    {
     "data": {
      "text/html": [
       "<style>\n",
       ".list-inline {list-style: none; margin:0; padding: 0}\n",
       ".list-inline>li {display: inline-block}\n",
       ".list-inline>li:not(:last-child)::after {content: \"\\00b7\"; padding: 0 .5ex}\n",
       "</style>\n",
       "<ol class=list-inline><li>5</li><li>10</li><li>15</li><li>20</li><li>25</li><li>30</li><li>35</li><li>40</li></ol>\n"
      ],
      "text/latex": [
       "\\begin{enumerate*}\n",
       "\\item 5\n",
       "\\item 10\n",
       "\\item 15\n",
       "\\item 20\n",
       "\\item 25\n",
       "\\item 30\n",
       "\\item 35\n",
       "\\item 40\n",
       "\\end{enumerate*}\n"
      ],
      "text/markdown": [
       "1. 5\n",
       "2. 10\n",
       "3. 15\n",
       "4. 20\n",
       "5. 25\n",
       "6. 30\n",
       "7. 35\n",
       "8. 40\n",
       "\n",
       "\n"
      ],
      "text/plain": [
       "[1]  5 10 15 20 25 30 35 40"
      ]
     },
     "metadata": {},
     "output_type": "display_data"
    }
   ],
   "source": [
    "# Create a vector named \"items\":\n",
    "\n",
    "items <- c(5,10,15,20,25,30,35,40)\n",
    "items"
   ]
  },
  {
   "cell_type": "code",
   "execution_count": 44,
   "id": "b7e43f5a",
   "metadata": {
    "id": "b7e43f5a"
   },
   "outputs": [
    {
     "data": {
      "text/html": [
       "<style>\n",
       ".list-inline {list-style: none; margin:0; padding: 0}\n",
       ".list-inline>li {display: inline-block}\n",
       ".list-inline>li:not(:last-child)::after {content: \"\\00b7\"; padding: 0 .5ex}\n",
       "</style>\n",
       "<ol class=list-inline><li>1</li><li>2</li><li>3</li><li>4</li><li>5</li><li>6</li><li>7</li><li>8</li></ol>\n"
      ],
      "text/latex": [
       "\\begin{enumerate*}\n",
       "\\item 1\n",
       "\\item 2\n",
       "\\item 3\n",
       "\\item 4\n",
       "\\item 5\n",
       "\\item 6\n",
       "\\item 7\n",
       "\\item 8\n",
       "\\end{enumerate*}\n"
      ],
      "text/markdown": [
       "1. 1\n",
       "2. 2\n",
       "3. 3\n",
       "4. 4\n",
       "5. 5\n",
       "6. 6\n",
       "7. 7\n",
       "8. 8\n",
       "\n",
       "\n"
      ],
      "text/plain": [
       "[1] 1 2 3 4 5 6 7 8"
      ]
     },
     "metadata": {},
     "output_type": "display_data"
    }
   ],
   "source": [
    "# Divide each item in a vector by 5, and return a new vector containing the result\n",
    "\n",
    "items/5"
   ]
  },
  {
   "cell_type": "code",
   "execution_count": 45,
   "id": "b86d6f86",
   "metadata": {
    "id": "b86d6f86"
   },
   "outputs": [
    {
     "data": {
      "text/html": [
       "<style>\n",
       ".list-inline {list-style: none; margin:0; padding: 0}\n",
       ".list-inline>li {display: inline-block}\n",
       ".list-inline>li:not(:last-child)::after {content: \"\\00b7\"; padding: 0 .5ex}\n",
       "</style>\n",
       "<ol class=list-inline><li>2</li><li>8</li><li>18</li></ol>\n"
      ],
      "text/latex": [
       "\\begin{enumerate*}\n",
       "\\item 2\n",
       "\\item 8\n",
       "\\item 18\n",
       "\\end{enumerate*}\n"
      ],
      "text/markdown": [
       "1. 2\n",
       "2. 8\n",
       "3. 18\n",
       "\n",
       "\n"
      ],
      "text/plain": [
       "[1]  2  8 18"
      ]
     },
     "metadata": {},
     "output_type": "display_data"
    }
   ],
   "source": [
    "# Multiply two vectors together (element-wise).  Return a new vector with the results:\n",
    "\n",
    "c(1,2,3) * c(2,4,6)"
   ]
  },
  {
   "cell_type": "markdown",
   "id": "49fc1511",
   "metadata": {
    "id": "49fc1511"
   },
   "source": [
    "### ✅ Exercise 4\n",
    "\n",
    "- Create a vector of numbers from 1-12. \n",
    "- Square the vector, returning a new vector containing the square of each number from the original vector."
   ]
  },
  {
   "cell_type": "code",
   "execution_count": 46,
   "id": "1423903b",
   "metadata": {
    "id": "1423903b"
   },
   "outputs": [
    {
     "name": "stdout",
     "output_type": "stream",
     "text": [
      " [1]   1   4   9  16  25  36  49  64  81 100 121 144\n"
     ]
    }
   ],
   "source": [
    "# Create a vector from 1 to 12\n",
    "numbers <- 1:12\n",
    "\n",
    "# Square each number in the vector\n",
    "squared_numbers <- numbers^2\n",
    "\n",
    "# Print the squared vector\n",
    "print(squared_numbers)"
   ]
  },
  {
   "cell_type": "markdown",
   "id": "af8d3765",
   "metadata": {
    "id": "af8d3765"
   },
   "source": [
    "---"
   ]
  },
  {
   "cell_type": "markdown",
   "id": "35c09785",
   "metadata": {
    "id": "35c09785"
   },
   "source": [
    "### Using Logicals to Perform Compound Operations on Vectors\n",
    "A compound operation is when you test two or more conditions for whether a value in a vector returns TRUE:"
   ]
  },
  {
   "cell_type": "code",
   "execution_count": 47,
   "id": "ce4859b2",
   "metadata": {
    "id": "ce4859b2"
   },
   "outputs": [
    {
     "data": {
      "text/html": [
       "<style>\n",
       ".list-inline {list-style: none; margin:0; padding: 0}\n",
       ".list-inline>li {display: inline-block}\n",
       ".list-inline>li:not(:last-child)::after {content: \"\\00b7\"; padding: 0 .5ex}\n",
       "</style>\n",
       "<ol class=list-inline><li>FALSE</li><li>TRUE</li><li>FALSE</li></ol>\n"
      ],
      "text/latex": [
       "\\begin{enumerate*}\n",
       "\\item FALSE\n",
       "\\item TRUE\n",
       "\\item FALSE\n",
       "\\end{enumerate*}\n"
      ],
      "text/markdown": [
       "1. FALSE\n",
       "2. TRUE\n",
       "3. FALSE\n",
       "\n",
       "\n"
      ],
      "text/plain": [
       "[1] FALSE  TRUE FALSE"
      ]
     },
     "metadata": {},
     "output_type": "display_data"
    }
   ],
   "source": [
    "# & is the \"AND\" operation in R.\n",
    "# Return TRUE where each item at a given index position between the vectors is TRUE:\n",
    "\n",
    "c(FALSE, TRUE, FALSE) & c(TRUE, TRUE, TRUE)"
   ]
  },
  {
   "cell_type": "code",
   "execution_count": 48,
   "id": "6347c3a0",
   "metadata": {
    "id": "6347c3a0"
   },
   "outputs": [
    {
     "data": {
      "text/html": [
       "<style>\n",
       ".list-inline {list-style: none; margin:0; padding: 0}\n",
       ".list-inline>li {display: inline-block}\n",
       ".list-inline>li:not(:last-child)::after {content: \"\\00b7\"; padding: 0 .5ex}\n",
       "</style>\n",
       "<ol class=list-inline><li>TRUE</li><li>TRUE</li><li>TRUE</li></ol>\n"
      ],
      "text/latex": [
       "\\begin{enumerate*}\n",
       "\\item TRUE\n",
       "\\item TRUE\n",
       "\\item TRUE\n",
       "\\end{enumerate*}\n"
      ],
      "text/markdown": [
       "1. TRUE\n",
       "2. TRUE\n",
       "3. TRUE\n",
       "\n",
       "\n"
      ],
      "text/plain": [
       "[1] TRUE TRUE TRUE"
      ]
     },
     "metadata": {},
     "output_type": "display_data"
    }
   ],
   "source": [
    "# | is the \"OR\" operation in R.\n",
    "# Return TRUE where either item at a given index position between the vectors is TRUE:\n",
    "\n",
    "c(FALSE, TRUE, FALSE) | c(TRUE, TRUE, TRUE)"
   ]
  },
  {
   "cell_type": "code",
   "execution_count": 49,
   "id": "6efef068",
   "metadata": {
    "id": "6efef068"
   },
   "outputs": [
    {
     "data": {
      "text/html": [
       "<style>\n",
       ".list-inline {list-style: none; margin:0; padding: 0}\n",
       ".list-inline>li {display: inline-block}\n",
       ".list-inline>li:not(:last-child)::after {content: \"\\00b7\"; padding: 0 .5ex}\n",
       "</style>\n",
       "<ol class=list-inline><li>TRUE</li><li>FALSE</li><li>FALSE</li><li>TRUE</li></ol>\n"
      ],
      "text/latex": [
       "\\begin{enumerate*}\n",
       "\\item TRUE\n",
       "\\item FALSE\n",
       "\\item FALSE\n",
       "\\item TRUE\n",
       "\\end{enumerate*}\n"
      ],
      "text/markdown": [
       "1. TRUE\n",
       "2. FALSE\n",
       "3. FALSE\n",
       "4. TRUE\n",
       "\n",
       "\n"
      ],
      "text/plain": [
       "[1]  TRUE FALSE FALSE  TRUE"
      ]
     },
     "metadata": {},
     "output_type": "display_data"
    }
   ],
   "source": [
    "# Create the vector \"v\":\n",
    "\n",
    "v = c(25, 9, 16, 4)\n",
    "\n",
    "# Test whether a value in the vector v is either less than 5 or (|) greater than 20:\n",
    "(v < 5) | (v > 20)"
   ]
  },
  {
   "cell_type": "code",
   "execution_count": 50,
   "id": "149c497e",
   "metadata": {
    "id": "149c497e"
   },
   "outputs": [
    {
     "data": {
      "text/html": [
       "<style>\n",
       ".list-inline {list-style: none; margin:0; padding: 0}\n",
       ".list-inline>li {display: inline-block}\n",
       ".list-inline>li:not(:last-child)::after {content: \"\\00b7\"; padding: 0 .5ex}\n",
       "</style>\n",
       "<ol class=list-inline><li>25</li><li>4</li></ol>\n"
      ],
      "text/latex": [
       "\\begin{enumerate*}\n",
       "\\item 25\n",
       "\\item 4\n",
       "\\end{enumerate*}\n"
      ],
      "text/markdown": [
       "1. 25\n",
       "2. 4\n",
       "\n",
       "\n"
      ],
      "text/plain": [
       "[1] 25  4"
      ]
     },
     "metadata": {},
     "output_type": "display_data"
    }
   ],
   "source": [
    "# Place the logical operation from above between the square brackets of \"v\" to return the actual values.\n",
    "# In otherwords, v will return any value whose index position is TRUE:\n",
    "\n",
    "v[(v < 5) | (v > 20)]"
   ]
  },
  {
   "cell_type": "markdown",
   "id": "66f97ad9",
   "metadata": {
    "id": "66f97ad9"
   },
   "source": [
    "<div class=\"alert alert-block alert-info\">\n",
    "<b>Tip:</b> The use of logical (conditional) operations will become very useful when you desire to explore and analyze your data.\n",
    "</div>"
   ]
  },
  {
   "cell_type": "markdown",
   "id": "17884606",
   "metadata": {
    "id": "17884606"
   },
   "source": [
    "### ✅ Exercise 5\n",
    "\n",
    "- Create a vector named \"nums\" containing numbers from 1 through 10. \n",
    "- Within the square brackets of \"nums\", perform a compound operation so that only values that are either less than 4 or greater than 8 are returned."
   ]
  },
  {
   "cell_type": "code",
   "execution_count": 51,
   "id": "fd9184e6",
   "metadata": {
    "id": "fd9184e6"
   },
   "outputs": [
    {
     "name": "stdout",
     "output_type": "stream",
     "text": [
      "[1]  1  2  3  9 10\n"
     ]
    }
   ],
   "source": [
    "# Create a vector containing numbers from 1 to 10\n",
    "nums <- 1:10\n",
    "\n",
    "# Filter values that are either less than 4 or greater than 8\n",
    "filtered_nums <- nums[nums < 4 | nums > 8]\n",
    "\n",
    "# Print the result\n",
    "print(filtered_nums)"
   ]
  },
  {
   "cell_type": "markdown",
   "id": "42502ef5",
   "metadata": {
    "id": "42502ef5"
   },
   "source": [
    "---"
   ]
  },
  {
   "cell_type": "markdown",
   "id": "7dc5f657",
   "metadata": {
    "id": "7dc5f657"
   },
   "source": [
    "### Naming Vectors\n",
    "If desired, you can use key/value pairs to assign a name to each element within a vector. You can then use the element's name to access its value:"
   ]
  },
  {
   "cell_type": "code",
   "execution_count": 52,
   "id": "70a6e58f",
   "metadata": {
    "id": "70a6e58f"
   },
   "outputs": [
    {
     "data": {
      "text/html": [
       "<style>\n",
       ".dl-inline {width: auto; margin:0; padding: 0}\n",
       ".dl-inline>dt, .dl-inline>dd {float: none; width: auto; display: inline-block}\n",
       ".dl-inline>dt::after {content: \":\\0020\"; padding-right: .5ex}\n",
       ".dl-inline>dt:not(:first-of-type) {padding-left: .5ex}\n",
       "</style><dl class=dl-inline><dt>milk</dt><dd>3.56</dd><dt>bread</dt><dd>4.29</dd><dt>rice</dt><dd>5.98</dd></dl>\n"
      ],
      "text/latex": [
       "\\begin{description*}\n",
       "\\item[milk] 3.56\n",
       "\\item[bread] 4.29\n",
       "\\item[rice] 5.98\n",
       "\\end{description*}\n"
      ],
      "text/markdown": [
       "milk\n",
       ":   3.56bread\n",
       ":   4.29rice\n",
       ":   5.98\n",
       "\n"
      ],
      "text/plain": [
       " milk bread  rice \n",
       " 3.56  4.29  5.98 "
      ]
     },
     "metadata": {},
     "output_type": "display_data"
    }
   ],
   "source": [
    "# Create a vector giving names to each element:\n",
    "\n",
    "groceries <- c(\"milk\"=3.56, \"bread\"=4.29, \"rice\"=5.98)\n",
    "groceries"
   ]
  },
  {
   "cell_type": "code",
   "execution_count": 53,
   "id": "e24d9e15",
   "metadata": {
    "id": "e24d9e15"
   },
   "outputs": [
    {
     "data": {
      "text/html": [
       "<strong>rice:</strong> 5.98"
      ],
      "text/latex": [
       "\\textbf{rice:} 5.98"
      ],
      "text/markdown": [
       "**rice:** 5.98"
      ],
      "text/plain": [
       "rice \n",
       "5.98 "
      ]
     },
     "metadata": {},
     "output_type": "display_data"
    }
   ],
   "source": [
    "# Place the element's name within the square brackets of the vector to return its value:\n",
    "\n",
    "groceries[\"rice\"]"
   ]
  },
  {
   "cell_type": "code",
   "execution_count": 54,
   "id": "71a253eb",
   "metadata": {
    "id": "71a253eb",
    "scrolled": true
   },
   "outputs": [
    {
     "data": {
      "text/html": [
       "<style>\n",
       ".dl-inline {width: auto; margin:0; padding: 0}\n",
       ".dl-inline>dt, .dl-inline>dd {float: none; width: auto; display: inline-block}\n",
       ".dl-inline>dt::after {content: \":\\0020\"; padding-right: .5ex}\n",
       ".dl-inline>dt:not(:first-of-type) {padding-left: .5ex}\n",
       "</style><dl class=dl-inline><dt>rice</dt><dd>5.98</dd><dt>bread</dt><dd>4.29</dd></dl>\n"
      ],
      "text/latex": [
       "\\begin{description*}\n",
       "\\item[rice] 5.98\n",
       "\\item[bread] 4.29\n",
       "\\end{description*}\n"
      ],
      "text/markdown": [
       "rice\n",
       ":   5.98bread\n",
       ":   4.29\n",
       "\n"
      ],
      "text/plain": [
       " rice bread \n",
       " 5.98  4.29 "
      ]
     },
     "metadata": {},
     "output_type": "display_data"
    }
   ],
   "source": [
    "# Use a vector of names to return more than one element's value:\n",
    "\n",
    "groceries[c(\"rice\", \"bread\")]"
   ]
  },
  {
   "cell_type": "markdown",
   "id": "893ea251",
   "metadata": {
    "id": "893ea251"
   },
   "source": [
    "---"
   ]
  },
  {
   "cell_type": "markdown",
   "id": "57ef0e20",
   "metadata": {
    "id": "57ef0e20"
   },
   "source": [
    "## Lists\n",
    "A list is a collection of items but unlike vectors, lists can contain any mixture of elements of any type. Lists can even contain other lists.\n",
    "\n",
    "You can use the **list()** function to crerate a list:"
   ]
  },
  {
   "cell_type": "code",
   "execution_count": 55,
   "id": "077aa7e2",
   "metadata": {
    "id": "077aa7e2"
   },
   "outputs": [
    {
     "data": {
      "text/html": [
       "<ol>\n",
       "\t<li>'a'</li>\n",
       "\t<li>1</li>\n",
       "\t<li>2.5</li>\n",
       "\t<li>TRUE</li>\n",
       "</ol>\n"
      ],
      "text/latex": [
       "\\begin{enumerate}\n",
       "\\item 'a'\n",
       "\\item 1\n",
       "\\item 2.5\n",
       "\\item TRUE\n",
       "\\end{enumerate}\n"
      ],
      "text/markdown": [
       "1. 'a'\n",
       "2. 1\n",
       "3. 2.5\n",
       "4. TRUE\n",
       "\n",
       "\n"
      ],
      "text/plain": [
       "[[1]]\n",
       "[1] \"a\"\n",
       "\n",
       "[[2]]\n",
       "[1] 1\n",
       "\n",
       "[[3]]\n",
       "[1] 2.5\n",
       "\n",
       "[[4]]\n",
       "[1] TRUE\n"
      ]
     },
     "metadata": {},
     "output_type": "display_data"
    }
   ],
   "source": [
    "L <- list(\"a\", 1, 2.5, TRUE)\n",
    "L"
   ]
  },
  {
   "cell_type": "markdown",
   "id": "79ff550d",
   "metadata": {
    "id": "79ff550d"
   },
   "source": [
    "Elements within a list can be accessed by placing the element's index position within square brackets:"
   ]
  },
  {
   "cell_type": "code",
   "execution_count": 56,
   "id": "e5c27a14",
   "metadata": {
    "id": "e5c27a14"
   },
   "outputs": [
    {
     "data": {
      "text/html": [
       "<ol>\n",
       "\t<li>TRUE</li>\n",
       "</ol>\n"
      ],
      "text/latex": [
       "\\begin{enumerate}\n",
       "\\item TRUE\n",
       "\\end{enumerate}\n"
      ],
      "text/markdown": [
       "1. TRUE\n",
       "\n",
       "\n"
      ],
      "text/plain": [
       "[[1]]\n",
       "[1] TRUE\n"
      ]
     },
     "metadata": {},
     "output_type": "display_data"
    }
   ],
   "source": [
    "L[4]"
   ]
  },
  {
   "cell_type": "code",
   "execution_count": 57,
   "id": "2662dbf0",
   "metadata": {
    "id": "2662dbf0"
   },
   "outputs": [
    {
     "data": {
      "text/html": [
       "<ol>\n",
       "\t<li>1</li>\n",
       "\t<li>2.5</li>\n",
       "</ol>\n"
      ],
      "text/latex": [
       "\\begin{enumerate}\n",
       "\\item 1\n",
       "\\item 2.5\n",
       "\\end{enumerate}\n"
      ],
      "text/markdown": [
       "1. 1\n",
       "2. 2.5\n",
       "\n",
       "\n"
      ],
      "text/plain": [
       "[[1]]\n",
       "[1] 1\n",
       "\n",
       "[[2]]\n",
       "[1] 2.5\n"
      ]
     },
     "metadata": {},
     "output_type": "display_data"
    }
   ],
   "source": [
    "L[2:3]"
   ]
  },
  {
   "cell_type": "markdown",
   "id": "d3265780",
   "metadata": {
    "id": "d3265780"
   },
   "source": [
    "#### Named lists\n",
    "Lists can also use names by creating key/value pairs to assign a name to each element within the list. You can then access an element within the list by using the element's name/key:"
   ]
  },
  {
   "cell_type": "code",
   "execution_count": 58,
   "id": "7b5b961f",
   "metadata": {
    "id": "7b5b961f"
   },
   "outputs": [
    {
     "data": {
      "text/html": [
       "<dl>\n",
       "\t<dt>$`San Francisco`</dt>\n",
       "\t\t<dd>1</dd>\n",
       "\t<dt>$`Santa Clara`</dt>\n",
       "\t\t<dd>2</dd>\n",
       "\t<dt>$`San Jose`</dt>\n",
       "\t\t<dd>3</dd>\n",
       "</dl>\n"
      ],
      "text/latex": [
       "\\begin{description}\n",
       "\\item[\\$`San Francisco`] 1\n",
       "\\item[\\$`Santa Clara`] 2\n",
       "\\item[\\$`San Jose`] 3\n",
       "\\end{description}\n"
      ],
      "text/markdown": [
       "$`San Francisco`\n",
       ":   1\n",
       "$`Santa Clara`\n",
       ":   2\n",
       "$`San Jose`\n",
       ":   3\n",
       "\n",
       "\n"
      ],
      "text/plain": [
       "$`San Francisco`\n",
       "[1] 1\n",
       "\n",
       "$`Santa Clara`\n",
       "[1] 2\n",
       "\n",
       "$`San Jose`\n",
       "[1] 3\n"
      ]
     },
     "metadata": {},
     "output_type": "display_data"
    }
   ],
   "source": [
    "a_list <- list(\"San Francisco\"= 1, \"Santa Clara\" = 2, \"San Jose\" = 3)\n",
    "a_list"
   ]
  },
  {
   "cell_type": "markdown",
   "id": "609f3cd1",
   "metadata": {
    "id": "609f3cd1"
   },
   "source": [
    "<div class=\"alert alert-block alert-success\">\n",
    "<b>Note:</b> The '$' preceding the characters in the output above indicates that the characters are a key from the named list as opposed to a value.\n",
    "</div>"
   ]
  },
  {
   "cell_type": "code",
   "execution_count": 59,
   "id": "6dcd760f",
   "metadata": {
    "id": "6dcd760f"
   },
   "outputs": [
    {
     "data": {
      "text/html": [
       "<strong>$`San Jose`</strong> = 3"
      ],
      "text/latex": [
       "\\textbf{\\$`San Jose`} = 3"
      ],
      "text/markdown": [
       "**$`San Jose`** = 3"
      ],
      "text/plain": [
       "$`San Jose`\n",
       "[1] 3\n"
      ]
     },
     "metadata": {},
     "output_type": "display_data"
    }
   ],
   "source": [
    "a_list[\"San Jose\"]"
   ]
  },
  {
   "cell_type": "markdown",
   "id": "a3c29d7a",
   "metadata": {
    "id": "a3c29d7a"
   },
   "source": [
    "---"
   ]
  },
  {
   "cell_type": "markdown",
   "id": "8df101e8",
   "metadata": {
    "id": "8df101e8"
   },
   "source": [
    "## Matrix\n",
    "A matrix is a two-dimensional collection of data elements. Like vectors, matrices can only contain a single data type. You can create a matrix by using the **matrix( )** function. "
   ]
  },
  {
   "cell_type": "markdown",
   "id": "3d231aa0",
   "metadata": {
    "id": "3d231aa0"
   },
   "source": [
    "To create a matrix, you first specify a vector and then you can specify the desired dimensions (rows x cols)."
   ]
  },
  {
   "cell_type": "code",
   "execution_count": 60,
   "id": "6385475e",
   "metadata": {
    "id": "6385475e"
   },
   "outputs": [
    {
     "data": {
      "text/html": [
       "<table class=\"dataframe\">\n",
       "<caption>A matrix: 3 × 4 of type int</caption>\n",
       "<tbody>\n",
       "\t<tr><td>1</td><td>4</td><td>7</td><td>10</td></tr>\n",
       "\t<tr><td>2</td><td>5</td><td>8</td><td>11</td></tr>\n",
       "\t<tr><td>3</td><td>6</td><td>9</td><td>12</td></tr>\n",
       "</tbody>\n",
       "</table>\n"
      ],
      "text/latex": [
       "A matrix: 3 × 4 of type int\n",
       "\\begin{tabular}{llll}\n",
       "\t 1 & 4 & 7 & 10\\\\\n",
       "\t 2 & 5 & 8 & 11\\\\\n",
       "\t 3 & 6 & 9 & 12\\\\\n",
       "\\end{tabular}\n"
      ],
      "text/markdown": [
       "\n",
       "A matrix: 3 × 4 of type int\n",
       "\n",
       "| 1 | 4 | 7 | 10 |\n",
       "| 2 | 5 | 8 | 11 |\n",
       "| 3 | 6 | 9 | 12 |\n",
       "\n"
      ],
      "text/plain": [
       "     [,1] [,2] [,3] [,4]\n",
       "[1,] 1    4    7    10  \n",
       "[2,] 2    5    8    11  \n",
       "[3,] 3    6    9    12  "
      ]
     },
     "metadata": {},
     "output_type": "display_data"
    }
   ],
   "source": [
    "matrix(1:12, nrow=3, ncol=4)"
   ]
  },
  {
   "cell_type": "markdown",
   "id": "13a553ae",
   "metadata": {
    "id": "13a553ae"
   },
   "source": [
    "Alternatively, after specifying a vector, you can indicate the desired number of rows and the number of columns will be calculated."
   ]
  },
  {
   "cell_type": "code",
   "execution_count": 61,
   "id": "bd033718",
   "metadata": {
    "id": "bd033718"
   },
   "outputs": [
    {
     "data": {
      "text/html": [
       "<table class=\"dataframe\">\n",
       "<caption>A matrix: 3 × 4 of type int</caption>\n",
       "<tbody>\n",
       "\t<tr><td>1</td><td>4</td><td>7</td><td>10</td></tr>\n",
       "\t<tr><td>2</td><td>5</td><td>8</td><td>11</td></tr>\n",
       "\t<tr><td>3</td><td>6</td><td>9</td><td>12</td></tr>\n",
       "</tbody>\n",
       "</table>\n"
      ],
      "text/latex": [
       "A matrix: 3 × 4 of type int\n",
       "\\begin{tabular}{llll}\n",
       "\t 1 & 4 & 7 & 10\\\\\n",
       "\t 2 & 5 & 8 & 11\\\\\n",
       "\t 3 & 6 & 9 & 12\\\\\n",
       "\\end{tabular}\n"
      ],
      "text/markdown": [
       "\n",
       "A matrix: 3 × 4 of type int\n",
       "\n",
       "| 1 | 4 | 7 | 10 |\n",
       "| 2 | 5 | 8 | 11 |\n",
       "| 3 | 6 | 9 | 12 |\n",
       "\n"
      ],
      "text/plain": [
       "     [,1] [,2] [,3] [,4]\n",
       "[1,] 1    4    7    10  \n",
       "[2,] 2    5    8    11  \n",
       "[3,] 3    6    9    12  "
      ]
     },
     "metadata": {},
     "output_type": "display_data"
    }
   ],
   "source": [
    "matrix(c(1:12), nrow = 3)"
   ]
  },
  {
   "cell_type": "markdown",
   "id": "f03d36de",
   "metadata": {
    "id": "f03d36de"
   },
   "source": [
    "Alternatively, after specifying a vector, you can indicate the desired number of columns and the number of rows will be calculated."
   ]
  },
  {
   "cell_type": "code",
   "execution_count": 62,
   "id": "ab71ab1f",
   "metadata": {
    "id": "ab71ab1f"
   },
   "outputs": [
    {
     "data": {
      "text/html": [
       "<table class=\"dataframe\">\n",
       "<caption>A matrix: 6 × 2 of type int</caption>\n",
       "<tbody>\n",
       "\t<tr><td>1</td><td> 7</td></tr>\n",
       "\t<tr><td>2</td><td> 8</td></tr>\n",
       "\t<tr><td>3</td><td> 9</td></tr>\n",
       "\t<tr><td>4</td><td>10</td></tr>\n",
       "\t<tr><td>5</td><td>11</td></tr>\n",
       "\t<tr><td>6</td><td>12</td></tr>\n",
       "</tbody>\n",
       "</table>\n"
      ],
      "text/latex": [
       "A matrix: 6 × 2 of type int\n",
       "\\begin{tabular}{ll}\n",
       "\t 1 &  7\\\\\n",
       "\t 2 &  8\\\\\n",
       "\t 3 &  9\\\\\n",
       "\t 4 & 10\\\\\n",
       "\t 5 & 11\\\\\n",
       "\t 6 & 12\\\\\n",
       "\\end{tabular}\n"
      ],
      "text/markdown": [
       "\n",
       "A matrix: 6 × 2 of type int\n",
       "\n",
       "| 1 |  7 |\n",
       "| 2 |  8 |\n",
       "| 3 |  9 |\n",
       "| 4 | 10 |\n",
       "| 5 | 11 |\n",
       "| 6 | 12 |\n",
       "\n"
      ],
      "text/plain": [
       "     [,1] [,2]\n",
       "[1,] 1     7  \n",
       "[2,] 2     8  \n",
       "[3,] 3     9  \n",
       "[4,] 4    10  \n",
       "[5,] 5    11  \n",
       "[6,] 6    12  "
      ]
     },
     "metadata": {},
     "output_type": "display_data"
    }
   ],
   "source": [
    "matrix(c(1:12), ncol = 2)"
   ]
  },
  {
   "cell_type": "markdown",
   "id": "641a8c09",
   "metadata": {
    "id": "641a8c09"
   },
   "source": [
    "#### rbind( )\n",
    "The rbind() function is used to bind vectors into a matrix (row-wise):"
   ]
  },
  {
   "cell_type": "code",
   "execution_count": 63,
   "id": "e2f0069a",
   "metadata": {
    "id": "e2f0069a"
   },
   "outputs": [
    {
     "data": {
      "text/html": [
       "<table class=\"dataframe\">\n",
       "<caption>A matrix: 2 × 3 of type dbl</caption>\n",
       "<tbody>\n",
       "\t<tr><td>1</td><td>2</td><td>3</td></tr>\n",
       "\t<tr><td>4</td><td>5</td><td>6</td></tr>\n",
       "</tbody>\n",
       "</table>\n"
      ],
      "text/latex": [
       "A matrix: 2 × 3 of type dbl\n",
       "\\begin{tabular}{lll}\n",
       "\t 1 & 2 & 3\\\\\n",
       "\t 4 & 5 & 6\\\\\n",
       "\\end{tabular}\n"
      ],
      "text/markdown": [
       "\n",
       "A matrix: 2 × 3 of type dbl\n",
       "\n",
       "| 1 | 2 | 3 |\n",
       "| 4 | 5 | 6 |\n",
       "\n"
      ],
      "text/plain": [
       "     [,1] [,2] [,3]\n",
       "[1,] 1    2    3   \n",
       "[2,] 4    5    6   "
      ]
     },
     "metadata": {},
     "output_type": "display_data"
    }
   ],
   "source": [
    "rbind(c(1,2,3), c(4,5,6))"
   ]
  },
  {
   "cell_type": "markdown",
   "id": "04e9dc72",
   "metadata": {
    "id": "04e9dc72"
   },
   "source": [
    "#### cbind( )\n",
    "The cbind() function is used to bind vectors into a matrix (column-wise):"
   ]
  },
  {
   "cell_type": "code",
   "execution_count": 64,
   "id": "84cc2f34",
   "metadata": {
    "id": "84cc2f34"
   },
   "outputs": [
    {
     "data": {
      "text/html": [
       "<table class=\"dataframe\">\n",
       "<caption>A matrix: 3 × 2 of type dbl</caption>\n",
       "<tbody>\n",
       "\t<tr><td>1</td><td>4</td></tr>\n",
       "\t<tr><td>2</td><td>5</td></tr>\n",
       "\t<tr><td>3</td><td>6</td></tr>\n",
       "</tbody>\n",
       "</table>\n"
      ],
      "text/latex": [
       "A matrix: 3 × 2 of type dbl\n",
       "\\begin{tabular}{ll}\n",
       "\t 1 & 4\\\\\n",
       "\t 2 & 5\\\\\n",
       "\t 3 & 6\\\\\n",
       "\\end{tabular}\n"
      ],
      "text/markdown": [
       "\n",
       "A matrix: 3 × 2 of type dbl\n",
       "\n",
       "| 1 | 4 |\n",
       "| 2 | 5 |\n",
       "| 3 | 6 |\n",
       "\n"
      ],
      "text/plain": [
       "     [,1] [,2]\n",
       "[1,] 1    4   \n",
       "[2,] 2    5   \n",
       "[3,] 3    6   "
      ]
     },
     "metadata": {},
     "output_type": "display_data"
    }
   ],
   "source": [
    "cbind(c(1,2,3), c(4,5,6))"
   ]
  },
  {
   "cell_type": "markdown",
   "id": "4f79d6d7",
   "metadata": {
    "id": "4f79d6d7"
   },
   "source": [
    "#### dim( )\n",
    "The dim() function will return the dimensions (rows, cols) of a matrix:"
   ]
  },
  {
   "cell_type": "code",
   "execution_count": 65,
   "id": "311ef09e",
   "metadata": {
    "id": "311ef09e"
   },
   "outputs": [
    {
     "data": {
      "text/html": [
       "<style>\n",
       ".list-inline {list-style: none; margin:0; padding: 0}\n",
       ".list-inline>li {display: inline-block}\n",
       ".list-inline>li:not(:last-child)::after {content: \"\\00b7\"; padding: 0 .5ex}\n",
       "</style>\n",
       "<ol class=list-inline><li>3</li><li>4</li></ol>\n"
      ],
      "text/latex": [
       "\\begin{enumerate*}\n",
       "\\item 3\n",
       "\\item 4\n",
       "\\end{enumerate*}\n"
      ],
      "text/markdown": [
       "1. 3\n",
       "2. 4\n",
       "\n",
       "\n"
      ],
      "text/plain": [
       "[1] 3 4"
      ]
     },
     "metadata": {},
     "output_type": "display_data"
    }
   ],
   "source": [
    "nums <- matrix(1:12, 3, 4)\n",
    "\n",
    "dim(nums)"
   ]
  },
  {
   "cell_type": "markdown",
   "id": "a936b259",
   "metadata": {
    "id": "a936b259"
   },
   "source": [
    "#### nrow( )\n",
    "The nrow() function will return the number of rows in a matrix:"
   ]
  },
  {
   "cell_type": "code",
   "execution_count": 66,
   "id": "1d3cb30f",
   "metadata": {
    "id": "1d3cb30f"
   },
   "outputs": [
    {
     "data": {
      "text/html": [
       "3"
      ],
      "text/latex": [
       "3"
      ],
      "text/markdown": [
       "3"
      ],
      "text/plain": [
       "[1] 3"
      ]
     },
     "metadata": {},
     "output_type": "display_data"
    }
   ],
   "source": [
    "nums <- matrix(1:12, 3, 4)\n",
    "\n",
    "nrow(nums)"
   ]
  },
  {
   "cell_type": "markdown",
   "id": "f8ae2a9b",
   "metadata": {
    "id": "f8ae2a9b"
   },
   "source": [
    "#### ncol( )\n",
    "The ncol() function will return the number of columns in a matrix:"
   ]
  },
  {
   "cell_type": "code",
   "execution_count": 67,
   "id": "5d087fbe",
   "metadata": {
    "id": "5d087fbe"
   },
   "outputs": [
    {
     "data": {
      "text/html": [
       "4"
      ],
      "text/latex": [
       "4"
      ],
      "text/markdown": [
       "4"
      ],
      "text/plain": [
       "[1] 4"
      ]
     },
     "metadata": {},
     "output_type": "display_data"
    }
   ],
   "source": [
    "nums <- matrix(1:12, 3, 4)\n",
    "\n",
    "ncol(nums)"
   ]
  },
  {
   "cell_type": "markdown",
   "id": "e2d61872",
   "metadata": {
    "id": "e2d61872"
   },
   "source": [
    "### Matrix Subsetting\n",
    "You can select a subset of a matrix by placing the desired rows and columns, separated by a comma, within square brackets."
   ]
  },
  {
   "cell_type": "code",
   "execution_count": 68,
   "id": "d405966d",
   "metadata": {
    "id": "d405966d"
   },
   "outputs": [
    {
     "data": {
      "text/html": [
       "<table class=\"dataframe\">\n",
       "<caption>A matrix: 3 × 4 of type int</caption>\n",
       "<tbody>\n",
       "\t<tr><td>1</td><td>4</td><td>7</td><td>10</td></tr>\n",
       "\t<tr><td>2</td><td>5</td><td>8</td><td>11</td></tr>\n",
       "\t<tr><td>3</td><td>6</td><td>9</td><td>12</td></tr>\n",
       "</tbody>\n",
       "</table>\n"
      ],
      "text/latex": [
       "A matrix: 3 × 4 of type int\n",
       "\\begin{tabular}{llll}\n",
       "\t 1 & 4 & 7 & 10\\\\\n",
       "\t 2 & 5 & 8 & 11\\\\\n",
       "\t 3 & 6 & 9 & 12\\\\\n",
       "\\end{tabular}\n"
      ],
      "text/markdown": [
       "\n",
       "A matrix: 3 × 4 of type int\n",
       "\n",
       "| 1 | 4 | 7 | 10 |\n",
       "| 2 | 5 | 8 | 11 |\n",
       "| 3 | 6 | 9 | 12 |\n",
       "\n"
      ],
      "text/plain": [
       "     [,1] [,2] [,3] [,4]\n",
       "[1,] 1    4    7    10  \n",
       "[2,] 2    5    8    11  \n",
       "[3,] 3    6    9    12  "
      ]
     },
     "metadata": {},
     "output_type": "display_data"
    }
   ],
   "source": [
    "# Create a matrix named \"nums\":\n",
    "\n",
    "nums <- matrix(1:12, 3, 4)\n",
    "nums"
   ]
  },
  {
   "cell_type": "code",
   "execution_count": 69,
   "id": "b9b0f40a",
   "metadata": {
    "id": "b9b0f40a"
   },
   "outputs": [
    {
     "data": {
      "text/html": [
       "8"
      ],
      "text/latex": [
       "8"
      ],
      "text/markdown": [
       "8"
      ],
      "text/plain": [
       "[1] 8"
      ]
     },
     "metadata": {},
     "output_type": "display_data"
    }
   ],
   "source": [
    "# Return the element located in the second row of the third column:\n",
    "\n",
    "nums[2,3]"
   ]
  },
  {
   "cell_type": "code",
   "execution_count": 70,
   "id": "9104cd66",
   "metadata": {
    "id": "9104cd66"
   },
   "outputs": [
    {
     "data": {
      "text/html": [
       "<table class=\"dataframe\">\n",
       "<caption>A matrix: 2 × 2 of type int</caption>\n",
       "<tbody>\n",
       "\t<tr><td>7</td><td>10</td></tr>\n",
       "\t<tr><td>8</td><td>11</td></tr>\n",
       "</tbody>\n",
       "</table>\n"
      ],
      "text/latex": [
       "A matrix: 2 × 2 of type int\n",
       "\\begin{tabular}{ll}\n",
       "\t 7 & 10\\\\\n",
       "\t 8 & 11\\\\\n",
       "\\end{tabular}\n"
      ],
      "text/markdown": [
       "\n",
       "A matrix: 2 × 2 of type int\n",
       "\n",
       "| 7 | 10 |\n",
       "| 8 | 11 |\n",
       "\n"
      ],
      "text/plain": [
       "     [,1] [,2]\n",
       "[1,] 7    10  \n",
       "[2,] 8    11  "
      ]
     },
     "metadata": {},
     "output_type": "display_data"
    }
   ],
   "source": [
    "# Return rows 1 and 2 of columns 3 and 4:\n",
    "\n",
    "nums[1:2, 3:4]"
   ]
  },
  {
   "cell_type": "code",
   "execution_count": 71,
   "id": "f328a1ee",
   "metadata": {
    "id": "f328a1ee"
   },
   "outputs": [
    {
     "data": {
      "text/html": [
       "<table class=\"dataframe\">\n",
       "<caption>A matrix: 2 × 2 of type int</caption>\n",
       "<tbody>\n",
       "\t<tr><td>7</td><td>10</td></tr>\n",
       "\t<tr><td>8</td><td>11</td></tr>\n",
       "</tbody>\n",
       "</table>\n"
      ],
      "text/latex": [
       "A matrix: 2 × 2 of type int\n",
       "\\begin{tabular}{ll}\n",
       "\t 7 & 10\\\\\n",
       "\t 8 & 11\\\\\n",
       "\\end{tabular}\n"
      ],
      "text/markdown": [
       "\n",
       "A matrix: 2 × 2 of type int\n",
       "\n",
       "| 7 | 10 |\n",
       "| 8 | 11 |\n",
       "\n"
      ],
      "text/plain": [
       "     [,1] [,2]\n",
       "[1,] 7    10  \n",
       "[2,] 8    11  "
      ]
     },
     "metadata": {},
     "output_type": "display_data"
    }
   ],
   "source": [
    "# An alternative way to get the same results as above...\n",
    "# Return all rows except the third, and all columns except the first and second:\n",
    "\n",
    "nums[-3, -1:-2]"
   ]
  },
  {
   "cell_type": "code",
   "execution_count": 72,
   "id": "eb840f74",
   "metadata": {
    "id": "eb840f74"
   },
   "outputs": [
    {
     "data": {
      "text/html": [
       "<style>\n",
       ".list-inline {list-style: none; margin:0; padding: 0}\n",
       ".list-inline>li {display: inline-block}\n",
       ".list-inline>li:not(:last-child)::after {content: \"\\00b7\"; padding: 0 .5ex}\n",
       "</style>\n",
       "<ol class=list-inline><li>2</li><li>5</li><li>8</li><li>11</li></ol>\n"
      ],
      "text/latex": [
       "\\begin{enumerate*}\n",
       "\\item 2\n",
       "\\item 5\n",
       "\\item 8\n",
       "\\item 11\n",
       "\\end{enumerate*}\n"
      ],
      "text/markdown": [
       "1. 2\n",
       "2. 5\n",
       "3. 8\n",
       "4. 11\n",
       "\n",
       "\n"
      ],
      "text/plain": [
       "[1]  2  5  8 11"
      ]
     },
     "metadata": {},
     "output_type": "display_data"
    }
   ],
   "source": [
    "# Return just row two (must be followed by a comma) and all of the columns:\n",
    "\n",
    "nums[2, ]"
   ]
  },
  {
   "cell_type": "code",
   "execution_count": 73,
   "id": "b7890b34",
   "metadata": {
    "id": "b7890b34"
   },
   "outputs": [
    {
     "data": {
      "text/html": [
       "<style>\n",
       ".list-inline {list-style: none; margin:0; padding: 0}\n",
       ".list-inline>li {display: inline-block}\n",
       ".list-inline>li:not(:last-child)::after {content: \"\\00b7\"; padding: 0 .5ex}\n",
       "</style>\n",
       "<ol class=list-inline><li>10</li><li>11</li><li>12</li></ol>\n"
      ],
      "text/latex": [
       "\\begin{enumerate*}\n",
       "\\item 10\n",
       "\\item 11\n",
       "\\item 12\n",
       "\\end{enumerate*}\n"
      ],
      "text/markdown": [
       "1. 10\n",
       "2. 11\n",
       "3. 12\n",
       "\n",
       "\n"
      ],
      "text/plain": [
       "[1] 10 11 12"
      ]
     },
     "metadata": {},
     "output_type": "display_data"
    }
   ],
   "source": [
    "# Return just column four (must be preceded by a comma) and all of the rows:\n",
    "\n",
    "nums[, 4]"
   ]
  },
  {
   "cell_type": "markdown",
   "id": "f186dddd",
   "metadata": {
    "id": "f186dddd"
   },
   "source": [
    "#### colnames()\n",
    "The colnames() function can be used to assign names to the columns:"
   ]
  },
  {
   "cell_type": "code",
   "execution_count": 74,
   "id": "3562bef6",
   "metadata": {
    "id": "3562bef6"
   },
   "outputs": [
    {
     "data": {
      "text/html": [
       "<table class=\"dataframe\">\n",
       "<caption>A matrix: 3 × 4 of type int</caption>\n",
       "<thead>\n",
       "\t<tr><th scope=col>col1</th><th scope=col>col2</th><th scope=col>col3</th><th scope=col>col4</th></tr>\n",
       "</thead>\n",
       "<tbody>\n",
       "\t<tr><td>1</td><td>4</td><td>7</td><td>10</td></tr>\n",
       "\t<tr><td>2</td><td>5</td><td>8</td><td>11</td></tr>\n",
       "\t<tr><td>3</td><td>6</td><td>9</td><td>12</td></tr>\n",
       "</tbody>\n",
       "</table>\n"
      ],
      "text/latex": [
       "A matrix: 3 × 4 of type int\n",
       "\\begin{tabular}{llll}\n",
       " col1 & col2 & col3 & col4\\\\\n",
       "\\hline\n",
       "\t 1 & 4 & 7 & 10\\\\\n",
       "\t 2 & 5 & 8 & 11\\\\\n",
       "\t 3 & 6 & 9 & 12\\\\\n",
       "\\end{tabular}\n"
      ],
      "text/markdown": [
       "\n",
       "A matrix: 3 × 4 of type int\n",
       "\n",
       "| col1 | col2 | col3 | col4 |\n",
       "|---|---|---|---|\n",
       "| 1 | 4 | 7 | 10 |\n",
       "| 2 | 5 | 8 | 11 |\n",
       "| 3 | 6 | 9 | 12 |\n",
       "\n"
      ],
      "text/plain": [
       "     col1 col2 col3 col4\n",
       "[1,] 1    4    7    10  \n",
       "[2,] 2    5    8    11  \n",
       "[3,] 3    6    9    12  "
      ]
     },
     "metadata": {},
     "output_type": "display_data"
    }
   ],
   "source": [
    "colnames(nums) <- c(\"col1\", \"col2\", \"col3\", \"col4\")\n",
    "nums"
   ]
  },
  {
   "cell_type": "markdown",
   "id": "cca53c9c",
   "metadata": {
    "id": "cca53c9c"
   },
   "source": [
    "#### rownames()\n",
    "The rownames() function can be used to assign names to the rows:"
   ]
  },
  {
   "cell_type": "code",
   "execution_count": 75,
   "id": "34f38f91",
   "metadata": {
    "id": "34f38f91"
   },
   "outputs": [
    {
     "data": {
      "text/html": [
       "<table class=\"dataframe\">\n",
       "<caption>A matrix: 3 × 4 of type int</caption>\n",
       "<thead>\n",
       "\t<tr><th></th><th scope=col>col1</th><th scope=col>col2</th><th scope=col>col3</th><th scope=col>col4</th></tr>\n",
       "</thead>\n",
       "<tbody>\n",
       "\t<tr><th scope=row>row1</th><td>1</td><td>4</td><td>7</td><td>10</td></tr>\n",
       "\t<tr><th scope=row>row2</th><td>2</td><td>5</td><td>8</td><td>11</td></tr>\n",
       "\t<tr><th scope=row>row3</th><td>3</td><td>6</td><td>9</td><td>12</td></tr>\n",
       "</tbody>\n",
       "</table>\n"
      ],
      "text/latex": [
       "A matrix: 3 × 4 of type int\n",
       "\\begin{tabular}{r|llll}\n",
       "  & col1 & col2 & col3 & col4\\\\\n",
       "\\hline\n",
       "\trow1 & 1 & 4 & 7 & 10\\\\\n",
       "\trow2 & 2 & 5 & 8 & 11\\\\\n",
       "\trow3 & 3 & 6 & 9 & 12\\\\\n",
       "\\end{tabular}\n"
      ],
      "text/markdown": [
       "\n",
       "A matrix: 3 × 4 of type int\n",
       "\n",
       "| <!--/--> | col1 | col2 | col3 | col4 |\n",
       "|---|---|---|---|---|\n",
       "| row1 | 1 | 4 | 7 | 10 |\n",
       "| row2 | 2 | 5 | 8 | 11 |\n",
       "| row3 | 3 | 6 | 9 | 12 |\n",
       "\n"
      ],
      "text/plain": [
       "     col1 col2 col3 col4\n",
       "row1 1    4    7    10  \n",
       "row2 2    5    8    11  \n",
       "row3 3    6    9    12  "
      ]
     },
     "metadata": {},
     "output_type": "display_data"
    }
   ],
   "source": [
    "rownames(nums) <- c(\"row1\", \"row2\", \"row3\")\n",
    "nums"
   ]
  },
  {
   "cell_type": "markdown",
   "id": "8356611c",
   "metadata": {
    "id": "8356611c"
   },
   "source": [
    "### ✅ Exercise 6\n",
    "\n",
    "Create a matrix by passing it a vector with numbers from 21 to 40. Shape the matrix to have 4 rows and 5 columns. Assign the names of the weekdays (i.e., Monday through Friday) to the five columns. Name the four rows \"California\", \"Texas\", \"Florida\", \"New York\". Name the matrix \"states\". Display the matrix."
   ]
  },
  {
   "cell_type": "code",
   "execution_count": 76,
   "id": "f093a9e9",
   "metadata": {
    "id": "f093a9e9"
   },
   "outputs": [
    {
     "name": "stdout",
     "output_type": "stream",
     "text": [
      "           Monday Tuesday Wednesday Thursday Friday\n",
      "California     21      25        29       33     37\n",
      "Texas          22      26        30       34     38\n",
      "Florida        23      27        31       35     39\n",
      "New York       24      28        32       36     40\n"
     ]
    }
   ],
   "source": [
    "# Create a vector with numbers from 21 to 40\n",
    "values <- 21:40\n",
    "\n",
    "# Create a matrix with 4 rows and 5 columns\n",
    "states <- matrix(values, nrow = 4, ncol = 5)\n",
    "\n",
    "# Assign column names (weekdays)\n",
    "colnames(states) <- c(\"Monday\", \"Tuesday\", \"Wednesday\", \"Thursday\", \"Friday\")\n",
    "\n",
    "# Assign row names (states)\n",
    "rownames(states) <- c(\"California\", \"Texas\", \"Florida\", \"New York\")\n",
    "\n",
    "# Display the matrix\n",
    "print(states)"
   ]
  },
  {
   "cell_type": "markdown",
   "id": "4696b619",
   "metadata": {
    "id": "4696b619"
   },
   "source": [
    "---"
   ]
  },
  {
   "cell_type": "markdown",
   "id": "65a7d388",
   "metadata": {
    "id": "65a7d388"
   },
   "source": [
    "### Subsetting Named Matrixes"
   ]
  },
  {
   "cell_type": "code",
   "execution_count": 77,
   "id": "4b77f397",
   "metadata": {
    "id": "4b77f397"
   },
   "outputs": [
    {
     "data": {
      "text/html": [
       "<table class=\"dataframe\">\n",
       "<caption>A matrix: 3 × 4 of type int</caption>\n",
       "<thead>\n",
       "\t<tr><th></th><th scope=col>col1</th><th scope=col>col2</th><th scope=col>col3</th><th scope=col>col4</th></tr>\n",
       "</thead>\n",
       "<tbody>\n",
       "\t<tr><th scope=row>row1</th><td>1</td><td>4</td><td>7</td><td>10</td></tr>\n",
       "\t<tr><th scope=row>row2</th><td>2</td><td>5</td><td>8</td><td>11</td></tr>\n",
       "\t<tr><th scope=row>row3</th><td>3</td><td>6</td><td>9</td><td>12</td></tr>\n",
       "</tbody>\n",
       "</table>\n"
      ],
      "text/latex": [
       "A matrix: 3 × 4 of type int\n",
       "\\begin{tabular}{r|llll}\n",
       "  & col1 & col2 & col3 & col4\\\\\n",
       "\\hline\n",
       "\trow1 & 1 & 4 & 7 & 10\\\\\n",
       "\trow2 & 2 & 5 & 8 & 11\\\\\n",
       "\trow3 & 3 & 6 & 9 & 12\\\\\n",
       "\\end{tabular}\n"
      ],
      "text/markdown": [
       "\n",
       "A matrix: 3 × 4 of type int\n",
       "\n",
       "| <!--/--> | col1 | col2 | col3 | col4 |\n",
       "|---|---|---|---|---|\n",
       "| row1 | 1 | 4 | 7 | 10 |\n",
       "| row2 | 2 | 5 | 8 | 11 |\n",
       "| row3 | 3 | 6 | 9 | 12 |\n",
       "\n"
      ],
      "text/plain": [
       "     col1 col2 col3 col4\n",
       "row1 1    4    7    10  \n",
       "row2 2    5    8    11  \n",
       "row3 3    6    9    12  "
      ]
     },
     "metadata": {},
     "output_type": "display_data"
    }
   ],
   "source": [
    "# Create a matrix with named rows and columns:\n",
    "\n",
    "nums <- matrix(1:12, 3, 4)\n",
    "colnames(nums) <- c(\"col1\", \"col2\", \"col3\", \"col4\")\n",
    "rownames(nums) <- c(\"row1\", \"row2\", \"row3\")\n",
    "\n",
    "nums"
   ]
  },
  {
   "cell_type": "markdown",
   "id": "59d7aee3",
   "metadata": {
    "id": "59d7aee3"
   },
   "source": [
    "#### Use the row/col names to subset the matrix:"
   ]
  },
  {
   "cell_type": "code",
   "execution_count": 78,
   "id": "1b4e1475",
   "metadata": {
    "id": "1b4e1475"
   },
   "outputs": [
    {
     "name": "stdout",
     "output_type": "stream",
     "text": [
      "col1 col2 col3 col4 \n",
      "   1    4    7   10 \n"
     ]
    }
   ],
   "source": [
    "# Return \"row1\" and every column:\n",
    "\n",
    "print(nums[\"row1\",])"
   ]
  },
  {
   "cell_type": "code",
   "execution_count": 79,
   "id": "d9b7aa9f",
   "metadata": {
    "id": "d9b7aa9f"
   },
   "outputs": [
    {
     "data": {
      "text/html": [
       "<table class=\"dataframe\">\n",
       "<caption>A matrix: 3 × 2 of type int</caption>\n",
       "<thead>\n",
       "\t<tr><th></th><th scope=col>col2</th><th scope=col>col4</th></tr>\n",
       "</thead>\n",
       "<tbody>\n",
       "\t<tr><th scope=row>row1</th><td>4</td><td>10</td></tr>\n",
       "\t<tr><th scope=row>row2</th><td>5</td><td>11</td></tr>\n",
       "\t<tr><th scope=row>row3</th><td>6</td><td>12</td></tr>\n",
       "</tbody>\n",
       "</table>\n"
      ],
      "text/latex": [
       "A matrix: 3 × 2 of type int\n",
       "\\begin{tabular}{r|ll}\n",
       "  & col2 & col4\\\\\n",
       "\\hline\n",
       "\trow1 & 4 & 10\\\\\n",
       "\trow2 & 5 & 11\\\\\n",
       "\trow3 & 6 & 12\\\\\n",
       "\\end{tabular}\n"
      ],
      "text/markdown": [
       "\n",
       "A matrix: 3 × 2 of type int\n",
       "\n",
       "| <!--/--> | col2 | col4 |\n",
       "|---|---|---|\n",
       "| row1 | 4 | 10 |\n",
       "| row2 | 5 | 11 |\n",
       "| row3 | 6 | 12 |\n",
       "\n"
      ],
      "text/plain": [
       "     col2 col4\n",
       "row1 4    10  \n",
       "row2 5    11  \n",
       "row3 6    12  "
      ]
     },
     "metadata": {},
     "output_type": "display_data"
    }
   ],
   "source": [
    "# Return all rows and just \"col2\" and \"col4\":\n",
    "\n",
    "nums[, c(\"col2\",\"col4\")]"
   ]
  },
  {
   "cell_type": "code",
   "execution_count": 80,
   "id": "c0b6481d",
   "metadata": {
    "id": "c0b6481d"
   },
   "outputs": [
    {
     "data": {
      "text/html": [
       "<table class=\"dataframe\">\n",
       "<caption>A matrix: 2 × 2 of type int</caption>\n",
       "<thead>\n",
       "\t<tr><th></th><th scope=col>col1</th><th scope=col>col4</th></tr>\n",
       "</thead>\n",
       "<tbody>\n",
       "\t<tr><th scope=row>row2</th><td>2</td><td>11</td></tr>\n",
       "\t<tr><th scope=row>row3</th><td>3</td><td>12</td></tr>\n",
       "</tbody>\n",
       "</table>\n"
      ],
      "text/latex": [
       "A matrix: 2 × 2 of type int\n",
       "\\begin{tabular}{r|ll}\n",
       "  & col1 & col4\\\\\n",
       "\\hline\n",
       "\trow2 & 2 & 11\\\\\n",
       "\trow3 & 3 & 12\\\\\n",
       "\\end{tabular}\n"
      ],
      "text/markdown": [
       "\n",
       "A matrix: 2 × 2 of type int\n",
       "\n",
       "| <!--/--> | col1 | col4 |\n",
       "|---|---|---|\n",
       "| row2 | 2 | 11 |\n",
       "| row3 | 3 | 12 |\n",
       "\n"
      ],
      "text/plain": [
       "     col1 col4\n",
       "row2 2    11  \n",
       "row3 3    12  "
      ]
     },
     "metadata": {},
     "output_type": "display_data"
    }
   ],
   "source": [
    "# Return \"row2\" and \"row3\" of \"col1\" and \"col4\":\n",
    "\n",
    "nums[c(\"row2\", \"row3\"), c(\"col1\",\"col4\")]"
   ]
  },
  {
   "cell_type": "markdown",
   "id": "c59f2ac6",
   "metadata": {
    "id": "c59f2ac6"
   },
   "source": [
    "---"
   ]
  },
  {
   "cell_type": "markdown",
   "id": "8747b045",
   "metadata": {
    "id": "8747b045"
   },
   "source": [
    "## Data Frames\n",
    "Data frames are the most common way of storing and analyzing data in R. The columns (which are vectors) can be of different types, but they must be the same length."
   ]
  },
  {
   "cell_type": "markdown",
   "id": "5e5f0e42",
   "metadata": {
    "id": "5e5f0e42"
   },
   "source": [
    "You can think of a data frame as a collection of vectors that all must be the same length."
   ]
  },
  {
   "cell_type": "code",
   "execution_count": 81,
   "id": "490f710d",
   "metadata": {
    "id": "490f710d",
    "scrolled": true
   },
   "outputs": [
    {
     "data": {
      "text/html": [
       "<table class=\"dataframe\">\n",
       "<caption>A data.frame: 5 × 3</caption>\n",
       "<thead>\n",
       "\t<tr><th scope=col>name</th><th scope=col>age</th><th scope=col>sex</th></tr>\n",
       "\t<tr><th scope=col>&lt;chr&gt;</th><th scope=col>&lt;dbl&gt;</th><th scope=col>&lt;chr&gt;</th></tr>\n",
       "</thead>\n",
       "<tbody>\n",
       "\t<tr><td>Carl </td><td>42</td><td>Male  </td></tr>\n",
       "\t<tr><td>Diane</td><td>40</td><td>Female</td></tr>\n",
       "\t<tr><td>Sally</td><td>17</td><td>Female</td></tr>\n",
       "\t<tr><td>Ben  </td><td>14</td><td>Male  </td></tr>\n",
       "\t<tr><td>Kimmy</td><td>12</td><td>Female</td></tr>\n",
       "</tbody>\n",
       "</table>\n"
      ],
      "text/latex": [
       "A data.frame: 5 × 3\n",
       "\\begin{tabular}{lll}\n",
       " name & age & sex\\\\\n",
       " <chr> & <dbl> & <chr>\\\\\n",
       "\\hline\n",
       "\t Carl  & 42 & Male  \\\\\n",
       "\t Diane & 40 & Female\\\\\n",
       "\t Sally & 17 & Female\\\\\n",
       "\t Ben   & 14 & Male  \\\\\n",
       "\t Kimmy & 12 & Female\\\\\n",
       "\\end{tabular}\n"
      ],
      "text/markdown": [
       "\n",
       "A data.frame: 5 × 3\n",
       "\n",
       "| name &lt;chr&gt; | age &lt;dbl&gt; | sex &lt;chr&gt; |\n",
       "|---|---|---|\n",
       "| Carl  | 42 | Male   |\n",
       "| Diane | 40 | Female |\n",
       "| Sally | 17 | Female |\n",
       "| Ben   | 14 | Male   |\n",
       "| Kimmy | 12 | Female |\n",
       "\n"
      ],
      "text/plain": [
       "  name  age sex   \n",
       "1 Carl  42  Male  \n",
       "2 Diane 40  Female\n",
       "3 Sally 17  Female\n",
       "4 Ben   14  Male  \n",
       "5 Kimmy 12  Female"
      ]
     },
     "metadata": {},
     "output_type": "display_data"
    }
   ],
   "source": [
    "df <- data.frame(name=c(\"Carl\",\"Diane\",\"Sally\",\"Ben\",\"Kimmy\"),\n",
    "                 age=c(42,40,17,14,12),\n",
    "                 sex=c(\"Male\",\"Female\",\"Female\",\"Male\",\"Female\"))\n",
    "\n",
    "df"
   ]
  },
  {
   "cell_type": "markdown",
   "id": "ed3b4105",
   "metadata": {
    "id": "ed3b4105"
   },
   "source": [
    "#### dim()\n",
    "The dim() function is used to get the dimensions (rows x cols) of a data frame:"
   ]
  },
  {
   "cell_type": "code",
   "execution_count": 82,
   "id": "ac6e4e3b",
   "metadata": {
    "id": "ac6e4e3b"
   },
   "outputs": [
    {
     "data": {
      "text/html": [
       "<style>\n",
       ".list-inline {list-style: none; margin:0; padding: 0}\n",
       ".list-inline>li {display: inline-block}\n",
       ".list-inline>li:not(:last-child)::after {content: \"\\00b7\"; padding: 0 .5ex}\n",
       "</style>\n",
       "<ol class=list-inline><li>5</li><li>3</li></ol>\n"
      ],
      "text/latex": [
       "\\begin{enumerate*}\n",
       "\\item 5\n",
       "\\item 3\n",
       "\\end{enumerate*}\n"
      ],
      "text/markdown": [
       "1. 5\n",
       "2. 3\n",
       "\n",
       "\n"
      ],
      "text/plain": [
       "[1] 5 3"
      ]
     },
     "metadata": {},
     "output_type": "display_data"
    }
   ],
   "source": [
    "dim(df)"
   ]
  },
  {
   "cell_type": "markdown",
   "id": "e30fc65b",
   "metadata": {
    "id": "e30fc65b"
   },
   "source": [
    "#### nrow()\n",
    "The nrow() function is used to get the number of rows in a data frame:"
   ]
  },
  {
   "cell_type": "code",
   "execution_count": 83,
   "id": "453e7b93",
   "metadata": {
    "id": "453e7b93"
   },
   "outputs": [
    {
     "data": {
      "text/html": [
       "5"
      ],
      "text/latex": [
       "5"
      ],
      "text/markdown": [
       "5"
      ],
      "text/plain": [
       "[1] 5"
      ]
     },
     "metadata": {},
     "output_type": "display_data"
    }
   ],
   "source": [
    "nrow(df)"
   ]
  },
  {
   "cell_type": "markdown",
   "id": "0fa75718",
   "metadata": {
    "id": "0fa75718"
   },
   "source": [
    "#### ncol()\n",
    "The ncol() function is used to get the number of columns in a data frame:"
   ]
  },
  {
   "cell_type": "code",
   "execution_count": 84,
   "id": "f853a849",
   "metadata": {
    "id": "f853a849"
   },
   "outputs": [
    {
     "data": {
      "text/html": [
       "3"
      ],
      "text/latex": [
       "3"
      ],
      "text/markdown": [
       "3"
      ],
      "text/plain": [
       "[1] 3"
      ]
     },
     "metadata": {},
     "output_type": "display_data"
    }
   ],
   "source": [
    "ncol(df)"
   ]
  },
  {
   "cell_type": "markdown",
   "id": "8c0deca7",
   "metadata": {
    "id": "8c0deca7"
   },
   "source": [
    "#### colnames()\n",
    "The colnames() function is used to get the column names of a data frame:"
   ]
  },
  {
   "cell_type": "code",
   "execution_count": 85,
   "id": "1c19604a",
   "metadata": {
    "id": "1c19604a"
   },
   "outputs": [
    {
     "data": {
      "text/html": [
       "<style>\n",
       ".list-inline {list-style: none; margin:0; padding: 0}\n",
       ".list-inline>li {display: inline-block}\n",
       ".list-inline>li:not(:last-child)::after {content: \"\\00b7\"; padding: 0 .5ex}\n",
       "</style>\n",
       "<ol class=list-inline><li>'name'</li><li>'age'</li><li>'sex'</li></ol>\n"
      ],
      "text/latex": [
       "\\begin{enumerate*}\n",
       "\\item 'name'\n",
       "\\item 'age'\n",
       "\\item 'sex'\n",
       "\\end{enumerate*}\n"
      ],
      "text/markdown": [
       "1. 'name'\n",
       "2. 'age'\n",
       "3. 'sex'\n",
       "\n",
       "\n"
      ],
      "text/plain": [
       "[1] \"name\" \"age\"  \"sex\" "
      ]
     },
     "metadata": {},
     "output_type": "display_data"
    }
   ],
   "source": [
    "colnames(df)"
   ]
  },
  {
   "cell_type": "markdown",
   "id": "45bb3081",
   "metadata": {
    "id": "45bb3081"
   },
   "source": [
    "### Data Frame Subsetting\n",
    "You can select a subset of a data frame by placing the desired rows and columns, separated by a comma, within square brackets. You can use either an index position or a name. "
   ]
  },
  {
   "cell_type": "code",
   "execution_count": 86,
   "id": "84236fe7",
   "metadata": {
    "id": "84236fe7"
   },
   "outputs": [
    {
     "data": {
      "text/html": [
       "<table class=\"dataframe\">\n",
       "<caption>A data.frame: 5 × 3</caption>\n",
       "<thead>\n",
       "\t<tr><th scope=col>name</th><th scope=col>age</th><th scope=col>sex</th></tr>\n",
       "\t<tr><th scope=col>&lt;chr&gt;</th><th scope=col>&lt;dbl&gt;</th><th scope=col>&lt;chr&gt;</th></tr>\n",
       "</thead>\n",
       "<tbody>\n",
       "\t<tr><td>Carl </td><td>42</td><td>Male  </td></tr>\n",
       "\t<tr><td>Diane</td><td>40</td><td>Female</td></tr>\n",
       "\t<tr><td>Sally</td><td>17</td><td>Female</td></tr>\n",
       "\t<tr><td>Ben  </td><td>14</td><td>Male  </td></tr>\n",
       "\t<tr><td>Kimmy</td><td>12</td><td>Female</td></tr>\n",
       "</tbody>\n",
       "</table>\n"
      ],
      "text/latex": [
       "A data.frame: 5 × 3\n",
       "\\begin{tabular}{lll}\n",
       " name & age & sex\\\\\n",
       " <chr> & <dbl> & <chr>\\\\\n",
       "\\hline\n",
       "\t Carl  & 42 & Male  \\\\\n",
       "\t Diane & 40 & Female\\\\\n",
       "\t Sally & 17 & Female\\\\\n",
       "\t Ben   & 14 & Male  \\\\\n",
       "\t Kimmy & 12 & Female\\\\\n",
       "\\end{tabular}\n"
      ],
      "text/markdown": [
       "\n",
       "A data.frame: 5 × 3\n",
       "\n",
       "| name &lt;chr&gt; | age &lt;dbl&gt; | sex &lt;chr&gt; |\n",
       "|---|---|---|\n",
       "| Carl  | 42 | Male   |\n",
       "| Diane | 40 | Female |\n",
       "| Sally | 17 | Female |\n",
       "| Ben   | 14 | Male   |\n",
       "| Kimmy | 12 | Female |\n",
       "\n"
      ],
      "text/plain": [
       "  name  age sex   \n",
       "1 Carl  42  Male  \n",
       "2 Diane 40  Female\n",
       "3 Sally 17  Female\n",
       "4 Ben   14  Male  \n",
       "5 Kimmy 12  Female"
      ]
     },
     "metadata": {},
     "output_type": "display_data"
    }
   ],
   "source": [
    "# Create a data frame:\n",
    "\n",
    "df <- data.frame(name=c(\"Carl\",\"Diane\",\"Sally\",\"Ben\",\"Kimmy\"),\n",
    "                 age=c(42,40,17,14,12),\n",
    "                 sex=c(\"Male\",\"Female\",\"Female\",\"Male\",\"Female\"))\n",
    "\n",
    "df"
   ]
  },
  {
   "cell_type": "markdown",
   "id": "feae8e9e",
   "metadata": {
    "id": "feae8e9e"
   },
   "source": [
    "#### Subsets of rows"
   ]
  },
  {
   "cell_type": "code",
   "execution_count": 87,
   "id": "8978aaad",
   "metadata": {
    "id": "8978aaad"
   },
   "outputs": [
    {
     "data": {
      "text/html": [
       "<table class=\"dataframe\">\n",
       "<caption>A data.frame: 2 × 3</caption>\n",
       "<thead>\n",
       "\t<tr><th></th><th scope=col>name</th><th scope=col>age</th><th scope=col>sex</th></tr>\n",
       "\t<tr><th></th><th scope=col>&lt;chr&gt;</th><th scope=col>&lt;dbl&gt;</th><th scope=col>&lt;chr&gt;</th></tr>\n",
       "</thead>\n",
       "<tbody>\n",
       "\t<tr><th scope=row>1</th><td>Carl </td><td>42</td><td>Male  </td></tr>\n",
       "\t<tr><th scope=row>2</th><td>Diane</td><td>40</td><td>Female</td></tr>\n",
       "</tbody>\n",
       "</table>\n"
      ],
      "text/latex": [
       "A data.frame: 2 × 3\n",
       "\\begin{tabular}{r|lll}\n",
       "  & name & age & sex\\\\\n",
       "  & <chr> & <dbl> & <chr>\\\\\n",
       "\\hline\n",
       "\t1 & Carl  & 42 & Male  \\\\\n",
       "\t2 & Diane & 40 & Female\\\\\n",
       "\\end{tabular}\n"
      ],
      "text/markdown": [
       "\n",
       "A data.frame: 2 × 3\n",
       "\n",
       "| <!--/--> | name &lt;chr&gt; | age &lt;dbl&gt; | sex &lt;chr&gt; |\n",
       "|---|---|---|---|\n",
       "| 1 | Carl  | 42 | Male   |\n",
       "| 2 | Diane | 40 | Female |\n",
       "\n"
      ],
      "text/plain": [
       "  name  age sex   \n",
       "1 Carl  42  Male  \n",
       "2 Diane 40  Female"
      ]
     },
     "metadata": {},
     "output_type": "display_data"
    }
   ],
   "source": [
    "# Return the first two rows with all of the columns:\n",
    "\n",
    "df[1:2, ]"
   ]
  },
  {
   "cell_type": "code",
   "execution_count": 88,
   "id": "7bed2754",
   "metadata": {
    "id": "7bed2754"
   },
   "outputs": [
    {
     "data": {
      "text/html": [
       "<table class=\"dataframe\">\n",
       "<caption>A data.frame: 2 × 3</caption>\n",
       "<thead>\n",
       "\t<tr><th></th><th scope=col>name</th><th scope=col>age</th><th scope=col>sex</th></tr>\n",
       "\t<tr><th></th><th scope=col>&lt;chr&gt;</th><th scope=col>&lt;dbl&gt;</th><th scope=col>&lt;chr&gt;</th></tr>\n",
       "</thead>\n",
       "<tbody>\n",
       "\t<tr><th scope=row>1</th><td>Carl </td><td>42</td><td>Male  </td></tr>\n",
       "\t<tr><th scope=row>3</th><td>Sally</td><td>17</td><td>Female</td></tr>\n",
       "</tbody>\n",
       "</table>\n"
      ],
      "text/latex": [
       "A data.frame: 2 × 3\n",
       "\\begin{tabular}{r|lll}\n",
       "  & name & age & sex\\\\\n",
       "  & <chr> & <dbl> & <chr>\\\\\n",
       "\\hline\n",
       "\t1 & Carl  & 42 & Male  \\\\\n",
       "\t3 & Sally & 17 & Female\\\\\n",
       "\\end{tabular}\n"
      ],
      "text/markdown": [
       "\n",
       "A data.frame: 2 × 3\n",
       "\n",
       "| <!--/--> | name &lt;chr&gt; | age &lt;dbl&gt; | sex &lt;chr&gt; |\n",
       "|---|---|---|---|\n",
       "| 1 | Carl  | 42 | Male   |\n",
       "| 3 | Sally | 17 | Female |\n",
       "\n"
      ],
      "text/plain": [
       "  name  age sex   \n",
       "1 Carl  42  Male  \n",
       "3 Sally 17  Female"
      ]
     },
     "metadata": {},
     "output_type": "display_data"
    }
   ],
   "source": [
    "# Return the first and third row (with all of the columns); a comma follows the vector so it indicates rows):\n",
    "\n",
    "df[c(1,3), ]"
   ]
  },
  {
   "cell_type": "markdown",
   "id": "e7fc9097",
   "metadata": {
    "id": "e7fc9097"
   },
   "source": [
    "#### Subsets of columns"
   ]
  },
  {
   "cell_type": "code",
   "execution_count": 89,
   "id": "d32d4e77",
   "metadata": {
    "id": "d32d4e77"
   },
   "outputs": [
    {
     "data": {
      "text/html": [
       "<table class=\"dataframe\">\n",
       "<caption>A data.frame: 5 × 2</caption>\n",
       "<thead>\n",
       "\t<tr><th scope=col>name</th><th scope=col>sex</th></tr>\n",
       "\t<tr><th scope=col>&lt;chr&gt;</th><th scope=col>&lt;chr&gt;</th></tr>\n",
       "</thead>\n",
       "<tbody>\n",
       "\t<tr><td>Carl </td><td>Male  </td></tr>\n",
       "\t<tr><td>Diane</td><td>Female</td></tr>\n",
       "\t<tr><td>Sally</td><td>Female</td></tr>\n",
       "\t<tr><td>Ben  </td><td>Male  </td></tr>\n",
       "\t<tr><td>Kimmy</td><td>Female</td></tr>\n",
       "</tbody>\n",
       "</table>\n"
      ],
      "text/latex": [
       "A data.frame: 5 × 2\n",
       "\\begin{tabular}{ll}\n",
       " name & sex\\\\\n",
       " <chr> & <chr>\\\\\n",
       "\\hline\n",
       "\t Carl  & Male  \\\\\n",
       "\t Diane & Female\\\\\n",
       "\t Sally & Female\\\\\n",
       "\t Ben   & Male  \\\\\n",
       "\t Kimmy & Female\\\\\n",
       "\\end{tabular}\n"
      ],
      "text/markdown": [
       "\n",
       "A data.frame: 5 × 2\n",
       "\n",
       "| name &lt;chr&gt; | sex &lt;chr&gt; |\n",
       "|---|---|\n",
       "| Carl  | Male   |\n",
       "| Diane | Female |\n",
       "| Sally | Female |\n",
       "| Ben   | Male   |\n",
       "| Kimmy | Female |\n",
       "\n"
      ],
      "text/plain": [
       "  name  sex   \n",
       "1 Carl  Male  \n",
       "2 Diane Female\n",
       "3 Sally Female\n",
       "4 Ben   Male  \n",
       "5 Kimmy Female"
      ]
     },
     "metadata": {},
     "output_type": "display_data"
    }
   ],
   "source": [
    "# Return the first and third columns (with all of the rows); no comma follows the vector so it indicates columns:\n",
    "\n",
    "df[c(1, 3)] "
   ]
  },
  {
   "cell_type": "markdown",
   "id": "c1182d64",
   "metadata": {
    "id": "c1182d64"
   },
   "source": [
    "<div class=\"alert alert-block alert-warning\">\n",
    "<b>Alert:</b> To subset a data frame, placing a vector within square brackets, not followed by a comma, indicates the desired columns that you would like returned. If the vector is followed by a comma, this indicates that these are the rows that you would like returned.</div>"
   ]
  },
  {
   "cell_type": "code",
   "execution_count": 90,
   "id": "77b3e7ad",
   "metadata": {
    "id": "77b3e7ad"
   },
   "outputs": [
    {
     "data": {
      "text/html": [
       "<table class=\"dataframe\">\n",
       "<caption>A data.frame: 5 × 1</caption>\n",
       "<thead>\n",
       "\t<tr><th scope=col>name</th></tr>\n",
       "\t<tr><th scope=col>&lt;chr&gt;</th></tr>\n",
       "</thead>\n",
       "<tbody>\n",
       "\t<tr><td>Carl </td></tr>\n",
       "\t<tr><td>Diane</td></tr>\n",
       "\t<tr><td>Sally</td></tr>\n",
       "\t<tr><td>Ben  </td></tr>\n",
       "\t<tr><td>Kimmy</td></tr>\n",
       "</tbody>\n",
       "</table>\n"
      ],
      "text/latex": [
       "A data.frame: 5 × 1\n",
       "\\begin{tabular}{l}\n",
       " name\\\\\n",
       " <chr>\\\\\n",
       "\\hline\n",
       "\t Carl \\\\\n",
       "\t Diane\\\\\n",
       "\t Sally\\\\\n",
       "\t Ben  \\\\\n",
       "\t Kimmy\\\\\n",
       "\\end{tabular}\n"
      ],
      "text/markdown": [
       "\n",
       "A data.frame: 5 × 1\n",
       "\n",
       "| name &lt;chr&gt; |\n",
       "|---|\n",
       "| Carl  |\n",
       "| Diane |\n",
       "| Sally |\n",
       "| Ben   |\n",
       "| Kimmy |\n",
       "\n"
      ],
      "text/plain": [
       "  name \n",
       "1 Carl \n",
       "2 Diane\n",
       "3 Sally\n",
       "4 Ben  \n",
       "5 Kimmy"
      ]
     },
     "metadata": {},
     "output_type": "display_data"
    }
   ],
   "source": [
    "# Return the column named \"name\" with all of the rows (returns a data frame):\n",
    "\n",
    "df[\"name\"]"
   ]
  },
  {
   "cell_type": "code",
   "execution_count": 91,
   "id": "97f37af5",
   "metadata": {
    "id": "97f37af5"
   },
   "outputs": [
    {
     "data": {
      "text/html": [
       "<style>\n",
       ".list-inline {list-style: none; margin:0; padding: 0}\n",
       ".list-inline>li {display: inline-block}\n",
       ".list-inline>li:not(:last-child)::after {content: \"\\00b7\"; padding: 0 .5ex}\n",
       "</style>\n",
       "<ol class=list-inline><li>'Carl'</li><li>'Diane'</li><li>'Sally'</li><li>'Ben'</li><li>'Kimmy'</li></ol>\n"
      ],
      "text/latex": [
       "\\begin{enumerate*}\n",
       "\\item 'Carl'\n",
       "\\item 'Diane'\n",
       "\\item 'Sally'\n",
       "\\item 'Ben'\n",
       "\\item 'Kimmy'\n",
       "\\end{enumerate*}\n"
      ],
      "text/markdown": [
       "1. 'Carl'\n",
       "2. 'Diane'\n",
       "3. 'Sally'\n",
       "4. 'Ben'\n",
       "5. 'Kimmy'\n",
       "\n",
       "\n"
      ],
      "text/plain": [
       "[1] \"Carl\"  \"Diane\" \"Sally\" \"Ben\"   \"Kimmy\""
      ]
     },
     "metadata": {},
     "output_type": "display_data"
    }
   ],
   "source": [
    "# Return the column named \"name\" with all of the rows (using \"$\" returns the vector):\n",
    "\n",
    "df$name"
   ]
  },
  {
   "cell_type": "code",
   "execution_count": 92,
   "id": "5f8c2a18",
   "metadata": {
    "id": "5f8c2a18"
   },
   "outputs": [
    {
     "data": {
      "text/html": [
       "<table class=\"dataframe\">\n",
       "<caption>A data.frame: 5 × 3</caption>\n",
       "<thead>\n",
       "\t<tr><th scope=col>sex</th><th scope=col>age</th><th scope=col>name</th></tr>\n",
       "\t<tr><th scope=col>&lt;chr&gt;</th><th scope=col>&lt;dbl&gt;</th><th scope=col>&lt;chr&gt;</th></tr>\n",
       "</thead>\n",
       "<tbody>\n",
       "\t<tr><td>Male  </td><td>42</td><td>Carl </td></tr>\n",
       "\t<tr><td>Female</td><td>40</td><td>Diane</td></tr>\n",
       "\t<tr><td>Female</td><td>17</td><td>Sally</td></tr>\n",
       "\t<tr><td>Male  </td><td>14</td><td>Ben  </td></tr>\n",
       "\t<tr><td>Female</td><td>12</td><td>Kimmy</td></tr>\n",
       "</tbody>\n",
       "</table>\n"
      ],
      "text/latex": [
       "A data.frame: 5 × 3\n",
       "\\begin{tabular}{lll}\n",
       " sex & age & name\\\\\n",
       " <chr> & <dbl> & <chr>\\\\\n",
       "\\hline\n",
       "\t Male   & 42 & Carl \\\\\n",
       "\t Female & 40 & Diane\\\\\n",
       "\t Female & 17 & Sally\\\\\n",
       "\t Male   & 14 & Ben  \\\\\n",
       "\t Female & 12 & Kimmy\\\\\n",
       "\\end{tabular}\n"
      ],
      "text/markdown": [
       "\n",
       "A data.frame: 5 × 3\n",
       "\n",
       "| sex &lt;chr&gt; | age &lt;dbl&gt; | name &lt;chr&gt; |\n",
       "|---|---|---|\n",
       "| Male   | 42 | Carl  |\n",
       "| Female | 40 | Diane |\n",
       "| Female | 17 | Sally |\n",
       "| Male   | 14 | Ben   |\n",
       "| Female | 12 | Kimmy |\n",
       "\n"
      ],
      "text/plain": [
       "  sex    age name \n",
       "1 Male   42  Carl \n",
       "2 Female 40  Diane\n",
       "3 Female 17  Sally\n",
       "4 Male   14  Ben  \n",
       "5 Female 12  Kimmy"
      ]
     },
     "metadata": {},
     "output_type": "display_data"
    }
   ],
   "source": [
    "# Using a vector for the names of the columns returns those columns in the selected order (with all of the rows):\n",
    "\n",
    "df[c(\"sex\", \"age\", \"name\")] "
   ]
  },
  {
   "cell_type": "markdown",
   "id": "72976114",
   "metadata": {
    "id": "72976114"
   },
   "source": [
    "#### Row and Column subsetting"
   ]
  },
  {
   "cell_type": "code",
   "execution_count": 93,
   "id": "09164e3d",
   "metadata": {
    "id": "09164e3d"
   },
   "outputs": [
    {
     "data": {
      "text/html": [
       "<table class=\"dataframe\">\n",
       "<caption>A data.frame: 2 × 2</caption>\n",
       "<thead>\n",
       "\t<tr><th></th><th scope=col>name</th><th scope=col>age</th></tr>\n",
       "\t<tr><th></th><th scope=col>&lt;chr&gt;</th><th scope=col>&lt;dbl&gt;</th></tr>\n",
       "</thead>\n",
       "<tbody>\n",
       "\t<tr><th scope=row>1</th><td>Carl </td><td>42</td></tr>\n",
       "\t<tr><th scope=row>2</th><td>Diane</td><td>40</td></tr>\n",
       "</tbody>\n",
       "</table>\n"
      ],
      "text/latex": [
       "A data.frame: 2 × 2\n",
       "\\begin{tabular}{r|ll}\n",
       "  & name & age\\\\\n",
       "  & <chr> & <dbl>\\\\\n",
       "\\hline\n",
       "\t1 & Carl  & 42\\\\\n",
       "\t2 & Diane & 40\\\\\n",
       "\\end{tabular}\n"
      ],
      "text/markdown": [
       "\n",
       "A data.frame: 2 × 2\n",
       "\n",
       "| <!--/--> | name &lt;chr&gt; | age &lt;dbl&gt; |\n",
       "|---|---|---|\n",
       "| 1 | Carl  | 42 |\n",
       "| 2 | Diane | 40 |\n",
       "\n"
      ],
      "text/plain": [
       "  name  age\n",
       "1 Carl  42 \n",
       "2 Diane 40 "
      ]
     },
     "metadata": {},
     "output_type": "display_data"
    }
   ],
   "source": [
    "# Return the first two rows of the first two columns:\n",
    "\n",
    "df[1:2, 1:2]"
   ]
  },
  {
   "cell_type": "code",
   "execution_count": 94,
   "id": "8b6e3666",
   "metadata": {
    "id": "8b6e3666"
   },
   "outputs": [
    {
     "data": {
      "text/html": [
       "<table class=\"dataframe\">\n",
       "<caption>A data.frame: 2 × 2</caption>\n",
       "<thead>\n",
       "\t<tr><th></th><th scope=col>name</th><th scope=col>age</th></tr>\n",
       "\t<tr><th></th><th scope=col>&lt;chr&gt;</th><th scope=col>&lt;dbl&gt;</th></tr>\n",
       "</thead>\n",
       "<tbody>\n",
       "\t<tr><th scope=row>1</th><td>Carl </td><td>42</td></tr>\n",
       "\t<tr><th scope=row>2</th><td>Diane</td><td>40</td></tr>\n",
       "</tbody>\n",
       "</table>\n"
      ],
      "text/latex": [
       "A data.frame: 2 × 2\n",
       "\\begin{tabular}{r|ll}\n",
       "  & name & age\\\\\n",
       "  & <chr> & <dbl>\\\\\n",
       "\\hline\n",
       "\t1 & Carl  & 42\\\\\n",
       "\t2 & Diane & 40\\\\\n",
       "\\end{tabular}\n"
      ],
      "text/markdown": [
       "\n",
       "A data.frame: 2 × 2\n",
       "\n",
       "| <!--/--> | name &lt;chr&gt; | age &lt;dbl&gt; |\n",
       "|---|---|---|\n",
       "| 1 | Carl  | 42 |\n",
       "| 2 | Diane | 40 |\n",
       "\n"
      ],
      "text/plain": [
       "  name  age\n",
       "1 Carl  42 \n",
       "2 Diane 40 "
      ]
     },
     "metadata": {},
     "output_type": "display_data"
    }
   ],
   "source": [
    "# Return the first two rows of the columns named \"name\" and \"age\":\n",
    "\n",
    "df[1:2, c(\"name\", \"age\")]"
   ]
  },
  {
   "cell_type": "code",
   "execution_count": 95,
   "id": "de633138",
   "metadata": {
    "id": "de633138"
   },
   "outputs": [
    {
     "data": {
      "text/html": [
       "<table class=\"dataframe\">\n",
       "<caption>A data.frame: 2 × 2</caption>\n",
       "<thead>\n",
       "\t<tr><th></th><th scope=col>name</th><th scope=col>age</th></tr>\n",
       "\t<tr><th></th><th scope=col>&lt;chr&gt;</th><th scope=col>&lt;dbl&gt;</th></tr>\n",
       "</thead>\n",
       "<tbody>\n",
       "\t<tr><th scope=row>1</th><td>Carl </td><td>42</td></tr>\n",
       "\t<tr><th scope=row>2</th><td>Diane</td><td>40</td></tr>\n",
       "</tbody>\n",
       "</table>\n"
      ],
      "text/latex": [
       "A data.frame: 2 × 2\n",
       "\\begin{tabular}{r|ll}\n",
       "  & name & age\\\\\n",
       "  & <chr> & <dbl>\\\\\n",
       "\\hline\n",
       "\t1 & Carl  & 42\\\\\n",
       "\t2 & Diane & 40\\\\\n",
       "\\end{tabular}\n"
      ],
      "text/markdown": [
       "\n",
       "A data.frame: 2 × 2\n",
       "\n",
       "| <!--/--> | name &lt;chr&gt; | age &lt;dbl&gt; |\n",
       "|---|---|---|\n",
       "| 1 | Carl  | 42 |\n",
       "| 2 | Diane | 40 |\n",
       "\n"
      ],
      "text/plain": [
       "  name  age\n",
       "1 Carl  42 \n",
       "2 Diane 40 "
      ]
     },
     "metadata": {},
     "output_type": "display_data"
    }
   ],
   "source": [
    "# Another way to return the same values as above.\n",
    "# Return all rows except the third through the fifth, and all columns except the third one:\n",
    "\n",
    "df[-3:-5, -3]"
   ]
  },
  {
   "cell_type": "markdown",
   "id": "27ff4811",
   "metadata": {
    "id": "27ff4811"
   },
   "source": [
    "#### Logical subsetting\n",
    "A logical expression is a question and can only return TRUE or FALSE."
   ]
  },
  {
   "cell_type": "code",
   "execution_count": 96,
   "id": "eaaa8747",
   "metadata": {
    "id": "eaaa8747"
   },
   "outputs": [
    {
     "data": {
      "text/html": [
       "<style>\n",
       ".list-inline {list-style: none; margin:0; padding: 0}\n",
       ".list-inline>li {display: inline-block}\n",
       ".list-inline>li:not(:last-child)::after {content: \"\\00b7\"; padding: 0 .5ex}\n",
       "</style>\n",
       "<ol class=list-inline><li>FALSE</li><li>FALSE</li><li>TRUE</li><li>TRUE</li><li>TRUE</li></ol>\n"
      ],
      "text/latex": [
       "\\begin{enumerate*}\n",
       "\\item FALSE\n",
       "\\item FALSE\n",
       "\\item TRUE\n",
       "\\item TRUE\n",
       "\\item TRUE\n",
       "\\end{enumerate*}\n"
      ],
      "text/markdown": [
       "1. FALSE\n",
       "2. FALSE\n",
       "3. TRUE\n",
       "4. TRUE\n",
       "5. TRUE\n",
       "\n",
       "\n"
      ],
      "text/plain": [
       "[1] FALSE FALSE  TRUE  TRUE  TRUE"
      ]
     },
     "metadata": {},
     "output_type": "display_data"
    }
   ],
   "source": [
    "# Here, you are asking each value in the column \"age\" if it is less than 18:\n",
    "\n",
    "df$age < 18"
   ]
  },
  {
   "cell_type": "code",
   "execution_count": 97,
   "id": "2ea1a317",
   "metadata": {
    "id": "2ea1a317"
   },
   "outputs": [
    {
     "data": {
      "text/html": [
       "<table class=\"dataframe\">\n",
       "<caption>A data.frame: 3 × 2</caption>\n",
       "<thead>\n",
       "\t<tr><th></th><th scope=col>age</th><th scope=col>name</th></tr>\n",
       "\t<tr><th></th><th scope=col>&lt;dbl&gt;</th><th scope=col>&lt;chr&gt;</th></tr>\n",
       "</thead>\n",
       "<tbody>\n",
       "\t<tr><th scope=row>3</th><td>17</td><td>Sally</td></tr>\n",
       "\t<tr><th scope=row>4</th><td>14</td><td>Ben  </td></tr>\n",
       "\t<tr><th scope=row>5</th><td>12</td><td>Kimmy</td></tr>\n",
       "</tbody>\n",
       "</table>\n"
      ],
      "text/latex": [
       "A data.frame: 3 × 2\n",
       "\\begin{tabular}{r|ll}\n",
       "  & age & name\\\\\n",
       "  & <dbl> & <chr>\\\\\n",
       "\\hline\n",
       "\t3 & 17 & Sally\\\\\n",
       "\t4 & 14 & Ben  \\\\\n",
       "\t5 & 12 & Kimmy\\\\\n",
       "\\end{tabular}\n"
      ],
      "text/markdown": [
       "\n",
       "A data.frame: 3 × 2\n",
       "\n",
       "| <!--/--> | age &lt;dbl&gt; | name &lt;chr&gt; |\n",
       "|---|---|---|\n",
       "| 3 | 17 | Sally |\n",
       "| 4 | 14 | Ben   |\n",
       "| 5 | 12 | Kimmy |\n",
       "\n"
      ],
      "text/plain": [
       "  age name \n",
       "3 17  Sally\n",
       "4 14  Ben  \n",
       "5 12  Kimmy"
      ]
     },
     "metadata": {},
     "output_type": "display_data"
    }
   ],
   "source": [
    "# By placing the logical expression from above within the square brackets of the data frame, \n",
    "# only the TRUE rows will be returned.\n",
    "\n",
    "\n",
    "# Return the rows where the column \"age\" is less than 18, and return the columns \"age\" and \"name\": \n",
    "\n",
    "df[df$age < 18, c(\"age\", \"name\")]"
   ]
  },
  {
   "cell_type": "markdown",
   "id": "b10d0e72",
   "metadata": {
    "id": "b10d0e72"
   },
   "source": [
    "<div class=\"alert alert-block alert-success\">\n",
    "<b>Note:</b> A logical expression can only return TRUE or FALSE. By placing a logical expression within the square brackets following a data frame, only the rows that are TRUE will be returned. Using logical expressions is primarily how you will explore and wrangle your data.\n",
    "</div>"
   ]
  },
  {
   "cell_type": "markdown",
   "id": "c17e2a53",
   "metadata": {
    "id": "c17e2a53"
   },
   "source": [
    "#### Compound operation"
   ]
  },
  {
   "cell_type": "code",
   "execution_count": 98,
   "id": "9e4754df",
   "metadata": {
    "id": "9e4754df"
   },
   "outputs": [
    {
     "data": {
      "text/html": [
       "<style>\n",
       ".list-inline {list-style: none; margin:0; padding: 0}\n",
       ".list-inline>li {display: inline-block}\n",
       ".list-inline>li:not(:last-child)::after {content: \"\\00b7\"; padding: 0 .5ex}\n",
       "</style>\n",
       "<ol class=list-inline><li>FALSE</li><li>FALSE</li><li>TRUE</li><li>FALSE</li><li>TRUE</li></ol>\n"
      ],
      "text/latex": [
       "\\begin{enumerate*}\n",
       "\\item FALSE\n",
       "\\item FALSE\n",
       "\\item TRUE\n",
       "\\item FALSE\n",
       "\\item TRUE\n",
       "\\end{enumerate*}\n"
      ],
      "text/markdown": [
       "1. FALSE\n",
       "2. FALSE\n",
       "3. TRUE\n",
       "4. FALSE\n",
       "5. TRUE\n",
       "\n",
       "\n"
      ],
      "text/plain": [
       "[1] FALSE FALSE  TRUE FALSE  TRUE"
      ]
     },
     "metadata": {},
     "output_type": "display_data"
    }
   ],
   "source": [
    "# Here, you are asking the data frame which rows have an \"age\" less than 18 AND a \"sex\" equivalent to \"Female\":\n",
    "(df$age<18) & (df$sex==\"Female\")"
   ]
  },
  {
   "cell_type": "code",
   "execution_count": 99,
   "id": "175df1c5",
   "metadata": {
    "id": "175df1c5"
   },
   "outputs": [
    {
     "data": {
      "text/html": [
       "<table class=\"dataframe\">\n",
       "<caption>A data.frame: 2 × 3</caption>\n",
       "<thead>\n",
       "\t<tr><th></th><th scope=col>name</th><th scope=col>age</th><th scope=col>sex</th></tr>\n",
       "\t<tr><th></th><th scope=col>&lt;chr&gt;</th><th scope=col>&lt;dbl&gt;</th><th scope=col>&lt;chr&gt;</th></tr>\n",
       "</thead>\n",
       "<tbody>\n",
       "\t<tr><th scope=row>3</th><td>Sally</td><td>17</td><td>Female</td></tr>\n",
       "\t<tr><th scope=row>5</th><td>Kimmy</td><td>12</td><td>Female</td></tr>\n",
       "</tbody>\n",
       "</table>\n"
      ],
      "text/latex": [
       "A data.frame: 2 × 3\n",
       "\\begin{tabular}{r|lll}\n",
       "  & name & age & sex\\\\\n",
       "  & <chr> & <dbl> & <chr>\\\\\n",
       "\\hline\n",
       "\t3 & Sally & 17 & Female\\\\\n",
       "\t5 & Kimmy & 12 & Female\\\\\n",
       "\\end{tabular}\n"
      ],
      "text/markdown": [
       "\n",
       "A data.frame: 2 × 3\n",
       "\n",
       "| <!--/--> | name &lt;chr&gt; | age &lt;dbl&gt; | sex &lt;chr&gt; |\n",
       "|---|---|---|---|\n",
       "| 3 | Sally | 17 | Female |\n",
       "| 5 | Kimmy | 12 | Female |\n",
       "\n"
      ],
      "text/plain": [
       "  name  age sex   \n",
       "3 Sally 17  Female\n",
       "5 Kimmy 12  Female"
      ]
     },
     "metadata": {},
     "output_type": "display_data"
    }
   ],
   "source": [
    "# By placing the logical expression from above between the square brackets of the data frame,\n",
    "# you will return the rows where \"age\" is less than 18 AND \"sex\" is \"Female\", and all of the columns: \n",
    "\n",
    "df <- data.frame(name=c(\"Carl\",\"Diane\",\"Sally\",\"Ben\",\"Kimmy\"),\n",
    "                 age=c(42,40,17,14,12),\n",
    "                 sex=c(\"Male\",\"Female\",\"Female\",\"Male\",\"Female\"))\n",
    "\n",
    "df[(df$age<18) & (df$sex==\"Female\"), ]"
   ]
  },
  {
   "cell_type": "markdown",
   "id": "53be633e",
   "metadata": {
    "id": "53be633e"
   },
   "source": [
    "### ✅ Exercise 7\n",
    "\n",
    "From the following data frame, select only the rows where \"age\" is over 30 and \"sex\" is \"Male\", and return only the columns \"age\" and \"sex\"."
   ]
  },
  {
   "cell_type": "code",
   "execution_count": 100,
   "id": "9e3f6dbe",
   "metadata": {
    "id": "9e3f6dbe"
   },
   "outputs": [
    {
     "data": {
      "text/html": [
       "<table class=\"dataframe\">\n",
       "<caption>A data.frame: 1 × 2</caption>\n",
       "<thead>\n",
       "\t<tr><th></th><th scope=col>age</th><th scope=col>sex</th></tr>\n",
       "\t<tr><th></th><th scope=col>&lt;dbl&gt;</th><th scope=col>&lt;chr&gt;</th></tr>\n",
       "</thead>\n",
       "<tbody>\n",
       "\t<tr><th scope=row>1</th><td>42</td><td>Male</td></tr>\n",
       "</tbody>\n",
       "</table>\n"
      ],
      "text/latex": [
       "A data.frame: 1 × 2\n",
       "\\begin{tabular}{r|ll}\n",
       "  & age & sex\\\\\n",
       "  & <dbl> & <chr>\\\\\n",
       "\\hline\n",
       "\t1 & 42 & Male\\\\\n",
       "\\end{tabular}\n"
      ],
      "text/markdown": [
       "\n",
       "A data.frame: 1 × 2\n",
       "\n",
       "| <!--/--> | age &lt;dbl&gt; | sex &lt;chr&gt; |\n",
       "|---|---|---|\n",
       "| 1 | 42 | Male |\n",
       "\n"
      ],
      "text/plain": [
       "  age sex \n",
       "1 42  Male"
      ]
     },
     "metadata": {},
     "output_type": "display_data"
    }
   ],
   "source": [
    "df[(df$age > 30) & (df$sex ==\"Male\"), c(\"age\", \"sex\")]"
   ]
  },
  {
   "cell_type": "markdown",
   "id": "75f23a99",
   "metadata": {
    "id": "75f23a99"
   },
   "source": [
    "---"
   ]
  },
  {
   "cell_type": "markdown",
   "id": "47aeb7ae",
   "metadata": {
    "id": "47aeb7ae"
   },
   "source": [
    "# 🌟 Ready for the next one?\n",
    "<br>\n",
    "\n",
    "- [**Lesson 3: Importing Data**](Lesson_3_Importing_Data.ipynb)\n",
    "\n",
    "- [**Lesson 4: Conditionals and Loops**](Lesson_4_Conditionals_and_Loops.ipynb)\n",
    "\n",
    "- [**Lesson 5: Functions**](Lesson_5_Functions.ipynb)"
   ]
  },
  {
   "cell_type": "markdown",
   "id": "a078eea4",
   "metadata": {
    "id": "a078eea4"
   },
   "source": [
    "---"
   ]
  },
  {
   "cell_type": "markdown",
   "id": "6417d0b1",
   "metadata": {
    "id": "6417d0b1"
   },
   "source": [
    "# Contributions & acknowledgment"
   ]
  },
  {
   "cell_type": "markdown",
   "id": "f8a28fa0",
   "metadata": {
    "id": "f8a28fa0"
   },
   "source": [
    "Thanks Antony Ross for contributing the content for this notebook."
   ]
  },
  {
   "cell_type": "markdown",
   "id": "d366f518",
   "metadata": {
    "id": "d366f518"
   },
   "source": [
    "---"
   ]
  },
  {
   "cell_type": "markdown",
   "id": "8e2cf8c6",
   "metadata": {
    "id": "8e2cf8c6"
   },
   "source": [
    "Copyright (c) 2022 Stanford Data Ocean (SDO)\n",
    "\n",
    "All rights reserved."
   ]
  }
 ],
 "metadata": {
  "colab": {
   "provenance": []
  },
  "kernelspec": {
   "display_name": "R",
   "language": "R",
   "name": "ir"
  },
  "language_info": {
   "codemirror_mode": "r",
   "file_extension": ".r",
   "mimetype": "text/x-r-source",
   "name": "R",
   "pygments_lexer": "r",
   "version": "4.2.2"
  }
 },
 "nbformat": 4,
 "nbformat_minor": 5
}
